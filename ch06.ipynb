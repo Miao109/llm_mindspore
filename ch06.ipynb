{
 "cells": [
  {
   "cell_type": "code",
   "execution_count": 1,
   "metadata": {},
   "outputs": [
    {
     "name": "stdout",
     "output_type": "stream",
     "text": [
      "MindSpore version:  2.1.0\n",
      "The result of multiplication calculation is correct, MindSpore has been installed on platform [Ascend] successfully!\n"
     ]
    }
   ],
   "source": [
    "import mindspore\n",
    "# mindspore.set_context(device_target='CPU')\n",
    "# mindspore.set_context(device_target='GPU')\n",
    "mindspore.set_context(device_target=\"Ascend\")\n",
    "mindspore.set_context(device_id=0)\n",
    "mindspore.run_check()"
   ]
  },
  {
   "cell_type": "markdown",
   "metadata": {},
   "source": [
    "# 6 微调\n",
    "\n",
    "微调（Fine-tuning）是指在预训练模型的基础上，针对特定任务进行额外训练的过程。通过微调，我们可以使预训练模型适应特定领域的任务，提高模型在这些任务上的表现，而无需从头开始训练一个新模型。\n",
    "\n",
    "<img src=\"./images_llm/fig6.1.svg\" width=\"600\">"
   ]
  },
  {
   "cell_type": "markdown",
   "metadata": {},
   "source": [
    "## 6.1 分类微调\n",
    "\n",
    "在大语言模型领域，最常见的微调方法是指令微调和分类微调。\n",
    "\n",
    "指令微调（Instruction Fine-tuning）是通过一组任务，使用特定指令来训练语言模型，从而提高其理解和执行自然语言提示中所描述任务的能力。这种方法使模型能够理解并执行用户以指令形式提出的各种任务。\n",
    "\n",
    "<img src=\"./images_llm/fig6.2.svg\" width=\"600\">\n",
    "\n",
    "分类微调（Classification Fine-tuning）是将预训练语言模型针对具体分类任务进行调整的过程。通过添加一个分类头（通常是一个简单的线性层），并使用带有标签的训练数据，模型学习将文本映射到特定类别。\n",
    "\n",
    "<img src=\"./images_llm/fig6.3.svg\" width=\"500\">\n",
    "\n",
    "在本章中，我们将重点关注分类微调，并演示如何将预训练的大语言模型微调为一个垃圾邮件分类器。"
   ]
  },
  {
   "cell_type": "markdown",
   "metadata": {},
   "source": [
    "## 6.2 数据准备\n",
    "\n",
    "\n",
    "数据准备是微调过程中的关键步骤。我们需要收集、整理和预处理适合目标任务的数据，以便模型能够有效学习。\n",
    "\n",
    "<img src=\"./images_llm/fig6.4.svg\" width=\"600\">"
   ]
  },
  {
   "cell_type": "code",
   "execution_count": 2,
   "metadata": {
    "ExecuteTime": {
     "end_time": "2025-02-10T10:29:05.140382Z",
     "start_time": "2025-02-10T10:29:05.120299Z"
    }
   },
   "outputs": [
    {
     "name": "stdout",
     "output_type": "stream",
     "text": [
      "sms_spam_collection/SMSSpamCollection.tsv already exists. Skipping download and extraction.\n"
     ]
    }
   ],
   "source": [
    "import urllib.request\n",
    "import zipfile\n",
    "import os\n",
    "from pathlib import Path\n",
    "\n",
    "url = \"https://archive.ics.uci.edu/static/public/228/sms+spam+collection.zip\"\n",
    "zip_path = \"sms_spam_collection.zip\"\n",
    "extracted_path = \"sms_spam_collection\"\n",
    "data_file_path = Path(extracted_path) / \"SMSSpamCollection.tsv\"\n",
    "\n",
    "def download_and_unzip_spam_data(url, zip_path, extracted_path, data_file_path):\n",
    "    if data_file_path.exists():\n",
    "        print(f\"{data_file_path} already exists. Skipping download and extraction.\")\n",
    "        return\n",
    "\n",
    "    # Downloading the file\n",
    "    with urllib.request.urlopen(url) as response:\n",
    "        with open(zip_path, \"wb\") as out_file:\n",
    "            out_file.write(response.read())\n",
    "\n",
    "    # Unzipping the file\n",
    "    with zipfile.ZipFile(zip_path, \"r\") as zip_ref:\n",
    "        zip_ref.extractall(extracted_path)\n",
    "\n",
    "    # Add .tsv file extension\n",
    "    original_file_path = Path(extracted_path) / \"SMSSpamCollection\"\n",
    "    os.rename(original_file_path, data_file_path)\n",
    "    print(f\"File downloaded and saved as {data_file_path}\")\n",
    "\n",
    "download_and_unzip_spam_data(url, zip_path, extracted_path, data_file_path)"
   ]
  },
  {
   "cell_type": "code",
   "execution_count": 3,
   "metadata": {
    "ExecuteTime": {
     "end_time": "2025-02-10T10:29:07.246954Z",
     "start_time": "2025-02-10T10:29:05.151454Z"
    }
   },
   "outputs": [],
   "source": [
    "#! pip install pandas"
   ]
  },
  {
   "cell_type": "code",
   "execution_count": 4,
   "metadata": {
    "ExecuteTime": {
     "end_time": "2025-02-10T10:29:07.905904Z",
     "start_time": "2025-02-10T10:29:07.437678Z"
    }
   },
   "outputs": [
    {
     "data": {
      "text/html": [
       "<div>\n",
       "<style scoped>\n",
       "    .dataframe tbody tr th:only-of-type {\n",
       "        vertical-align: middle;\n",
       "    }\n",
       "\n",
       "    .dataframe tbody tr th {\n",
       "        vertical-align: top;\n",
       "    }\n",
       "\n",
       "    .dataframe thead th {\n",
       "        text-align: right;\n",
       "    }\n",
       "</style>\n",
       "<table border=\"1\" class=\"dataframe\">\n",
       "  <thead>\n",
       "    <tr style=\"text-align: right;\">\n",
       "      <th></th>\n",
       "      <th>Label</th>\n",
       "      <th>Text</th>\n",
       "    </tr>\n",
       "  </thead>\n",
       "  <tbody>\n",
       "    <tr>\n",
       "      <th>0</th>\n",
       "      <td>ham</td>\n",
       "      <td>Go until jurong point, crazy.. Available only ...</td>\n",
       "    </tr>\n",
       "    <tr>\n",
       "      <th>1</th>\n",
       "      <td>ham</td>\n",
       "      <td>Ok lar... Joking wif u oni...</td>\n",
       "    </tr>\n",
       "    <tr>\n",
       "      <th>2</th>\n",
       "      <td>spam</td>\n",
       "      <td>Free entry in 2 a wkly comp to win FA Cup fina...</td>\n",
       "    </tr>\n",
       "    <tr>\n",
       "      <th>3</th>\n",
       "      <td>ham</td>\n",
       "      <td>U dun say so early hor... U c already then say...</td>\n",
       "    </tr>\n",
       "    <tr>\n",
       "      <th>4</th>\n",
       "      <td>ham</td>\n",
       "      <td>Nah I don't think he goes to usf, he lives aro...</td>\n",
       "    </tr>\n",
       "  </tbody>\n",
       "</table>\n",
       "</div>"
      ],
      "text/plain": [
       "  Label                                               Text\n",
       "0   ham  Go until jurong point, crazy.. Available only ...\n",
       "1   ham                      Ok lar... Joking wif u oni...\n",
       "2  spam  Free entry in 2 a wkly comp to win FA Cup fina...\n",
       "3   ham  U dun say so early hor... U c already then say...\n",
       "4   ham  Nah I don't think he goes to usf, he lives aro..."
      ]
     },
     "execution_count": 4,
     "metadata": {},
     "output_type": "execute_result"
    }
   ],
   "source": [
    "import pandas as pd\n",
    "\n",
    "df = pd.read_csv(data_file_path, sep=\"\\t\", header=None, names=[\"Label\", \"Text\"])\n",
    "df.head()"
   ]
  },
  {
   "cell_type": "markdown",
   "metadata": {},
   "source": [
    "我们可以看到，该数据集包含了5,572条短信记录，每条记录都被标记为\"ham\"（正常短信）或\"spam\"（垃圾短信）。我们首先检查一下两个类别的分布情况："
   ]
  },
  {
   "cell_type": "code",
   "execution_count": 5,
   "metadata": {
    "ExecuteTime": {
     "end_time": "2025-02-10T10:29:07.983091Z",
     "start_time": "2025-02-10T10:29:07.969474Z"
    }
   },
   "outputs": [
    {
     "name": "stdout",
     "output_type": "stream",
     "text": [
      "ham     4825\n",
      "spam     747\n",
      "Name: Label, dtype: int64\n"
     ]
    }
   ],
   "source": [
    "print(df[\"Label\"].value_counts())"
   ]
  },
  {
   "cell_type": "markdown",
   "metadata": {},
   "source": [
    "数据集中存在类别不平衡的问题，\"ham\"类别有4,825条记录，而\"spam\"类别只有747条记录。为了避免模型偏向多数类别，我们需要对数据集进行欠采样处理，确保每个类别均包含747个实例："
   ]
  },
  {
   "cell_type": "code",
   "execution_count": 6,
   "metadata": {
    "ExecuteTime": {
     "end_time": "2025-02-10T10:29:08.265050Z",
     "start_time": "2025-02-10T10:29:08.238651Z"
    }
   },
   "outputs": [
    {
     "name": "stdout",
     "output_type": "stream",
     "text": [
      "spam    747\n",
      "ham     747\n",
      "Name: Label, dtype: int64\n"
     ]
    }
   ],
   "source": [
    "def create_balanced_dataset(df):\n",
    "    \n",
    "    # Count the instances of \"spam\"\n",
    "    num_spam = df[df[\"Label\"] == \"spam\"].shape[0]\n",
    "    \n",
    "    # Randomly sample \"ham\" instances to match the number of \"spam\" instances\n",
    "    ham_subset = df[df[\"Label\"] == \"ham\"].sample(num_spam, random_state=123)\n",
    "    \n",
    "    # Combine ham \"subset\" with \"spam\"\n",
    "    balanced_df = pd.concat([ham_subset, df[df[\"Label\"] == \"spam\"]])\n",
    "\n",
    "    return balanced_df\n",
    "\n",
    "\n",
    "balanced_df = create_balanced_dataset(df)\n",
    "print(balanced_df[\"Label\"].value_counts())"
   ]
  },
  {
   "cell_type": "markdown",
   "metadata": {},
   "source": [
    "接下来，我们将字符串标签\"ham\"和\"spam\"转换为整数标签 0 和 1，这样更适合机器学习模型处理："
   ]
  },
  {
   "cell_type": "code",
   "execution_count": 7,
   "metadata": {
    "ExecuteTime": {
     "end_time": "2025-02-10T10:29:08.577371Z",
     "start_time": "2025-02-10T10:29:08.555170Z"
    }
   },
   "outputs": [],
   "source": [
    "balanced_df[\"Label\"] = balanced_df[\"Label\"].map({\"ham\": 0, \"spam\": 1})  "
   ]
  },
  {
   "cell_type": "code",
   "execution_count": 8,
   "metadata": {
    "ExecuteTime": {
     "end_time": "2025-02-10T10:29:08.625078Z",
     "start_time": "2025-02-10T10:29:08.612076Z"
    }
   },
   "outputs": [
    {
     "data": {
      "text/html": [
       "<div>\n",
       "<style scoped>\n",
       "    .dataframe tbody tr th:only-of-type {\n",
       "        vertical-align: middle;\n",
       "    }\n",
       "\n",
       "    .dataframe tbody tr th {\n",
       "        vertical-align: top;\n",
       "    }\n",
       "\n",
       "    .dataframe thead th {\n",
       "        text-align: right;\n",
       "    }\n",
       "</style>\n",
       "<table border=\"1\" class=\"dataframe\">\n",
       "  <thead>\n",
       "    <tr style=\"text-align: right;\">\n",
       "      <th></th>\n",
       "      <th>Label</th>\n",
       "      <th>Text</th>\n",
       "    </tr>\n",
       "  </thead>\n",
       "  <tbody>\n",
       "    <tr>\n",
       "      <th>4307</th>\n",
       "      <td>0</td>\n",
       "      <td>Awww dat is sweet! We can think of something t...</td>\n",
       "    </tr>\n",
       "    <tr>\n",
       "      <th>4138</th>\n",
       "      <td>0</td>\n",
       "      <td>Just got to  &amp;lt;#&amp;gt;</td>\n",
       "    </tr>\n",
       "    <tr>\n",
       "      <th>4831</th>\n",
       "      <td>0</td>\n",
       "      <td>The word \"Checkmate\" in chess comes from the P...</td>\n",
       "    </tr>\n",
       "    <tr>\n",
       "      <th>4461</th>\n",
       "      <td>0</td>\n",
       "      <td>This is wishing you a great day. Moji told me ...</td>\n",
       "    </tr>\n",
       "    <tr>\n",
       "      <th>5440</th>\n",
       "      <td>0</td>\n",
       "      <td>Thank you. do you generally date the brothas?</td>\n",
       "    </tr>\n",
       "  </tbody>\n",
       "</table>\n",
       "</div>"
      ],
      "text/plain": [
       "      Label                                               Text\n",
       "4307      0  Awww dat is sweet! We can think of something t...\n",
       "4138      0                             Just got to  &lt;#&gt;\n",
       "4831      0  The word \"Checkmate\" in chess comes from the P...\n",
       "4461      0  This is wishing you a great day. Moji told me ...\n",
       "5440      0      Thank you. do you generally date the brothas?"
      ]
     },
     "execution_count": 8,
     "metadata": {},
     "output_type": "execute_result"
    }
   ],
   "source": [
    "balanced_df.head()"
   ]
  },
  {
   "cell_type": "markdown",
   "metadata": {},
   "source": [
    "然后，我们创建一个 random_split 函数将数据集分成三部分：70％用于训练，10％用于验证，20％用于测试。这样的划分可以确保我们有足够的数据来训练模型，同时保留一部分数据用于验证模型表现和最终测试评估。"
   ]
  },
  {
   "cell_type": "code",
   "execution_count": 9,
   "metadata": {
    "ExecuteTime": {
     "end_time": "2025-02-10T10:29:08.735141Z",
     "start_time": "2025-02-10T10:29:08.704033Z"
    }
   },
   "outputs": [],
   "source": [
    "def random_split(df, train_frac, validation_frac):\n",
    "    # Shuffle the entire DataFrame\n",
    "    df = df.sample(frac=1, random_state=123).reset_index(drop=True)\n",
    "\n",
    "    # Calculate split indices\n",
    "    train_end = int(len(df) * train_frac)\n",
    "    validation_end = train_end + int(len(df) * validation_frac)\n",
    "\n",
    "    # Split the DataFrame\n",
    "    train_df = df[:train_end]\n",
    "    validation_df = df[train_end:validation_end]\n",
    "    test_df = df[validation_end:]\n",
    "\n",
    "    return train_df, validation_df, test_df\n",
    "\n",
    "train_df, validation_df, test_df = random_split(balanced_df, 0.7, 0.1)\n",
    "# Test size is implied to be 0.2 as the remainder\n",
    "\n",
    "train_df.to_csv(\"train.csv\", index=None)\n",
    "validation_df.to_csv(\"validation.csv\", index=None)\n",
    "test_df.to_csv(\"test.csv\", index=None)"
   ]
  },
  {
   "cell_type": "markdown",
   "metadata": {},
   "source": [
    "## 6.3 数据加载器\n",
    "\n",
    "在处理文本数据时，我们面临一个常见的挑战：文本长度不一致。为了能够高效地进行批处理，我们需要统一每个批次中文本的长度。\n",
    "\n",
    "我们当前处理的文本消息长度各不相同。要像处理固定大小的文本块那样对这些消息进行批处理，我们有两种选择：\n",
    "\n",
    "- 将所有消息截断为数据集或批次中最短消息的长度。\n",
    "- 将所有消息填充为数据集或批次中最长消息的长度。\n",
    "\n",
    "第一种方案操作相对简单，但缺点是可能会丢失较长消息中的部分信息，因为截断操作会把超过最短长度的部分直接删除。因此，我们倾向于选择第二种方案，即保留消息的全部内容，以确保信息的完整性。第二种方案需要为较短的消息添加填充标记。这里使用的填充标记是 \"<|endoftext|>\"。\n",
    "\n",
    "<img src=\"./images_llm/fig6.5.svg\" width=\"600\">\n"
   ]
  },
  {
   "cell_type": "markdown",
   "metadata": {},
   "source": [
    "我们首先检查这个标记在GPT-2词汇表中的ID："
   ]
  },
  {
   "cell_type": "code",
   "execution_count": 10,
   "metadata": {
    "ExecuteTime": {
     "end_time": "2025-02-10T10:29:09.677583Z",
     "start_time": "2025-02-10T10:29:08.991898Z"
    }
   },
   "outputs": [
    {
     "name": "stderr",
     "output_type": "stream",
     "text": [
      "None of PyTorch, TensorFlow >= 2.0, or Flax have been found. Models won't be available and only tokenizers, configuration and file/data utilities can be used.\n",
      "Keyword arguments {'allowed_special': {'<|endoftext|>'}} not recognized.\n"
     ]
    },
    {
     "name": "stdout",
     "output_type": "stream",
     "text": [
      "[50256]\n"
     ]
    }
   ],
   "source": [
    "from transformers import GPT2Tokenizer\n",
    "# 指定本地词汇表文件所在的目录路径\n",
    "local_path = \"./gpt2-tokenizer\"\n",
    "\n",
    "# 从本地路径加载GPT - 2分词器\n",
    "tokenizer = GPT2Tokenizer.from_pretrained(local_path)\n",
    "print(tokenizer.encode(\"<|endoftext|>\", allowed_special={\"<|endoftext|>\"}))"
   ]
  },
  {
   "cell_type": "markdown",
   "metadata": {},
   "source": [
    "接下来，我们基于上述概念定义SpamDataset类。该类的关键职责包括：识别训练数据集中最长的序列、对文本消息进行编码、对序列进行填充，确保所有输入数据都具有相同的长度。"
   ]
  },
  {
   "cell_type": "code",
   "execution_count": 11,
   "metadata": {
    "ExecuteTime": {
     "end_time": "2025-02-10T10:29:11.583411Z",
     "start_time": "2025-02-10T10:29:09.683600Z"
    }
   },
   "outputs": [],
   "source": [
    "import mindspore\n",
    "from mindspore.dataset import GeneratorDataset\n",
    "from mindspore import Tensor\n",
    "\n",
    "class SpamDataset:\n",
    "    def __init__(self, csv_file, tokenizer, max_length=None, pad_token_id=50256):\n",
    "        self.data = pd.read_csv(csv_file)\n",
    "\n",
    "        # Pre-tokenize texts\n",
    "        self.encoded_texts = [\n",
    "            tokenizer.encode(text) for text in self.data[\"Text\"]\n",
    "        ]\n",
    "\n",
    "        if max_length is None:\n",
    "            self.max_length = self._longest_encoded_length()\n",
    "        else:\n",
    "            self.max_length = max_length\n",
    "            # Truncate sequences if they are longer than max_length\n",
    "            self.encoded_texts = [\n",
    "                encoded_text[:self.max_length]\n",
    "                for encoded_text in self.encoded_texts\n",
    "            ]\n",
    "\n",
    "        # Pad sequences to the longest sequence\n",
    "        self.encoded_texts = [\n",
    "            encoded_text + [pad_token_id] * (self.max_length - len(encoded_text))\n",
    "            for encoded_text in self.encoded_texts\n",
    "        ]\n",
    "\n",
    "    def __getitem__(self, index):\n",
    "        encoded = self.encoded_texts[index]\n",
    "        label = self.data.iloc[index][\"Label\"]\n",
    "        return (\n",
    "            # Tensor(encoded, dtype=mindspore.int64),\n",
    "            # Tensor(label, dtype=mindspore.int64)\n",
    "            encoded, label\n",
    "        )\n",
    "\n",
    "    def __len__(self):\n",
    "        return len(self.data)\n",
    "\n",
    "    def _longest_encoded_length(self):\n",
    "        max_length = 0\n",
    "        for encoded_text in self.encoded_texts:\n",
    "            encoded_length = len(encoded_text)\n",
    "            if encoded_length > max_length:\n",
    "                max_length = encoded_length\n",
    "        return max_length\n",
    "        # Note: A more pythonic version to implement this method\n",
    "        # is the following, which is also used in the next chapter:\n",
    "        # return max(len(encoded_text) for encoded_text in self.encoded_texts)"
   ]
  },
  {
   "cell_type": "markdown",
   "metadata": {},
   "source": [
    "创建训练数据集实例，并获取数据集中最长序列的长度："
   ]
  },
  {
   "cell_type": "code",
   "execution_count": 12,
   "metadata": {
    "ExecuteTime": {
     "end_time": "2025-02-10T10:29:11.646015Z",
     "start_time": "2025-02-10T10:29:11.600944Z"
    }
   },
   "outputs": [
    {
     "name": "stdout",
     "output_type": "stream",
     "text": [
      "120\n"
     ]
    }
   ],
   "source": [
    "train_dataset = SpamDataset(\n",
    "    csv_file=\"train.csv\",\n",
    "    max_length=None,\n",
    "    tokenizer=tokenizer\n",
    ")\n",
    "\n",
    "print(train_dataset.max_length)"
   ]
  },
  {
   "cell_type": "markdown",
   "metadata": {},
   "source": [
    "接下来，我们对验证集和测试集进行填充，使其长度与最长训练序列保持一致：\n"
   ]
  },
  {
   "cell_type": "code",
   "execution_count": 13,
   "metadata": {
    "ExecuteTime": {
     "end_time": "2025-02-10T10:29:11.709073Z",
     "start_time": "2025-02-10T10:29:11.663944Z"
    }
   },
   "outputs": [],
   "source": [
    "val_dataset = SpamDataset(\n",
    "    csv_file=\"validation.csv\",\n",
    "    max_length=train_dataset.max_length,\n",
    "    tokenizer=tokenizer\n",
    ")\n",
    "test_dataset = SpamDataset(\n",
    "    csv_file=\"test.csv\",\n",
    "    max_length=train_dataset.max_length,\n",
    "    tokenizer=tokenizer\n",
    ")"
   ]
  },
  {
   "cell_type": "markdown",
   "metadata": {},
   "source": [
    "如果设定批大小为8，那么每个批次将包含8个长度为120的训练样本，以及每个样本对应的类标签（0表示正常短信，1表示垃圾短信）。\n",
    "\n",
    "\n",
    "<img src=\"./images_llm/fig6.6.svg\" width=\"600\">"
   ]
  },
  {
   "cell_type": "code",
   "execution_count": 14,
   "metadata": {
    "ExecuteTime": {
     "end_time": "2025-02-10T10:29:11.740030Z",
     "start_time": "2025-02-10T10:29:11.725907Z"
    }
   },
   "outputs": [],
   "source": [
    "num_workers = 0\n",
    "batch_size = 8\n",
    "\n",
    "mindspore.set_seed(123)\n",
    "\n",
    "train_loader = GeneratorDataset(train_dataset, [\"input_ids\", \"target_ids\"], shuffle=True)\n",
    "train_loader = train_loader.batch(batch_size, drop_remainder=True)\n",
    "\n",
    "val_loader = GeneratorDataset(val_dataset, [\"input_ids\", \"target_ids\"], shuffle=True)\n",
    "val_loader = val_loader.batch(batch_size, drop_remainder=False)\n",
    "\n",
    "test_loader = GeneratorDataset(test_dataset, [\"input_ids\", \"target_ids\"], shuffle=True)\n",
    "test_loader = test_loader.batch(batch_size, drop_remainder=False)\n"
   ]
  },
  {
   "cell_type": "markdown",
   "metadata": {},
   "source": [
    "以下代码创建了训练集、验证集和测试集的数据加载器，并以每批8个样本的形式加载文本消息及其对应的标签："
   ]
  },
  {
   "cell_type": "code",
   "execution_count": 15,
   "metadata": {
    "ExecuteTime": {
     "end_time": "2025-02-10T10:29:11.977327Z",
     "start_time": "2025-02-10T10:29:11.757210Z"
    }
   },
   "outputs": [
    {
     "name": "stdout",
     "output_type": "stream",
     "text": [
      "Train loader:\n",
      "Input batch dimensions: (8, 120)\n",
      "Label batch dimensions (8,)\n"
     ]
    }
   ],
   "source": [
    "print(\"Train loader:\")\n",
    "for input_batch, target_batch in train_loader:\n",
    "    pass\n",
    "\n",
    "print(\"Input batch dimensions:\", input_batch.shape)\n",
    "print(\"Label batch dimensions\", target_batch.shape)"
   ]
  },
  {
   "cell_type": "code",
   "execution_count": 16,
   "metadata": {
    "ExecuteTime": {
     "end_time": "2025-02-10T10:29:12.008902Z",
     "start_time": "2025-02-10T10:29:11.995318Z"
    }
   },
   "outputs": [
    {
     "name": "stdout",
     "output_type": "stream",
     "text": [
      "130 training batches\n",
      "19 validation batches\n",
      "38 test batches\n"
     ]
    }
   ],
   "source": [
    "print(f\"{len(train_loader)} training batches\")\n",
    "print(f\"{len(val_loader)} validation batches\")\n",
    "print(f\"{len(test_loader)} test batches\")"
   ]
  },
  {
   "cell_type": "markdown",
   "metadata": {},
   "source": [
    "## 6.4 使用预训练权重初始化模型\n",
    "\n",
    "分类微调的一个关键优势是能够利用预训练模型已经学到的知识。我们将使用预训练的GPT-2模型作为起点，并在此基础上进行垃圾邮件分类任务的微调。"
   ]
  },
  {
   "cell_type": "markdown",
   "metadata": {},
   "source": [
    "<img src=\"./images_llm/fig6.7.svg\" width=\"600\">"
   ]
  },
  {
   "cell_type": "markdown",
   "metadata": {},
   "source": [
    "首先，我们定义模型的配置参数："
   ]
  },
  {
   "cell_type": "code",
   "execution_count": 17,
   "metadata": {
    "ExecuteTime": {
     "end_time": "2025-02-10T10:29:12.040967Z",
     "start_time": "2025-02-10T10:29:12.025833Z"
    }
   },
   "outputs": [],
   "source": [
    "CHOOSE_MODEL = \"gpt2-small (124M)\"\n",
    "INPUT_PROMPT = \"Every effort moves\"\n",
    "\n",
    "BASE_CONFIG = {\n",
    "    \"vocab_size\": 50257,     # Vocabulary size\n",
    "    \"context_length\": 1024,  # Context length\n",
    "    \"drop_rate\": 0.0,        # Dropout rate\n",
    "    \"qkv_bias\": True         # Query-key-value bias\n",
    "}\n",
    "\n",
    "model_configs = {\n",
    "    \"gpt2-small (124M)\": {\"emb_dim\": 768, \"n_layers\": 12, \"n_heads\": 12},\n",
    "    \"gpt2-medium (355M)\": {\"emb_dim\": 1024, \"n_layers\": 24, \"n_heads\": 16},\n",
    "    \"gpt2-large (774M)\": {\"emb_dim\": 1280, \"n_layers\": 36, \"n_heads\": 20},\n",
    "    \"gpt2-xl (1558M)\": {\"emb_dim\": 1600, \"n_layers\": 48, \"n_heads\": 25},\n",
    "}\n",
    "\n",
    "BASE_CONFIG.update(model_configs[CHOOSE_MODEL])\n",
    "\n",
    "assert train_dataset.max_length <= BASE_CONFIG[\"context_length\"], (\n",
    "    f\"Dataset length {train_dataset.max_length} exceeds model's context \"\n",
    "    f\"length {BASE_CONFIG['context_length']}. Reinitialize data sets with \"\n",
    "    f\"`max_length={BASE_CONFIG['context_length']}`\"\n",
    ")"
   ]
  },
  {
   "cell_type": "markdown",
   "metadata": {},
   "source": [
    "接下来，我们下载并加载预训练的GPT-2权重："
   ]
  },
  {
   "cell_type": "code",
   "execution_count": 18,
   "metadata": {
    "ExecuteTime": {
     "end_time": "2025-02-10T10:29:28.543600Z",
     "start_time": "2025-02-10T10:29:12.058958Z"
    }
   },
   "outputs": [
    {
     "name": "stderr",
     "output_type": "stream",
     "text": [
      "[WARNING] ME(215213:281473029364592,MainProcess):2025-03-13-20:08:09.427.058 [mindspore/nn/layer/basic.py:171] This parameter `dtype` will be deleted or invisible in the future. Please don't use it.\n"
     ]
    },
    {
     "data": {
      "text/plain": [
       "GPTModel<\n",
       "  (tok_emb): Embedding<vocab_size=50257, embedding_size=768, use_one_hot=False, embedding_table=Parameter (name=embedding_table, shape=(50257, 768), dtype=Float32, requires_grad=True), dtype=Float32, padding_idx=None>\n",
       "  (pos_emb): Embedding<vocab_size=1024, embedding_size=768, use_one_hot=False, embedding_table=Parameter (name=embedding_table, shape=(1024, 768), dtype=Float32, requires_grad=True), dtype=Float32, padding_idx=None>\n",
       "  (drop_emb): Dropout<p=0.0>\n",
       "  (trf_blocks): SequentialCell<\n",
       "    (0): TransformerBlock<\n",
       "      (att): MultiHeadAttention<\n",
       "        (W_query): Dense<input_channels=768, output_channels=768, has_bias=True>\n",
       "        (W_key): Dense<input_channels=768, output_channels=768, has_bias=True>\n",
       "        (W_value): Dense<input_channels=768, output_channels=768, has_bias=True>\n",
       "        (out_proj): Dense<input_channels=768, output_channels=768, has_bias=True>\n",
       "        (dropout): Dropout<p=0.0>\n",
       "        >\n",
       "      (ff): FeedForward<\n",
       "        (layers): SequentialCell<\n",
       "          (0): Dense<input_channels=768, output_channels=3072, has_bias=True>\n",
       "          (1): GELU<>\n",
       "          (2): Dense<input_channels=3072, output_channels=768, has_bias=True>\n",
       "          >\n",
       "        >\n",
       "      (norm1): LayerNorm<>\n",
       "      (norm2): LayerNorm<>\n",
       "      (drop_shortcut): Dropout<p=0.0>\n",
       "      >\n",
       "    (1): TransformerBlock<\n",
       "      (att): MultiHeadAttention<\n",
       "        (W_query): Dense<input_channels=768, output_channels=768, has_bias=True>\n",
       "        (W_key): Dense<input_channels=768, output_channels=768, has_bias=True>\n",
       "        (W_value): Dense<input_channels=768, output_channels=768, has_bias=True>\n",
       "        (out_proj): Dense<input_channels=768, output_channels=768, has_bias=True>\n",
       "        (dropout): Dropout<p=0.0>\n",
       "        >\n",
       "      (ff): FeedForward<\n",
       "        (layers): SequentialCell<\n",
       "          (0): Dense<input_channels=768, output_channels=3072, has_bias=True>\n",
       "          (1): GELU<>\n",
       "          (2): Dense<input_channels=3072, output_channels=768, has_bias=True>\n",
       "          >\n",
       "        >\n",
       "      (norm1): LayerNorm<>\n",
       "      (norm2): LayerNorm<>\n",
       "      (drop_shortcut): Dropout<p=0.0>\n",
       "      >\n",
       "    (2): TransformerBlock<\n",
       "      (att): MultiHeadAttention<\n",
       "        (W_query): Dense<input_channels=768, output_channels=768, has_bias=True>\n",
       "        (W_key): Dense<input_channels=768, output_channels=768, has_bias=True>\n",
       "        (W_value): Dense<input_channels=768, output_channels=768, has_bias=True>\n",
       "        (out_proj): Dense<input_channels=768, output_channels=768, has_bias=True>\n",
       "        (dropout): Dropout<p=0.0>\n",
       "        >\n",
       "      (ff): FeedForward<\n",
       "        (layers): SequentialCell<\n",
       "          (0): Dense<input_channels=768, output_channels=3072, has_bias=True>\n",
       "          (1): GELU<>\n",
       "          (2): Dense<input_channels=3072, output_channels=768, has_bias=True>\n",
       "          >\n",
       "        >\n",
       "      (norm1): LayerNorm<>\n",
       "      (norm2): LayerNorm<>\n",
       "      (drop_shortcut): Dropout<p=0.0>\n",
       "      >\n",
       "    (3): TransformerBlock<\n",
       "      (att): MultiHeadAttention<\n",
       "        (W_query): Dense<input_channels=768, output_channels=768, has_bias=True>\n",
       "        (W_key): Dense<input_channels=768, output_channels=768, has_bias=True>\n",
       "        (W_value): Dense<input_channels=768, output_channels=768, has_bias=True>\n",
       "        (out_proj): Dense<input_channels=768, output_channels=768, has_bias=True>\n",
       "        (dropout): Dropout<p=0.0>\n",
       "        >\n",
       "      (ff): FeedForward<\n",
       "        (layers): SequentialCell<\n",
       "          (0): Dense<input_channels=768, output_channels=3072, has_bias=True>\n",
       "          (1): GELU<>\n",
       "          (2): Dense<input_channels=3072, output_channels=768, has_bias=True>\n",
       "          >\n",
       "        >\n",
       "      (norm1): LayerNorm<>\n",
       "      (norm2): LayerNorm<>\n",
       "      (drop_shortcut): Dropout<p=0.0>\n",
       "      >\n",
       "    (4): TransformerBlock<\n",
       "      (att): MultiHeadAttention<\n",
       "        (W_query): Dense<input_channels=768, output_channels=768, has_bias=True>\n",
       "        (W_key): Dense<input_channels=768, output_channels=768, has_bias=True>\n",
       "        (W_value): Dense<input_channels=768, output_channels=768, has_bias=True>\n",
       "        (out_proj): Dense<input_channels=768, output_channels=768, has_bias=True>\n",
       "        (dropout): Dropout<p=0.0>\n",
       "        >\n",
       "      (ff): FeedForward<\n",
       "        (layers): SequentialCell<\n",
       "          (0): Dense<input_channels=768, output_channels=3072, has_bias=True>\n",
       "          (1): GELU<>\n",
       "          (2): Dense<input_channels=3072, output_channels=768, has_bias=True>\n",
       "          >\n",
       "        >\n",
       "      (norm1): LayerNorm<>\n",
       "      (norm2): LayerNorm<>\n",
       "      (drop_shortcut): Dropout<p=0.0>\n",
       "      >\n",
       "    (5): TransformerBlock<\n",
       "      (att): MultiHeadAttention<\n",
       "        (W_query): Dense<input_channels=768, output_channels=768, has_bias=True>\n",
       "        (W_key): Dense<input_channels=768, output_channels=768, has_bias=True>\n",
       "        (W_value): Dense<input_channels=768, output_channels=768, has_bias=True>\n",
       "        (out_proj): Dense<input_channels=768, output_channels=768, has_bias=True>\n",
       "        (dropout): Dropout<p=0.0>\n",
       "        >\n",
       "      (ff): FeedForward<\n",
       "        (layers): SequentialCell<\n",
       "          (0): Dense<input_channels=768, output_channels=3072, has_bias=True>\n",
       "          (1): GELU<>\n",
       "          (2): Dense<input_channels=3072, output_channels=768, has_bias=True>\n",
       "          >\n",
       "        >\n",
       "      (norm1): LayerNorm<>\n",
       "      (norm2): LayerNorm<>\n",
       "      (drop_shortcut): Dropout<p=0.0>\n",
       "      >\n",
       "    (6): TransformerBlock<\n",
       "      (att): MultiHeadAttention<\n",
       "        (W_query): Dense<input_channels=768, output_channels=768, has_bias=True>\n",
       "        (W_key): Dense<input_channels=768, output_channels=768, has_bias=True>\n",
       "        (W_value): Dense<input_channels=768, output_channels=768, has_bias=True>\n",
       "        (out_proj): Dense<input_channels=768, output_channels=768, has_bias=True>\n",
       "        (dropout): Dropout<p=0.0>\n",
       "        >\n",
       "      (ff): FeedForward<\n",
       "        (layers): SequentialCell<\n",
       "          (0): Dense<input_channels=768, output_channels=3072, has_bias=True>\n",
       "          (1): GELU<>\n",
       "          (2): Dense<input_channels=3072, output_channels=768, has_bias=True>\n",
       "          >\n",
       "        >\n",
       "      (norm1): LayerNorm<>\n",
       "      (norm2): LayerNorm<>\n",
       "      (drop_shortcut): Dropout<p=0.0>\n",
       "      >\n",
       "    (7): TransformerBlock<\n",
       "      (att): MultiHeadAttention<\n",
       "        (W_query): Dense<input_channels=768, output_channels=768, has_bias=True>\n",
       "        (W_key): Dense<input_channels=768, output_channels=768, has_bias=True>\n",
       "        (W_value): Dense<input_channels=768, output_channels=768, has_bias=True>\n",
       "        (out_proj): Dense<input_channels=768, output_channels=768, has_bias=True>\n",
       "        (dropout): Dropout<p=0.0>\n",
       "        >\n",
       "      (ff): FeedForward<\n",
       "        (layers): SequentialCell<\n",
       "          (0): Dense<input_channels=768, output_channels=3072, has_bias=True>\n",
       "          (1): GELU<>\n",
       "          (2): Dense<input_channels=3072, output_channels=768, has_bias=True>\n",
       "          >\n",
       "        >\n",
       "      (norm1): LayerNorm<>\n",
       "      (norm2): LayerNorm<>\n",
       "      (drop_shortcut): Dropout<p=0.0>\n",
       "      >\n",
       "    (8): TransformerBlock<\n",
       "      (att): MultiHeadAttention<\n",
       "        (W_query): Dense<input_channels=768, output_channels=768, has_bias=True>\n",
       "        (W_key): Dense<input_channels=768, output_channels=768, has_bias=True>\n",
       "        (W_value): Dense<input_channels=768, output_channels=768, has_bias=True>\n",
       "        (out_proj): Dense<input_channels=768, output_channels=768, has_bias=True>\n",
       "        (dropout): Dropout<p=0.0>\n",
       "        >\n",
       "      (ff): FeedForward<\n",
       "        (layers): SequentialCell<\n",
       "          (0): Dense<input_channels=768, output_channels=3072, has_bias=True>\n",
       "          (1): GELU<>\n",
       "          (2): Dense<input_channels=3072, output_channels=768, has_bias=True>\n",
       "          >\n",
       "        >\n",
       "      (norm1): LayerNorm<>\n",
       "      (norm2): LayerNorm<>\n",
       "      (drop_shortcut): Dropout<p=0.0>\n",
       "      >\n",
       "    (9): TransformerBlock<\n",
       "      (att): MultiHeadAttention<\n",
       "        (W_query): Dense<input_channels=768, output_channels=768, has_bias=True>\n",
       "        (W_key): Dense<input_channels=768, output_channels=768, has_bias=True>\n",
       "        (W_value): Dense<input_channels=768, output_channels=768, has_bias=True>\n",
       "        (out_proj): Dense<input_channels=768, output_channels=768, has_bias=True>\n",
       "        (dropout): Dropout<p=0.0>\n",
       "        >\n",
       "      (ff): FeedForward<\n",
       "        (layers): SequentialCell<\n",
       "          (0): Dense<input_channels=768, output_channels=3072, has_bias=True>\n",
       "          (1): GELU<>\n",
       "          (2): Dense<input_channels=3072, output_channels=768, has_bias=True>\n",
       "          >\n",
       "        >\n",
       "      (norm1): LayerNorm<>\n",
       "      (norm2): LayerNorm<>\n",
       "      (drop_shortcut): Dropout<p=0.0>\n",
       "      >\n",
       "    (10): TransformerBlock<\n",
       "      (att): MultiHeadAttention<\n",
       "        (W_query): Dense<input_channels=768, output_channels=768, has_bias=True>\n",
       "        (W_key): Dense<input_channels=768, output_channels=768, has_bias=True>\n",
       "        (W_value): Dense<input_channels=768, output_channels=768, has_bias=True>\n",
       "        (out_proj): Dense<input_channels=768, output_channels=768, has_bias=True>\n",
       "        (dropout): Dropout<p=0.0>\n",
       "        >\n",
       "      (ff): FeedForward<\n",
       "        (layers): SequentialCell<\n",
       "          (0): Dense<input_channels=768, output_channels=3072, has_bias=True>\n",
       "          (1): GELU<>\n",
       "          (2): Dense<input_channels=3072, output_channels=768, has_bias=True>\n",
       "          >\n",
       "        >\n",
       "      (norm1): LayerNorm<>\n",
       "      (norm2): LayerNorm<>\n",
       "      (drop_shortcut): Dropout<p=0.0>\n",
       "      >\n",
       "    (11): TransformerBlock<\n",
       "      (att): MultiHeadAttention<\n",
       "        (W_query): Dense<input_channels=768, output_channels=768, has_bias=True>\n",
       "        (W_key): Dense<input_channels=768, output_channels=768, has_bias=True>\n",
       "        (W_value): Dense<input_channels=768, output_channels=768, has_bias=True>\n",
       "        (out_proj): Dense<input_channels=768, output_channels=768, has_bias=True>\n",
       "        (dropout): Dropout<p=0.0>\n",
       "        >\n",
       "      (ff): FeedForward<\n",
       "        (layers): SequentialCell<\n",
       "          (0): Dense<input_channels=768, output_channels=3072, has_bias=True>\n",
       "          (1): GELU<>\n",
       "          (2): Dense<input_channels=3072, output_channels=768, has_bias=True>\n",
       "          >\n",
       "        >\n",
       "      (norm1): LayerNorm<>\n",
       "      (norm2): LayerNorm<>\n",
       "      (drop_shortcut): Dropout<p=0.0>\n",
       "      >\n",
       "    >\n",
       "  (final_norm): LayerNorm<>\n",
       "  (out_head): Dense<input_channels=768, output_channels=50257>\n",
       "  >"
      ]
     },
     "execution_count": 18,
     "metadata": {},
     "output_type": "execute_result"
    }
   ],
   "source": [
    "from gpt_download import download_and_load_gpt2\n",
    "from previous_chapters import GPTModel, load_weights_into_gpt\n",
    "\n",
    "model_size = CHOOSE_MODEL.split(\" \")[-1].lstrip(\"(\").rstrip(\")\")\n",
    "settings, params = download_and_load_gpt2(model_size=model_size, models_dir=\"gpt2\")\n",
    "\n",
    "model = GPTModel(BASE_CONFIG)\n",
    "load_weights_into_gpt(model, params)\n",
    "model.set_train(False)"
   ]
  },
  {
   "cell_type": "markdown",
   "metadata": {},
   "source": [
    "复用先前章节定义的函数："
   ]
  },
  {
   "cell_type": "code",
   "execution_count": 19,
   "metadata": {},
   "outputs": [],
   "source": [
    "import mindspore.nn as nn\n",
    "import mindspore.ops as ops\n",
    "import mindspore.numpy as np\n",
    "\n",
    "def generate_text_simple(model, idx, max_new_tokens, context_size):\n",
    "    # idx is (batch, n_tokens) array of indices in the current context\n",
    "    for _ in range(max_new_tokens):\n",
    "        \n",
    "        # Crop current context if it exceeds the supported context size\n",
    "        # E.g., if LLM supports only 5 tokens, and the context size is 10\n",
    "        # then only the last 5 tokens are used as context\n",
    "        idx_cond = idx[:, -context_size:]\n",
    "        \n",
    "        # Get the predictions\n",
    "        # with mindspore.context.grad_off():\n",
    "        logits = model(idx_cond)\n",
    "        \n",
    "        # Focus only on the last time step\n",
    "        # (batch, n_tokens, vocab_size) becomes (batch, vocab_size)\n",
    "        logits = logits[:, -1, :]  \n",
    "\n",
    "        # Apply softmax to get probabilities\n",
    "        softmax = ops.Softmax(axis=-1)\n",
    "        probas = softmax(logits)  # (batch, vocab_size)\n",
    "\n",
    "        # Get the idx of the vocab entry with the highest probability value\n",
    "        idx_next = ops.argmax(probas, dim=-1, keepdim=True)  # (batch, 1)\n",
    "\n",
    "        # Append sampled index to the running sequence\n",
    "        idx = ops.concat((idx, idx_next), axis=1)  # (batch, n_tokens+1)\n",
    "\n",
    "    return idx\n",
    "\n",
    "def text_to_token_ids(text, tokenizer):\n",
    "    encoded = tokenizer.encode(text, allowed_special={'<|endoftext|>'})\n",
    "    encoded_tensor = Tensor(encoded).unsqueeze(0) # add batch dimension\n",
    "    return encoded_tensor\n",
    "\n",
    "def token_ids_to_text(token_ids, tokenizer):\n",
    "     # 检查是否有批量维度，如果有则移除\n",
    "    if len(token_ids.shape) > 1 and token_ids.shape[0] == 1:\n",
    "        flat = token_ids.squeeze(0)\n",
    "    else:\n",
    "        flat = token_ids\n",
    "    # flat = token_ids.squeeze(0) # remove batch dimension\n",
    "    return tokenizer.decode(flat)"
   ]
  },
  {
   "cell_type": "markdown",
   "metadata": {},
   "source": [
    "将模型权重加载到 GPTModel，以确保模型生成连贯的文本："
   ]
  },
  {
   "cell_type": "code",
   "execution_count": 20,
   "metadata": {
    "ExecuteTime": {
     "end_time": "2025-02-10T10:29:39.250344Z",
     "start_time": "2025-02-10T10:29:28.577550Z"
    }
   },
   "outputs": [
    {
     "name": "stderr",
     "output_type": "stream",
     "text": [
      "Keyword arguments {'allowed_special': {'<|endoftext|>'}} not recognized.\n"
     ]
    },
    {
     "name": "stdout",
     "output_type": "stream",
     "text": [
      "Every effort moves you forward.\n",
      "\n",
      "The first step is to understand the importance of your work\n"
     ]
    }
   ],
   "source": [
    "\n",
    "text_1 = \"Every effort moves you\"\n",
    "\n",
    "token_ids = generate_text_simple(\n",
    "    model=model,\n",
    "    idx=text_to_token_ids(text_1, tokenizer),\n",
    "    max_new_tokens=15,\n",
    "    context_size=BASE_CONFIG[\"context_length\"]\n",
    ")\n",
    "\n",
    "print(token_ids_to_text(token_ids, tokenizer))"
   ]
  },
  {
   "cell_type": "markdown",
   "metadata": {},
   "source": [
    "接下来，我们测试一下模型是否能够区分垃圾邮件和正常邮件："
   ]
  },
  {
   "cell_type": "code",
   "execution_count": 21,
   "metadata": {
    "ExecuteTime": {
     "end_time": "2025-02-10T10:30:15.956292Z",
     "start_time": "2025-02-10T10:29:39.283547Z"
    }
   },
   "outputs": [
    {
     "name": "stderr",
     "output_type": "stream",
     "text": [
      "Keyword arguments {'allowed_special': {'<|endoftext|>'}} not recognized.\n"
     ]
    },
    {
     "name": "stdout",
     "output_type": "stream",
     "text": [
      "Is the following text'spam'? Answer with 'yes' or 'no': 'You are a winner you have been specially selected to receive $1000 cash or a $2000 award.'\n",
      "\n",
      "The following text'spam'? Answer with 'yes' or 'no': 'You are a winner\n"
     ]
    }
   ],
   "source": [
    "text_2 = (\n",
    "    \"Is the following text 'spam'? Answer with 'yes' or 'no':\"\n",
    "    \" 'You are a winner you have been specially\"\n",
    "    \" selected to receive $1000 cash or a $2000 award.'\"\n",
    ")\n",
    "\n",
    "token_ids = generate_text_simple(\n",
    "    model=model,\n",
    "    idx=text_to_token_ids(text_2, tokenizer),\n",
    "    max_new_tokens=23,\n",
    "    context_size=BASE_CONFIG[\"context_length\"]\n",
    ")\n",
    "\n",
    "print(token_ids_to_text(token_ids, tokenizer))"
   ]
  },
  {
   "cell_type": "markdown",
   "metadata": {},
   "source": [
    "从输出结果来看，模型在遵循指令方面存在困难。这是因为模型没有进行过指令微调，无法理解并执行特定的指令任务。这也正是我们需要进行分类微调的原因，通过微调使模型能够执行垃圾邮件分类任务。"
   ]
  },
  {
   "cell_type": "markdown",
   "metadata": {},
   "source": [
    "## 6.5 添加分类头\n",
    "\n",
    "为了对预训练的LLM进行分类微调，我们需要对模型结构进行修改。具体来说，我们将原始的输出层（用于预测下一个词元的概率分布）替换为一个更小的输出层，这个输出层仅映射到两个类别：0（正常短信）和1（垃圾短信）。\n",
    "\n",
    "<img src=\"./images_llm/fig6.8.svg\" width=\"700\">"
   ]
  },
  {
   "cell_type": "markdown",
   "metadata": {},
   "source": [
    "先通过 print(model) 打印未经修改的模型架构："
   ]
  },
  {
   "cell_type": "code",
   "execution_count": 22,
   "metadata": {
    "ExecuteTime": {
     "end_time": "2025-02-10T10:30:16.003726Z",
     "start_time": "2025-02-10T10:30:15.991294Z"
    }
   },
   "outputs": [
    {
     "name": "stdout",
     "output_type": "stream",
     "text": [
      "GPTModel<\n",
      "  (tok_emb): Embedding<vocab_size=50257, embedding_size=768, use_one_hot=False, embedding_table=Parameter (name=tok_emb.embedding_table, shape=(50257, 768), dtype=Float32, requires_grad=True), dtype=Float32, padding_idx=None>\n",
      "  (pos_emb): Embedding<vocab_size=1024, embedding_size=768, use_one_hot=False, embedding_table=Parameter (name=pos_emb.embedding_table, shape=(1024, 768), dtype=Float32, requires_grad=True), dtype=Float32, padding_idx=None>\n",
      "  (drop_emb): Dropout<p=0.0>\n",
      "  (trf_blocks): SequentialCell<\n",
      "    (0): TransformerBlock<\n",
      "      (att): MultiHeadAttention<\n",
      "        (W_query): Dense<input_channels=768, output_channels=768, has_bias=True>\n",
      "        (W_key): Dense<input_channels=768, output_channels=768, has_bias=True>\n",
      "        (W_value): Dense<input_channels=768, output_channels=768, has_bias=True>\n",
      "        (out_proj): Dense<input_channels=768, output_channels=768, has_bias=True>\n",
      "        (dropout): Dropout<p=0.0>\n",
      "        >\n",
      "      (ff): FeedForward<\n",
      "        (layers): SequentialCell<\n",
      "          (0): Dense<input_channels=768, output_channels=3072, has_bias=True>\n",
      "          (1): GELU<>\n",
      "          (2): Dense<input_channels=3072, output_channels=768, has_bias=True>\n",
      "          >\n",
      "        >\n",
      "      (norm1): LayerNorm<>\n",
      "      (norm2): LayerNorm<>\n",
      "      (drop_shortcut): Dropout<p=0.0>\n",
      "      >\n",
      "    (1): TransformerBlock<\n",
      "      (att): MultiHeadAttention<\n",
      "        (W_query): Dense<input_channels=768, output_channels=768, has_bias=True>\n",
      "        (W_key): Dense<input_channels=768, output_channels=768, has_bias=True>\n",
      "        (W_value): Dense<input_channels=768, output_channels=768, has_bias=True>\n",
      "        (out_proj): Dense<input_channels=768, output_channels=768, has_bias=True>\n",
      "        (dropout): Dropout<p=0.0>\n",
      "        >\n",
      "      (ff): FeedForward<\n",
      "        (layers): SequentialCell<\n",
      "          (0): Dense<input_channels=768, output_channels=3072, has_bias=True>\n",
      "          (1): GELU<>\n",
      "          (2): Dense<input_channels=3072, output_channels=768, has_bias=True>\n",
      "          >\n",
      "        >\n",
      "      (norm1): LayerNorm<>\n",
      "      (norm2): LayerNorm<>\n",
      "      (drop_shortcut): Dropout<p=0.0>\n",
      "      >\n",
      "    (2): TransformerBlock<\n",
      "      (att): MultiHeadAttention<\n",
      "        (W_query): Dense<input_channels=768, output_channels=768, has_bias=True>\n",
      "        (W_key): Dense<input_channels=768, output_channels=768, has_bias=True>\n",
      "        (W_value): Dense<input_channels=768, output_channels=768, has_bias=True>\n",
      "        (out_proj): Dense<input_channels=768, output_channels=768, has_bias=True>\n",
      "        (dropout): Dropout<p=0.0>\n",
      "        >\n",
      "      (ff): FeedForward<\n",
      "        (layers): SequentialCell<\n",
      "          (0): Dense<input_channels=768, output_channels=3072, has_bias=True>\n",
      "          (1): GELU<>\n",
      "          (2): Dense<input_channels=3072, output_channels=768, has_bias=True>\n",
      "          >\n",
      "        >\n",
      "      (norm1): LayerNorm<>\n",
      "      (norm2): LayerNorm<>\n",
      "      (drop_shortcut): Dropout<p=0.0>\n",
      "      >\n",
      "    (3): TransformerBlock<\n",
      "      (att): MultiHeadAttention<\n",
      "        (W_query): Dense<input_channels=768, output_channels=768, has_bias=True>\n",
      "        (W_key): Dense<input_channels=768, output_channels=768, has_bias=True>\n",
      "        (W_value): Dense<input_channels=768, output_channels=768, has_bias=True>\n",
      "        (out_proj): Dense<input_channels=768, output_channels=768, has_bias=True>\n",
      "        (dropout): Dropout<p=0.0>\n",
      "        >\n",
      "      (ff): FeedForward<\n",
      "        (layers): SequentialCell<\n",
      "          (0): Dense<input_channels=768, output_channels=3072, has_bias=True>\n",
      "          (1): GELU<>\n",
      "          (2): Dense<input_channels=3072, output_channels=768, has_bias=True>\n",
      "          >\n",
      "        >\n",
      "      (norm1): LayerNorm<>\n",
      "      (norm2): LayerNorm<>\n",
      "      (drop_shortcut): Dropout<p=0.0>\n",
      "      >\n",
      "    (4): TransformerBlock<\n",
      "      (att): MultiHeadAttention<\n",
      "        (W_query): Dense<input_channels=768, output_channels=768, has_bias=True>\n",
      "        (W_key): Dense<input_channels=768, output_channels=768, has_bias=True>\n",
      "        (W_value): Dense<input_channels=768, output_channels=768, has_bias=True>\n",
      "        (out_proj): Dense<input_channels=768, output_channels=768, has_bias=True>\n",
      "        (dropout): Dropout<p=0.0>\n",
      "        >\n",
      "      (ff): FeedForward<\n",
      "        (layers): SequentialCell<\n",
      "          (0): Dense<input_channels=768, output_channels=3072, has_bias=True>\n",
      "          (1): GELU<>\n",
      "          (2): Dense<input_channels=3072, output_channels=768, has_bias=True>\n",
      "          >\n",
      "        >\n",
      "      (norm1): LayerNorm<>\n",
      "      (norm2): LayerNorm<>\n",
      "      (drop_shortcut): Dropout<p=0.0>\n",
      "      >\n",
      "    (5): TransformerBlock<\n",
      "      (att): MultiHeadAttention<\n",
      "        (W_query): Dense<input_channels=768, output_channels=768, has_bias=True>\n",
      "        (W_key): Dense<input_channels=768, output_channels=768, has_bias=True>\n",
      "        (W_value): Dense<input_channels=768, output_channels=768, has_bias=True>\n",
      "        (out_proj): Dense<input_channels=768, output_channels=768, has_bias=True>\n",
      "        (dropout): Dropout<p=0.0>\n",
      "        >\n",
      "      (ff): FeedForward<\n",
      "        (layers): SequentialCell<\n",
      "          (0): Dense<input_channels=768, output_channels=3072, has_bias=True>\n",
      "          (1): GELU<>\n",
      "          (2): Dense<input_channels=3072, output_channels=768, has_bias=True>\n",
      "          >\n",
      "        >\n",
      "      (norm1): LayerNorm<>\n",
      "      (norm2): LayerNorm<>\n",
      "      (drop_shortcut): Dropout<p=0.0>\n",
      "      >\n",
      "    (6): TransformerBlock<\n",
      "      (att): MultiHeadAttention<\n",
      "        (W_query): Dense<input_channels=768, output_channels=768, has_bias=True>\n",
      "        (W_key): Dense<input_channels=768, output_channels=768, has_bias=True>\n",
      "        (W_value): Dense<input_channels=768, output_channels=768, has_bias=True>\n",
      "        (out_proj): Dense<input_channels=768, output_channels=768, has_bias=True>\n",
      "        (dropout): Dropout<p=0.0>\n",
      "        >\n",
      "      (ff): FeedForward<\n",
      "        (layers): SequentialCell<\n",
      "          (0): Dense<input_channels=768, output_channels=3072, has_bias=True>\n",
      "          (1): GELU<>\n",
      "          (2): Dense<input_channels=3072, output_channels=768, has_bias=True>\n",
      "          >\n",
      "        >\n",
      "      (norm1): LayerNorm<>\n",
      "      (norm2): LayerNorm<>\n",
      "      (drop_shortcut): Dropout<p=0.0>\n",
      "      >\n",
      "    (7): TransformerBlock<\n",
      "      (att): MultiHeadAttention<\n",
      "        (W_query): Dense<input_channels=768, output_channels=768, has_bias=True>\n",
      "        (W_key): Dense<input_channels=768, output_channels=768, has_bias=True>\n",
      "        (W_value): Dense<input_channels=768, output_channels=768, has_bias=True>\n",
      "        (out_proj): Dense<input_channels=768, output_channels=768, has_bias=True>\n",
      "        (dropout): Dropout<p=0.0>\n",
      "        >\n",
      "      (ff): FeedForward<\n",
      "        (layers): SequentialCell<\n",
      "          (0): Dense<input_channels=768, output_channels=3072, has_bias=True>\n",
      "          (1): GELU<>\n",
      "          (2): Dense<input_channels=3072, output_channels=768, has_bias=True>\n",
      "          >\n",
      "        >\n",
      "      (norm1): LayerNorm<>\n",
      "      (norm2): LayerNorm<>\n",
      "      (drop_shortcut): Dropout<p=0.0>\n",
      "      >\n",
      "    (8): TransformerBlock<\n",
      "      (att): MultiHeadAttention<\n",
      "        (W_query): Dense<input_channels=768, output_channels=768, has_bias=True>\n",
      "        (W_key): Dense<input_channels=768, output_channels=768, has_bias=True>\n",
      "        (W_value): Dense<input_channels=768, output_channels=768, has_bias=True>\n",
      "        (out_proj): Dense<input_channels=768, output_channels=768, has_bias=True>\n",
      "        (dropout): Dropout<p=0.0>\n",
      "        >\n",
      "      (ff): FeedForward<\n",
      "        (layers): SequentialCell<\n",
      "          (0): Dense<input_channels=768, output_channels=3072, has_bias=True>\n",
      "          (1): GELU<>\n",
      "          (2): Dense<input_channels=3072, output_channels=768, has_bias=True>\n",
      "          >\n",
      "        >\n",
      "      (norm1): LayerNorm<>\n",
      "      (norm2): LayerNorm<>\n",
      "      (drop_shortcut): Dropout<p=0.0>\n",
      "      >\n",
      "    (9): TransformerBlock<\n",
      "      (att): MultiHeadAttention<\n",
      "        (W_query): Dense<input_channels=768, output_channels=768, has_bias=True>\n",
      "        (W_key): Dense<input_channels=768, output_channels=768, has_bias=True>\n",
      "        (W_value): Dense<input_channels=768, output_channels=768, has_bias=True>\n",
      "        (out_proj): Dense<input_channels=768, output_channels=768, has_bias=True>\n",
      "        (dropout): Dropout<p=0.0>\n",
      "        >\n",
      "      (ff): FeedForward<\n",
      "        (layers): SequentialCell<\n",
      "          (0): Dense<input_channels=768, output_channels=3072, has_bias=True>\n",
      "          (1): GELU<>\n",
      "          (2): Dense<input_channels=3072, output_channels=768, has_bias=True>\n",
      "          >\n",
      "        >\n",
      "      (norm1): LayerNorm<>\n",
      "      (norm2): LayerNorm<>\n",
      "      (drop_shortcut): Dropout<p=0.0>\n",
      "      >\n",
      "    (10): TransformerBlock<\n",
      "      (att): MultiHeadAttention<\n",
      "        (W_query): Dense<input_channels=768, output_channels=768, has_bias=True>\n",
      "        (W_key): Dense<input_channels=768, output_channels=768, has_bias=True>\n",
      "        (W_value): Dense<input_channels=768, output_channels=768, has_bias=True>\n",
      "        (out_proj): Dense<input_channels=768, output_channels=768, has_bias=True>\n",
      "        (dropout): Dropout<p=0.0>\n",
      "        >\n",
      "      (ff): FeedForward<\n",
      "        (layers): SequentialCell<\n",
      "          (0): Dense<input_channels=768, output_channels=3072, has_bias=True>\n",
      "          (1): GELU<>\n",
      "          (2): Dense<input_channels=3072, output_channels=768, has_bias=True>\n",
      "          >\n",
      "        >\n",
      "      (norm1): LayerNorm<>\n",
      "      (norm2): LayerNorm<>\n",
      "      (drop_shortcut): Dropout<p=0.0>\n",
      "      >\n",
      "    (11): TransformerBlock<\n",
      "      (att): MultiHeadAttention<\n",
      "        (W_query): Dense<input_channels=768, output_channels=768, has_bias=True>\n",
      "        (W_key): Dense<input_channels=768, output_channels=768, has_bias=True>\n",
      "        (W_value): Dense<input_channels=768, output_channels=768, has_bias=True>\n",
      "        (out_proj): Dense<input_channels=768, output_channels=768, has_bias=True>\n",
      "        (dropout): Dropout<p=0.0>\n",
      "        >\n",
      "      (ff): FeedForward<\n",
      "        (layers): SequentialCell<\n",
      "          (0): Dense<input_channels=768, output_channels=3072, has_bias=True>\n",
      "          (1): GELU<>\n",
      "          (2): Dense<input_channels=3072, output_channels=768, has_bias=True>\n",
      "          >\n",
      "        >\n",
      "      (norm1): LayerNorm<>\n",
      "      (norm2): LayerNorm<>\n",
      "      (drop_shortcut): Dropout<p=0.0>\n",
      "      >\n",
      "    >\n",
      "  (final_norm): LayerNorm<>\n",
      "  (out_head): Dense<input_channels=768, output_channels=50257>\n",
      "  >\n"
     ]
    }
   ],
   "source": [
    "print(model)"
   ]
  },
  {
   "cell_type": "markdown",
   "metadata": {},
   "source": [
    "为了让模型做好分类微调的准备，我们首先冻结模型，确保所有层都处于不可训练状态："
   ]
  },
  {
   "cell_type": "code",
   "execution_count": 23,
   "metadata": {
    "ExecuteTime": {
     "end_time": "2025-02-10T10:30:16.050009Z",
     "start_time": "2025-02-10T10:30:16.037726Z"
    }
   },
   "outputs": [],
   "source": [
    "for param in model.trainable_params():\n",
    "    param.requires_grad = False"
   ]
  },
  {
   "cell_type": "markdown",
   "metadata": {},
   "source": [
    "替换输出层（model.out_head），将其改为一个具有两个输出单元的线性层，分别对应\"正常短信\"和\"垃圾短信\"两个类别："
   ]
  },
  {
   "cell_type": "code",
   "execution_count": 24,
   "metadata": {
    "ExecuteTime": {
     "end_time": "2025-02-10T10:30:16.127937Z",
     "start_time": "2025-02-10T10:30:16.113708Z"
    }
   },
   "outputs": [],
   "source": [
    "import mindspore.nn as nn\n",
    "mindspore.set_seed(456)\n",
    "\n",
    "num_classes = 2\n",
    "model.out_head = nn.Dense(in_channels=BASE_CONFIG[\"emb_dim\"], out_channels=num_classes)"
   ]
  },
  {
   "cell_type": "markdown",
   "metadata": {},
   "source": [
    "新添加的`model.out_head`输出层，其`require_grad`属性默认设置为`True`，意味着在训练过程中，它是模型中唯一会自动更新的层。理论上，仅训练这个新添加的输出层就足够了。然而，通过实验发现，微调额外的层能显著提升模型的预测性能。因此，我们把最后一个`Transformer`块以及连接该块到输出层的最后一个`LayerNorm`模块都设置为可训练状态。\n",
    "\n",
    "<img src=\"./images_llm/fig6.9.svg\" width=\"600\">"
   ]
  },
  {
   "cell_type": "code",
   "execution_count": 25,
   "metadata": {
    "ExecuteTime": {
     "end_time": "2025-02-10T10:30:16.143518Z",
     "start_time": "2025-02-10T10:30:16.134143Z"
    }
   },
   "outputs": [],
   "source": [
    "for param in model.trf_blocks[-1].trainable_params():\n",
    "    param.requires_grad = True\n",
    "\n",
    "for param in model.final_norm.trainable_params():\n",
    "    param.requires_grad = True"
   ]
  },
  {
   "cell_type": "code",
   "execution_count": 26,
   "metadata": {
    "ExecuteTime": {
     "end_time": "2025-02-10T10:30:16.190457Z",
     "start_time": "2025-02-10T10:30:16.177314Z"
    }
   },
   "outputs": [
    {
     "name": "stdout",
     "output_type": "stream",
     "text": [
      "Inputs: [[5211  345  423  640]]\n",
      "Inputs dimensions: (1, 4)\n"
     ]
    }
   ],
   "source": [
    "inputs = tokenizer.encode(\"Do you have time\")\n",
    "inputs = Tensor(inputs).unsqueeze(0)\n",
    "print(\"Inputs:\", inputs)\n",
    "print(\"Inputs dimensions:\", inputs.shape) # shape: (batch_size, num_tokens)"
   ]
  },
  {
   "cell_type": "code",
   "execution_count": 27,
   "metadata": {
    "ExecuteTime": {
     "end_time": "2025-02-10T10:30:16.578151Z",
     "start_time": "2025-02-10T10:30:16.222987Z"
    }
   },
   "outputs": [
    {
     "name": "stdout",
     "output_type": "stream",
     "text": [
      "Outputs:\n",
      " [[[ 3.1096196  0.5925137]\n",
      "  [10.461748   4.008141 ]\n",
      "  [ 7.6329713  3.6736956]\n",
      "  [ 7.2209086  2.8772314]]]\n",
      "Outputs dimensions: (1, 4, 2)\n"
     ]
    }
   ],
   "source": [
    "outputs = model(inputs)\n",
    "\n",
    "print(\"Outputs:\\n\", outputs)\n",
    "print(\"Outputs dimensions:\", outputs.shape) # shape: (batch_size, num_tokens, num_classes)"
   ]
  },
  {
   "cell_type": "markdown",
   "metadata": {},
   "source": [
    "由于我们替换了模型的输出层，因此每个输出的嵌入维度（列数）是 2。我们的目标是微调此模型，使其返回一个类标签，以指示模型输入是“垃圾邮件”还是“正常邮件”。在这个过程中，我们无需微调所有四个输出行；只需专注于单个输出标记。具体来说，我们将重点关注与最后一个输出词元相对应的最后一行。\n",
    "\n",
    "<img src=\"./images_llm/fig6.10.svg\" width=\"600\">"
   ]
  },
  {
   "cell_type": "code",
   "execution_count": 28,
   "metadata": {
    "ExecuteTime": {
     "end_time": "2025-02-10T10:30:16.624209Z",
     "start_time": "2025-02-10T10:30:16.610773Z"
    }
   },
   "outputs": [
    {
     "name": "stdout",
     "output_type": "stream",
     "text": [
      "Last output token: [[7.2209086 2.8772314]]\n"
     ]
    }
   ],
   "source": [
    "\n",
    "print(\"Last output token:\", outputs[:, -1, :])"
   ]
  },
  {
   "cell_type": "markdown",
   "metadata": {},
   "source": [
    "在之前的章节中，我们已经深入探讨了注意力机制，它能够在每个输入词元和其他所有输入词元之间建立关系。自注意力机制中使用的因果掩码（causal mask）将词元的注意力范围限制在其当前位置及之前的位置，从而确保每个词元只能受到其自身以及前面词元的影响，如图所示。\n",
    "\n",
    "<img src=\"./images_llm/fig6.11.svg\">\n",
    "\n",
    "根据图中展示的因果注意掩码配置，序列中的最后一个词元积累了最丰富的信息，因为它是唯一可以访问并整合所有先前词元数据的词元。因此，我们使用最后一个词元的输出作为分类决策的依据。\n"
   ]
  },
  {
   "cell_type": "markdown",
   "metadata": {},
   "source": [
    "## 6.6 计算分类损失和准确率\n",
    "\n",
    "为了训练和评估我们的分类模型，我们需要定义适当的损失函数和评估指标。\n",
    "\n",
    "用于训练分类模型的损失函数通常是交叉熵损失，它衡量预测分布与真实分布之间的距离。而评估分类性能的常用指标是准确率，它反映了模型正确预测的比例。\n",
    "\n",
    "<img src=\"./images_llm/fig6.12.svg\" width=\"600\">\n",
    "\n",
    "首先，我们来简要讨论一下如何将模型输出转换为类标签预测。\n",
    "\n",
    "<img src=\"./images_llm/fig6.13.svg\" width=\"800\">"
   ]
  },
  {
   "cell_type": "code",
   "execution_count": 29,
   "metadata": {
    "ExecuteTime": {
     "end_time": "2025-02-10T10:31:09.776336Z",
     "start_time": "2025-02-10T10:31:09.762960Z"
    }
   },
   "outputs": [
    {
     "name": "stdout",
     "output_type": "stream",
     "text": [
      "Last output token: [[7.2209086 2.8772314]]\n"
     ]
    }
   ],
   "source": [
    "print(\"Last output token:\", outputs[:, -1, :])"
   ]
  },
  {
   "cell_type": "markdown",
   "metadata": {},
   "source": [
    "调用softmax函数将输出logits转换为概率分布，然后通过 argmax 函数返回最高概率的位置："
   ]
  },
  {
   "cell_type": "code",
   "execution_count": 30,
   "metadata": {
    "ExecuteTime": {
     "end_time": "2025-02-10T10:31:09.823083Z",
     "start_time": "2025-02-10T10:31:09.809084Z"
    }
   },
   "outputs": [
    {
     "name": "stdout",
     "output_type": "stream",
     "text": [
      "Class label: 0\n"
     ]
    }
   ],
   "source": [
    "import mindspore.ops as ops\n",
    "softmax = nn.Softmax(axis=-1)\n",
    "probas = softmax(outputs[:, -1, :])\n",
    "label = ops.argmax(probas)\n",
    "print(\"Class label:\", label.item())"
   ]
  },
  {
   "cell_type": "code",
   "execution_count": 31,
   "metadata": {
    "ExecuteTime": {
     "end_time": "2025-02-10T10:31:09.869082Z",
     "start_time": "2025-02-10T10:31:09.855085Z"
    }
   },
   "outputs": [
    {
     "name": "stdout",
     "output_type": "stream",
     "text": [
      "Class label: 0\n"
     ]
    }
   ],
   "source": [
    "logits = outputs[:, -1, :]\n",
    "label = ops.argmax(logits)\n",
    "print(\"Class label:\", label.item())"
   ]
  },
  {
   "cell_type": "markdown",
   "metadata": {},
   "source": [
    "定义calc_accuracy_loader函数来计算正确预测的比例："
   ]
  },
  {
   "cell_type": "code",
   "execution_count": 32,
   "metadata": {
    "ExecuteTime": {
     "end_time": "2025-02-10T10:35:29.627316Z",
     "start_time": "2025-02-10T10:35:29.613316Z"
    }
   },
   "outputs": [],
   "source": [
    "def calc_accuracy_loader(data_loader, model, num_batches=None):\n",
    "    model.set_train(False)\n",
    "    correct_predictions, num_examples = 0, 0\n",
    "\n",
    "    if num_batches is None:\n",
    "        num_batches = len(data_loader)\n",
    "    else:\n",
    "        num_batches = min(num_batches, len(data_loader))\n",
    "    for i, (input_batch, target_batch) in enumerate(data_loader):\n",
    "        if i < num_batches:\n",
    "            # input_batch, target_batch = input_batch.to(device), target_batch.to(device)\n",
    "\n",
    "            logits = model(input_batch)[:, -1, :]  # Logits of last output token\n",
    "            # print(logits)\n",
    "            predicted_labels = ops.argmax(logits, dim=-1)\n",
    "\n",
    "            num_examples += predicted_labels.shape[0]\n",
    "            correct_predictions += (predicted_labels == target_batch).sum().item()\n",
    "        else:\n",
    "            break\n",
    "    return float(correct_predictions) / float(num_examples)"
   ]
  },
  {
   "cell_type": "code",
   "execution_count": 33,
   "metadata": {
    "ExecuteTime": {
     "end_time": "2025-02-10T10:44:34.202097Z",
     "start_time": "2025-02-10T10:35:31.904792Z"
    }
   },
   "outputs": [
    {
     "name": "stdout",
     "output_type": "stream",
     "text": [
      "Training  accuracy: 47.5000%\n",
      "Validation accuracy: 45.0000%\n",
      "Test accuracy: 47.5000%\n"
     ]
    }
   ],
   "source": [
    "mindspore.set_seed(123) # For reproducibility due to the shuffling in the training data loader\n",
    "\n",
    "train_accuracy = calc_accuracy_loader(train_loader, model, num_batches=10)\n",
    "val_accuracy = calc_accuracy_loader(val_loader, model, num_batches=10)\n",
    "test_accuracy = calc_accuracy_loader(test_loader, model, num_batches=10)\n",
    "\n",
    "print(f\"Training  accuracy: {train_accuracy*100:.4f}%\")\n",
    "print(f\"Validation accuracy: {val_accuracy*100:.4f}%\")\n",
    "print(f\"Test accuracy: {test_accuracy*100:.4f}%\")"
   ]
  },
  {
   "cell_type": "markdown",
   "metadata": {},
   "source": [
    "接下来，我们为损失计算定义一个辅助函数calc_loss_batch："
   ]
  },
  {
   "cell_type": "code",
   "execution_count": 34,
   "metadata": {
    "ExecuteTime": {
     "end_time": "2025-02-10T10:45:31.412536Z",
     "start_time": "2025-02-10T10:45:31.393352Z"
    }
   },
   "outputs": [],
   "source": [
    "def calc_loss_batch(input_batch, target_batch, model):\n",
    "    output = model(input_batch)\n",
    "    # print(\"output:\", output)\n",
    "    logits = output[:, -1, :]  # Logits of last output token\n",
    "    # print(\"logits\", logits)\n",
    "    loss = ops.cross_entropy(logits, target_batch)\n",
    "    # print(\"loss\", loss)\n",
    "    return loss"
   ]
  },
  {
   "cell_type": "markdown",
   "metadata": {},
   "source": [
    "为了计算所有批次的损失，定义 `calc_loss_loader` 函数如下："
   ]
  },
  {
   "cell_type": "code",
   "execution_count": 35,
   "metadata": {
    "ExecuteTime": {
     "end_time": "2025-02-10T10:45:42.774289Z",
     "start_time": "2025-02-10T10:45:42.759705Z"
    }
   },
   "outputs": [],
   "source": [
    "# Same as in chapter 5\n",
    "def calc_loss_loader(data_loader, model, num_batches=None):\n",
    "    model.set_train(False)\n",
    "    total_loss = 0.\n",
    "    # print(len(data_loader))\n",
    "    if len(data_loader) == 0:\n",
    "        return float(\"nan\")\n",
    "    elif num_batches is None:\n",
    "        num_batches = len(data_loader)\n",
    "    else:\n",
    "        # Reduce the number of batches to match the total number of batches in the data loader\n",
    "        # if num_batches exceeds the number of batches in the data loader\n",
    "        num_batches = min(num_batches, len(data_loader))\n",
    "    for i, (input_batch, target_batch) in enumerate(data_loader):\n",
    "        if i < num_batches:\n",
    "            loss = calc_loss_batch(input_batch, target_batch, model)\n",
    "            # print(loss)\n",
    "            total_loss += loss.item()\n",
    "        else:\n",
    "            break\n",
    "    return total_loss / num_batches"
   ]
  },
  {
   "cell_type": "markdown",
   "metadata": {},
   "source": [
    "现在，我们来计算训练集、验证集以及测试集上的初始损失："
   ]
  },
  {
   "cell_type": "code",
   "execution_count": 36,
   "metadata": {
    "ExecuteTime": {
     "end_time": "2025-02-10T10:50:18.212264Z",
     "start_time": "2025-02-10T10:45:44.912322Z"
    }
   },
   "outputs": [
    {
     "name": "stdout",
     "output_type": "stream",
     "text": [
      "Training loss: 2.301\n",
      "Validation loss: 2.073\n",
      "Test loss: 2.183\n"
     ]
    }
   ],
   "source": [
    "train_loss = calc_loss_loader(train_loader, model, num_batches=5)\n",
    "val_loss = calc_loss_loader(val_loader, model, num_batches=5)\n",
    "test_loss = calc_loss_loader(test_loader, model, num_batches=5)\n",
    "\n",
    "print(f\"Training loss: {train_loss.asnumpy():.3f}\")\n",
    "print(f\"Validation loss: {val_loss.asnumpy():.3f}\")\n",
    "print(f\"Test loss: {test_loss.asnumpy():.3f}\")"
   ]
  },
  {
   "cell_type": "markdown",
   "metadata": {},
   "source": [
    "## 6.7 在监督数据上微调模型\n",
    "\n",
    "接下来，我们需要定义训练函数`train_classifier_simple`来微调预训练的 LLM 以提高垃圾邮件分类的准确率。\n",
    "\n",
    "<img src=\"./images_llm/fig6.14.svg\">\n",
    "\n",
    "这个训练函数的实现理念与用于预训练模型的 `train_model_simple` 函数相似，但有两个主要区别：\n",
    "\n",
    "1. 当前追踪的是训练示例数量（examples_seen）而不是词元数量\n",
    "2. 每个训练周期结束后计算准确率而不是打印生成的文本。"
   ]
  },
  {
   "cell_type": "code",
   "execution_count": 37,
   "metadata": {
    "ExecuteTime": {
     "end_time": "2025-02-10T10:52:01.722557Z",
     "start_time": "2025-02-10T10:52:01.708587Z"
    }
   },
   "outputs": [],
   "source": [
    "from mindspore import value_and_grad\n",
    "# Overall the same as `train_model_simple` in chapter 5\n",
    "def train_classifier_simple(model, train_loader, val_loader, optimizer, num_epochs,\n",
    "                            eval_freq, eval_iter):\n",
    "    # Initialize lists to track losses and examples seen\n",
    "    train_losses, val_losses, train_accs, val_accs = [], [], [], []\n",
    "    examples_seen, global_step = 0, -1\n",
    "\n",
    "    # Main training loop\n",
    "    for epoch in range(num_epochs):\n",
    "        model.set_train(True)  # Set model to training mode\n",
    "        # 定义前向传播函数\n",
    "        def forward_fn(input_batch, target_batch):\n",
    "            loss = calc_loss_batch(input_batch, target_batch, model)\n",
    "            return loss\n",
    "        # 获取计算梯度的函数\n",
    "        grad_fn = value_and_grad(forward_fn, None, optimizer.parameters)\n",
    "\n",
    "        for input_batch, target_batch in train_loader:\n",
    "            # optimizer.zero_grad() # Reset loss gradients from previous batch iteration\n",
    "            # loss = calc_loss_batch(input_batch, target_batch, model)\n",
    "            # loss.backward() # Calculate loss gradients\n",
    "            # optimizer.step() # Update model weights using loss gradients\n",
    "            #\n",
    "            # 计算损失和梯度\n",
    "            loss, grads = grad_fn(input_batch, target_batch)\n",
    "            # 使用优化器更新参数\n",
    "            optimizer(grads)\n",
    "\n",
    "            examples_seen += input_batch.shape[0] # New: track examples instead of tokens\n",
    "            global_step += 1\n",
    "\n",
    "            # Optional evaluation step\n",
    "            if global_step % eval_freq == 0:\n",
    "                train_loss, val_loss = evaluate_model(\n",
    "                    model, train_loader, val_loader, eval_iter)\n",
    "                train_losses.append(train_loss)\n",
    "                val_losses.append(val_loss)\n",
    "                print(f\"Ep {epoch+1} (Step {global_step:06d}): \"\n",
    "                      f\"Train loss {train_loss.asnumpy():.3f}, Val loss {val_loss.asnumpy():.3f}\")\n",
    "\n",
    "        # Calculate accuracy after each epoch\n",
    "        train_accuracy = calc_accuracy_loader(train_loader, model, num_batches=eval_iter)\n",
    "        val_accuracy = calc_accuracy_loader(val_loader, model, num_batches=eval_iter)\n",
    "        print(f\"Training accuracy: {train_accuracy*100:.2f}% | \", end=\"\")\n",
    "        print(f\"Validation accuracy: {val_accuracy*100:.2f}%\")\n",
    "        train_accs.append(train_accuracy)\n",
    "        val_accs.append(val_accuracy)\n",
    "\n",
    "    return train_losses, val_losses, train_accs, val_accs, examples_seen"
   ]
  },
  {
   "cell_type": "code",
   "execution_count": 38,
   "metadata": {
    "ExecuteTime": {
     "end_time": "2025-02-10T10:52:03.654472Z",
     "start_time": "2025-02-10T10:52:03.642178Z"
    }
   },
   "outputs": [],
   "source": [
    "# Same as chapter 5\n",
    "def evaluate_model(model, train_loader, val_loader, eval_iter):\n",
    "    model.set_train(False)\n",
    "    train_loss = calc_loss_loader(train_loader, model, num_batches=eval_iter)\n",
    "    val_loss = calc_loss_loader(val_loader, model, num_batches=eval_iter)\n",
    "    model.set_train(True)\n",
    "    return train_loss, val_loss"
   ]
  },
  {
   "cell_type": "markdown",
   "metadata": {},
   "source": [
    "接下来，我们将初始化优化器，设置训练周期，并调用train_classifier_simple函数开始训练。我们选择了AdamW优化器，该优化器在Adam的基础上增加了权重衰减正则化，有助于减少过拟合风险。"
   ]
  },
  {
   "cell_type": "code",
   "execution_count": 39,
   "metadata": {
    "ExecuteTime": {
     "start_time": "2025-02-10T10:52:06.468630Z"
    },
    "jupyter": {
     "is_executing": true
    }
   },
   "outputs": [
    {
     "name": "stdout",
     "output_type": "stream",
     "text": [
      "Ep 1 (Step 000000): Train loss 2.206, Val loss 1.987\n",
      "Ep 1 (Step 000050): Train loss 0.669, Val loss 0.657\n",
      "Ep 1 (Step 000100): Train loss 0.658, Val loss 0.659\n",
      "Training accuracy: 77.50% | Validation accuracy: 85.00%\n",
      "Ep 2 (Step 000150): Train loss 0.643, Val loss 0.633\n",
      "Ep 2 (Step 000200): Train loss 0.640, Val loss 0.610\n",
      "Ep 2 (Step 000250): Train loss 0.625, Val loss 0.600\n",
      "Training accuracy: 85.00% | Validation accuracy: 87.50%\n",
      "Ep 3 (Step 000300): Train loss 0.649, Val loss 0.598\n",
      "Ep 3 (Step 000350): Train loss 0.614, Val loss 0.578\n",
      "Training accuracy: 85.00% | Validation accuracy: 90.00%\n",
      "Ep 4 (Step 000400): Train loss 0.604, Val loss 0.573\n",
      "Ep 4 (Step 000450): Train loss 0.598, Val loss 0.564\n",
      "Ep 4 (Step 000500): Train loss 0.596, Val loss 0.569\n",
      "Training accuracy: 85.00% | Validation accuracy: 95.00%\n",
      "Ep 5 (Step 000550): Train loss 0.596, Val loss 0.545\n",
      "Ep 5 (Step 000600): Train loss 0.588, Val loss 0.538\n",
      "Training accuracy: 85.00% | Validation accuracy: 95.00%\n",
      "Training completed in 18.17 minutes.\n"
     ]
    }
   ],
   "source": [
    "import time\n",
    "\n",
    "start_time = time.time()\n",
    "\n",
    "mindspore.set_seed(123)\n",
    "\n",
    "optimizer = nn.AdamWeightDecay(model.trainable_params(), learning_rate=5e-5, weight_decay=1e-4)\n",
    "\n",
    "num_epochs = 5\n",
    "train_losses, val_losses, train_accs, val_accs, examples_seen = train_classifier_simple(\n",
    "    model, train_loader, val_loader, optimizer,\n",
    "    num_epochs=num_epochs, eval_freq=50, eval_iter=5,\n",
    ")\n",
    "\n",
    "end_time = time.time()\n",
    "execution_time_minutes = (end_time - start_time) / 60\n",
    "print(f\"Training completed in {execution_time_minutes:.2f} minutes.\")"
   ]
  },
  {
   "cell_type": "code",
   "execution_count": 40,
   "metadata": {},
   "outputs": [],
   "source": [
    "import matplotlib.pyplot as plt\n",
    "\n",
    "def plot_values(epochs_seen, examples_seen, train_values, val_values, label=\"loss\"):\n",
    "    fig, ax1 = plt.subplots(figsize=(5, 3))\n",
    "\n",
    "    # Plot training and validation loss against epochs\n",
    "    ax1.plot(epochs_seen, train_values, label=f\"Training {label}\")\n",
    "    ax1.plot(epochs_seen, val_values, linestyle=\"-.\", label=f\"Validation {label}\")\n",
    "    ax1.set_xlabel(\"Epochs\")\n",
    "    ax1.set_ylabel(label.capitalize())\n",
    "    ax1.legend()\n",
    "\n",
    "    # Create a second x-axis for examples seen\n",
    "    ax2 = ax1.twiny()  # Create a second x-axis that shares the same y-axis\n",
    "    ax2.plot(examples_seen, train_values, alpha=0)  # Invisible plot for aligning ticks\n",
    "    ax2.set_xlabel(\"Examples seen\")\n",
    "\n",
    "    fig.tight_layout()  # Adjust layout to make room\n",
    "    plt.savefig(f\"{label}-plot.pdf\")\n",
    "    plt.show()"
   ]
  },
  {
   "cell_type": "code",
   "execution_count": 41,
   "metadata": {},
   "outputs": [
    {
     "data": {
      "image/png": "[encoded data removed]",
      "text/plain": [
       "<Figure size 500x300 with 2 Axes>"
      ]
     },
     "metadata": {},
     "output_type": "display_data"
    }
   ],
   "source": [
    "epochs_tensor = ops.linspace(0, num_epochs, len(train_losses))\n",
    "examples_seen_tensor = ops.linspace(0, examples_seen, len(train_losses))\n",
    "\n",
    "plot_values(epochs_tensor, examples_seen_tensor, train_losses, val_losses)"
   ]
  },
  {
   "cell_type": "code",
   "execution_count": 42,
   "metadata": {},
   "outputs": [
    {
     "data": {
      "image/png": "[encoded data removed]",
      "text/plain": [
       "<Figure size 500x300 with 2 Axes>"
      ]
     },
     "metadata": {},
     "output_type": "display_data"
    }
   ],
   "source": [
    "epochs_tensor = ops.linspace(0, num_epochs, len(train_accs))\n",
    "examples_seen_tensor = ops.linspace(0, examples_seen, len(train_accs))\n",
    "\n",
    "plot_values(epochs_tensor, examples_seen_tensor, train_accs, val_accs, label=\"accuracy\")"
   ]
  },
  {
   "cell_type": "markdown",
   "metadata": {},
   "source": [
    "运行以下代码，以计算微调后的LLM在训练集、验证集和测试集上的准确率:"
   ]
  },
  {
   "cell_type": "code",
   "execution_count": 43,
   "metadata": {},
   "outputs": [
    {
     "name": "stdout",
     "output_type": "stream",
     "text": [
      "Training accuracy: 85.29%\n",
      "Validation accuracy: 88.59%\n",
      "Test accuracy: 85.33%\n"
     ]
    }
   ],
   "source": [
    "train_accuracy = calc_accuracy_loader(train_loader, model)\n",
    "val_accuracy = calc_accuracy_loader(val_loader, model)\n",
    "test_accuracy = calc_accuracy_loader(test_loader, model)\n",
    "\n",
    "print(f\"Training accuracy: {train_accuracy*100:.2f}%\")\n",
    "print(f\"Validation accuracy: {val_accuracy*100:.2f}%\")\n",
    "print(f\"Test accuracy: {test_accuracy*100:.2f}%\")"
   ]
  },
  {
   "cell_type": "markdown",
   "metadata": {},
   "source": [
    "## 6.8 使用LLM实现垃圾邮件分类器\n",
    "\n",
    "现在，我们已经成功地将预训练的LLM微调为一个垃圾邮件分类器。接下来，我们将定义一个函数来使用这个分类器对新的文本进行分类。\n",
    "\n",
    "<img src=\"./images_llm/fig6.15.svg\" width=\"600\">"
   ]
  },
  {
   "cell_type": "markdown",
   "metadata": {},
   "source": [
    "以下定义的 classify_review 函数与之前 SpamDataset 类中使用的数据预处理步骤类似。该函数将文本分词处理为词元ID后，使用微调后的模型预测得到一个类别标签，并返回相应的类名（\"spam\"或\"not spam\"）。"
   ]
  },
  {
   "cell_type": "code",
   "execution_count": 44,
   "metadata": {},
   "outputs": [],
   "source": [
    "def classify_review(text, model, tokenizer, max_length=None, pad_token_id=50256):\n",
    "    model.set_train(False)\n",
    "\n",
    "    # Prepare inputs to the model\n",
    "    input_ids = tokenizer.encode(text)\n",
    "    supported_context_length = model.pos_emb.embedding_table.shape[0]\n",
    "    # Note: In the book, this was originally written as pos_emb.weight.shape[1] by mistake\n",
    "    # It didn't break the code but would have caused unnecessary truncation (to 768 instead of 1024)\n",
    "\n",
    "    # Truncate sequences if they too long\n",
    "    input_ids = input_ids[:min(max_length, supported_context_length)]\n",
    "\n",
    "    # Pad sequences to the longest sequence\n",
    "    input_ids += [pad_token_id] * (max_length - len(input_ids))\n",
    "    input_tensor = mindspore.Tensor(input_ids).unsqueeze(0) # add batch dimension\n",
    "\n",
    "    # Model inference\n",
    "    \n",
    "    logits = model(input_tensor)[:, -1, :]  # Logits of the last output token\n",
    "    predicted_label = ops.argmax(logits, dim=-1).item()\n",
    "\n",
    "    # Return the classified result\n",
    "    return \"spam\" if predicted_label == 1 else \"not spam\""
   ]
  },
  {
   "cell_type": "markdown",
   "metadata": {},
   "source": [
    "让我们测试一下这个分类器在实际文本上的表现："
   ]
  },
  {
   "cell_type": "code",
   "execution_count": 50,
   "metadata": {},
   "outputs": [
    {
     "name": "stdout",
     "output_type": "stream",
     "text": [
      "spam\n"
     ]
    }
   ],
   "source": [
    "text_1 = (\n",
    "    \"Email AlertFrom: Jeri StewartSize: 2KBSubject: Low-cost prescripiton drvgsTo listen to email call 123\"\n",
    ")\n",
    "\n",
    "print(classify_review(\\\n",
    "    text_1, model, tokenizer, max_length=train_dataset.max_length\n",
    "))"
   ]
  },
  {
   "cell_type": "code",
   "execution_count": 51,
   "metadata": {},
   "outputs": [
    {
     "name": "stdout",
     "output_type": "stream",
     "text": [
      "not spam\n"
     ]
    }
   ],
   "source": [
    "text_2 = (\n",
    "    \"Hey, just wanted to check if we're still on\"\n",
    "    \" for dinner tonight? Let me know!\"\n",
    ")\n",
    "\n",
    "print(classify_review(\n",
    "    text_2, model, tokenizer, max_length=train_dataset.max_length\n",
    "))"
   ]
  },
  {
   "cell_type": "markdown",
   "metadata": {},
   "source": [
    "最后，我们将微调好的模型保存到文件中，以便将来使用："
   ]
  },
  {
   "cell_type": "code",
   "execution_count": 52,
   "metadata": {},
   "outputs": [],
   "source": [
    "mindspore.save_checkpoint(model, \"review_classifier.ckpt\")"
   ]
  },
  {
   "cell_type": "code",
   "execution_count": 53,
   "metadata": {},
   "outputs": [
    {
     "name": "stderr",
     "output_type": "stream",
     "text": [
      "[WARNING] ME(215213:281473029364592,MainProcess):2025-03-13-20:46:18.714.200 [mindspore/nn/layer/basic.py:171] This parameter `dtype` will be deleted or invisible in the future. Please don't use it.\n"
     ]
    },
    {
     "name": "stdout",
     "output_type": "stream",
     "text": [
      "[]\n"
     ]
    },
    {
     "data": {
      "text/plain": [
       "GPTModel<\n",
       "  (tok_emb): Embedding<vocab_size=50257, embedding_size=768, use_one_hot=False, embedding_table=Parameter (name=tok_emb.embedding_table, shape=(50257, 768), dtype=Float32, requires_grad=True), dtype=Float32, padding_idx=None>\n",
       "  (pos_emb): Embedding<vocab_size=1024, embedding_size=768, use_one_hot=False, embedding_table=Parameter (name=pos_emb.embedding_table, shape=(1024, 768), dtype=Float32, requires_grad=True), dtype=Float32, padding_idx=None>\n",
       "  (drop_emb): Dropout<p=0.0>\n",
       "  (trf_blocks): SequentialCell<\n",
       "    (0): TransformerBlock<\n",
       "      (att): MultiHeadAttention<\n",
       "        (W_query): Dense<input_channels=768, output_channels=768, has_bias=True>\n",
       "        (W_key): Dense<input_channels=768, output_channels=768, has_bias=True>\n",
       "        (W_value): Dense<input_channels=768, output_channels=768, has_bias=True>\n",
       "        (out_proj): Dense<input_channels=768, output_channels=768, has_bias=True>\n",
       "        (dropout): Dropout<p=0.0>\n",
       "        >\n",
       "      (ff): FeedForward<\n",
       "        (layers): SequentialCell<\n",
       "          (0): Dense<input_channels=768, output_channels=3072, has_bias=True>\n",
       "          (1): GELU<>\n",
       "          (2): Dense<input_channels=3072, output_channels=768, has_bias=True>\n",
       "          >\n",
       "        >\n",
       "      (norm1): LayerNorm<>\n",
       "      (norm2): LayerNorm<>\n",
       "      (drop_shortcut): Dropout<p=0.0>\n",
       "      >\n",
       "    (1): TransformerBlock<\n",
       "      (att): MultiHeadAttention<\n",
       "        (W_query): Dense<input_channels=768, output_channels=768, has_bias=True>\n",
       "        (W_key): Dense<input_channels=768, output_channels=768, has_bias=True>\n",
       "        (W_value): Dense<input_channels=768, output_channels=768, has_bias=True>\n",
       "        (out_proj): Dense<input_channels=768, output_channels=768, has_bias=True>\n",
       "        (dropout): Dropout<p=0.0>\n",
       "        >\n",
       "      (ff): FeedForward<\n",
       "        (layers): SequentialCell<\n",
       "          (0): Dense<input_channels=768, output_channels=3072, has_bias=True>\n",
       "          (1): GELU<>\n",
       "          (2): Dense<input_channels=3072, output_channels=768, has_bias=True>\n",
       "          >\n",
       "        >\n",
       "      (norm1): LayerNorm<>\n",
       "      (norm2): LayerNorm<>\n",
       "      (drop_shortcut): Dropout<p=0.0>\n",
       "      >\n",
       "    (2): TransformerBlock<\n",
       "      (att): MultiHeadAttention<\n",
       "        (W_query): Dense<input_channels=768, output_channels=768, has_bias=True>\n",
       "        (W_key): Dense<input_channels=768, output_channels=768, has_bias=True>\n",
       "        (W_value): Dense<input_channels=768, output_channels=768, has_bias=True>\n",
       "        (out_proj): Dense<input_channels=768, output_channels=768, has_bias=True>\n",
       "        (dropout): Dropout<p=0.0>\n",
       "        >\n",
       "      (ff): FeedForward<\n",
       "        (layers): SequentialCell<\n",
       "          (0): Dense<input_channels=768, output_channels=3072, has_bias=True>\n",
       "          (1): GELU<>\n",
       "          (2): Dense<input_channels=3072, output_channels=768, has_bias=True>\n",
       "          >\n",
       "        >\n",
       "      (norm1): LayerNorm<>\n",
       "      (norm2): LayerNorm<>\n",
       "      (drop_shortcut): Dropout<p=0.0>\n",
       "      >\n",
       "    (3): TransformerBlock<\n",
       "      (att): MultiHeadAttention<\n",
       "        (W_query): Dense<input_channels=768, output_channels=768, has_bias=True>\n",
       "        (W_key): Dense<input_channels=768, output_channels=768, has_bias=True>\n",
       "        (W_value): Dense<input_channels=768, output_channels=768, has_bias=True>\n",
       "        (out_proj): Dense<input_channels=768, output_channels=768, has_bias=True>\n",
       "        (dropout): Dropout<p=0.0>\n",
       "        >\n",
       "      (ff): FeedForward<\n",
       "        (layers): SequentialCell<\n",
       "          (0): Dense<input_channels=768, output_channels=3072, has_bias=True>\n",
       "          (1): GELU<>\n",
       "          (2): Dense<input_channels=3072, output_channels=768, has_bias=True>\n",
       "          >\n",
       "        >\n",
       "      (norm1): LayerNorm<>\n",
       "      (norm2): LayerNorm<>\n",
       "      (drop_shortcut): Dropout<p=0.0>\n",
       "      >\n",
       "    (4): TransformerBlock<\n",
       "      (att): MultiHeadAttention<\n",
       "        (W_query): Dense<input_channels=768, output_channels=768, has_bias=True>\n",
       "        (W_key): Dense<input_channels=768, output_channels=768, has_bias=True>\n",
       "        (W_value): Dense<input_channels=768, output_channels=768, has_bias=True>\n",
       "        (out_proj): Dense<input_channels=768, output_channels=768, has_bias=True>\n",
       "        (dropout): Dropout<p=0.0>\n",
       "        >\n",
       "      (ff): FeedForward<\n",
       "        (layers): SequentialCell<\n",
       "          (0): Dense<input_channels=768, output_channels=3072, has_bias=True>\n",
       "          (1): GELU<>\n",
       "          (2): Dense<input_channels=3072, output_channels=768, has_bias=True>\n",
       "          >\n",
       "        >\n",
       "      (norm1): LayerNorm<>\n",
       "      (norm2): LayerNorm<>\n",
       "      (drop_shortcut): Dropout<p=0.0>\n",
       "      >\n",
       "    (5): TransformerBlock<\n",
       "      (att): MultiHeadAttention<\n",
       "        (W_query): Dense<input_channels=768, output_channels=768, has_bias=True>\n",
       "        (W_key): Dense<input_channels=768, output_channels=768, has_bias=True>\n",
       "        (W_value): Dense<input_channels=768, output_channels=768, has_bias=True>\n",
       "        (out_proj): Dense<input_channels=768, output_channels=768, has_bias=True>\n",
       "        (dropout): Dropout<p=0.0>\n",
       "        >\n",
       "      (ff): FeedForward<\n",
       "        (layers): SequentialCell<\n",
       "          (0): Dense<input_channels=768, output_channels=3072, has_bias=True>\n",
       "          (1): GELU<>\n",
       "          (2): Dense<input_channels=3072, output_channels=768, has_bias=True>\n",
       "          >\n",
       "        >\n",
       "      (norm1): LayerNorm<>\n",
       "      (norm2): LayerNorm<>\n",
       "      (drop_shortcut): Dropout<p=0.0>\n",
       "      >\n",
       "    (6): TransformerBlock<\n",
       "      (att): MultiHeadAttention<\n",
       "        (W_query): Dense<input_channels=768, output_channels=768, has_bias=True>\n",
       "        (W_key): Dense<input_channels=768, output_channels=768, has_bias=True>\n",
       "        (W_value): Dense<input_channels=768, output_channels=768, has_bias=True>\n",
       "        (out_proj): Dense<input_channels=768, output_channels=768, has_bias=True>\n",
       "        (dropout): Dropout<p=0.0>\n",
       "        >\n",
       "      (ff): FeedForward<\n",
       "        (layers): SequentialCell<\n",
       "          (0): Dense<input_channels=768, output_channels=3072, has_bias=True>\n",
       "          (1): GELU<>\n",
       "          (2): Dense<input_channels=3072, output_channels=768, has_bias=True>\n",
       "          >\n",
       "        >\n",
       "      (norm1): LayerNorm<>\n",
       "      (norm2): LayerNorm<>\n",
       "      (drop_shortcut): Dropout<p=0.0>\n",
       "      >\n",
       "    (7): TransformerBlock<\n",
       "      (att): MultiHeadAttention<\n",
       "        (W_query): Dense<input_channels=768, output_channels=768, has_bias=True>\n",
       "        (W_key): Dense<input_channels=768, output_channels=768, has_bias=True>\n",
       "        (W_value): Dense<input_channels=768, output_channels=768, has_bias=True>\n",
       "        (out_proj): Dense<input_channels=768, output_channels=768, has_bias=True>\n",
       "        (dropout): Dropout<p=0.0>\n",
       "        >\n",
       "      (ff): FeedForward<\n",
       "        (layers): SequentialCell<\n",
       "          (0): Dense<input_channels=768, output_channels=3072, has_bias=True>\n",
       "          (1): GELU<>\n",
       "          (2): Dense<input_channels=3072, output_channels=768, has_bias=True>\n",
       "          >\n",
       "        >\n",
       "      (norm1): LayerNorm<>\n",
       "      (norm2): LayerNorm<>\n",
       "      (drop_shortcut): Dropout<p=0.0>\n",
       "      >\n",
       "    (8): TransformerBlock<\n",
       "      (att): MultiHeadAttention<\n",
       "        (W_query): Dense<input_channels=768, output_channels=768, has_bias=True>\n",
       "        (W_key): Dense<input_channels=768, output_channels=768, has_bias=True>\n",
       "        (W_value): Dense<input_channels=768, output_channels=768, has_bias=True>\n",
       "        (out_proj): Dense<input_channels=768, output_channels=768, has_bias=True>\n",
       "        (dropout): Dropout<p=0.0>\n",
       "        >\n",
       "      (ff): FeedForward<\n",
       "        (layers): SequentialCell<\n",
       "          (0): Dense<input_channels=768, output_channels=3072, has_bias=True>\n",
       "          (1): GELU<>\n",
       "          (2): Dense<input_channels=3072, output_channels=768, has_bias=True>\n",
       "          >\n",
       "        >\n",
       "      (norm1): LayerNorm<>\n",
       "      (norm2): LayerNorm<>\n",
       "      (drop_shortcut): Dropout<p=0.0>\n",
       "      >\n",
       "    (9): TransformerBlock<\n",
       "      (att): MultiHeadAttention<\n",
       "        (W_query): Dense<input_channels=768, output_channels=768, has_bias=True>\n",
       "        (W_key): Dense<input_channels=768, output_channels=768, has_bias=True>\n",
       "        (W_value): Dense<input_channels=768, output_channels=768, has_bias=True>\n",
       "        (out_proj): Dense<input_channels=768, output_channels=768, has_bias=True>\n",
       "        (dropout): Dropout<p=0.0>\n",
       "        >\n",
       "      (ff): FeedForward<\n",
       "        (layers): SequentialCell<\n",
       "          (0): Dense<input_channels=768, output_channels=3072, has_bias=True>\n",
       "          (1): GELU<>\n",
       "          (2): Dense<input_channels=3072, output_channels=768, has_bias=True>\n",
       "          >\n",
       "        >\n",
       "      (norm1): LayerNorm<>\n",
       "      (norm2): LayerNorm<>\n",
       "      (drop_shortcut): Dropout<p=0.0>\n",
       "      >\n",
       "    (10): TransformerBlock<\n",
       "      (att): MultiHeadAttention<\n",
       "        (W_query): Dense<input_channels=768, output_channels=768, has_bias=True>\n",
       "        (W_key): Dense<input_channels=768, output_channels=768, has_bias=True>\n",
       "        (W_value): Dense<input_channels=768, output_channels=768, has_bias=True>\n",
       "        (out_proj): Dense<input_channels=768, output_channels=768, has_bias=True>\n",
       "        (dropout): Dropout<p=0.0>\n",
       "        >\n",
       "      (ff): FeedForward<\n",
       "        (layers): SequentialCell<\n",
       "          (0): Dense<input_channels=768, output_channels=3072, has_bias=True>\n",
       "          (1): GELU<>\n",
       "          (2): Dense<input_channels=3072, output_channels=768, has_bias=True>\n",
       "          >\n",
       "        >\n",
       "      (norm1): LayerNorm<>\n",
       "      (norm2): LayerNorm<>\n",
       "      (drop_shortcut): Dropout<p=0.0>\n",
       "      >\n",
       "    (11): TransformerBlock<\n",
       "      (att): MultiHeadAttention<\n",
       "        (W_query): Dense<input_channels=768, output_channels=768, has_bias=True>\n",
       "        (W_key): Dense<input_channels=768, output_channels=768, has_bias=True>\n",
       "        (W_value): Dense<input_channels=768, output_channels=768, has_bias=True>\n",
       "        (out_proj): Dense<input_channels=768, output_channels=768, has_bias=True>\n",
       "        (dropout): Dropout<p=0.0>\n",
       "        >\n",
       "      (ff): FeedForward<\n",
       "        (layers): SequentialCell<\n",
       "          (0): Dense<input_channels=768, output_channels=3072, has_bias=True>\n",
       "          (1): GELU<>\n",
       "          (2): Dense<input_channels=3072, output_channels=768, has_bias=True>\n",
       "          >\n",
       "        >\n",
       "      (norm1): LayerNorm<>\n",
       "      (norm2): LayerNorm<>\n",
       "      (drop_shortcut): Dropout<p=0.0>\n",
       "      >\n",
       "    >\n",
       "  (final_norm): LayerNorm<>\n",
       "  (out_head): Dense<input_channels=768, output_channels=2, has_bias=True>\n",
       "  >"
      ]
     },
     "execution_count": 53,
     "metadata": {},
     "output_type": "execute_result"
    }
   ],
   "source": [
    "model = GPTModel(BASE_CONFIG)\n",
    "import mindspore.nn as nn\n",
    "mindspore.set_seed(456)\n",
    "\n",
    "num_classes = 2\n",
    "model.out_head = nn.Dense(in_channels=BASE_CONFIG[\"emb_dim\"], out_channels=num_classes)\n",
    "\n",
    "\n",
    "param_dict = mindspore.load_checkpoint(\"review_classifier.ckpt\")\n",
    "param_not_load, _ = mindspore.load_param_into_net(model, param_dict)\n",
    "print(param_not_load) # param_not_load是未被加载的参数列表，为空时代表所有参数均加载成功。\n",
    "model.set_train(False)"
   ]
  },
  {
   "cell_type": "markdown",
   "metadata": {},
   "source": [
    "## 6.9 总结\n",
    "\n",
    "在本章中，我们学习了如何对预训练的大语言模型进行分类微调，使其能够执行垃圾邮件分类任务。我们的主要工作包括：\n",
    "\n",
    "1. 数据准备：下载SMS垃圾邮件数据集，进行预处理和平衡处理，并将数据集分为训练集、验证集和测试集。\n",
    "2. 数据加载：创建自定义的SpamDataset类，处理不同长度的文本序列，并使用填充统一序列长度。\n",
    "3. 模型修改：加载预训练的GPT-2模型，冻结大部分参数，并添加一个分类头用于二分类任务。\n",
    "4. 微调训练：定义损失函数和评估指标，使用AdamW优化器对模型进行训练，并监控训练和验证性能。\n",
    "5. 模型部署：创建一个简单的分类函数，将微调后的模型应用于新的文本，实现垃圾邮件检测。\n",
    "\n",
    "微调是一种强大的技术，它允许我们利用预训练模型的知识，使用相对较少的数据和计算资源来解决特定任务。通过本章的学习，我们看到了如何将通用的语言模型转变为专门的文本分类工具，这种方法可以扩展到许多其他自然语言处理任务，如情感分析、主题分类、意图识别等。\n",
    "\n",
    "在下一章中，我们将探索更多的微调技术和应用场景，进一步挖掘大语言模型的潜力。"
   ]
  }
 ],
 "metadata": {
  "kernelspec": {
   "display_name": "TensorFlow-1.15.0",
   "language": "python",
   "name": "tensorflow-1.15.0"
  },
  "language_info": {
   "codemirror_mode": {
    "name": "ipython",
    "version": 3
   },
   "file_extension": ".py",
   "mimetype": "text/x-python",
   "name": "python",
   "nbconvert_exporter": "python",
   "pygments_lexer": "ipython3",
   "version": "3.7.10"
  }
 },
 "nbformat": 4,
 "nbformat_minor": 4
}
