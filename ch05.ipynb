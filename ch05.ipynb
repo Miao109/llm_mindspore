{
 "cells": [
  {
   "cell_type": "code",
   "execution_count": 1,
   "metadata": {},
   "outputs": [
    {
     "name": "stdout",
     "output_type": "stream",
     "text": [
      "MindSpore version:  2.1.0\n",
      "The result of multiplication calculation is correct, MindSpore has been installed on platform [Ascend] successfully!\n"
     ]
    }
   ],
   "source": [
    "import mindspore\n",
    "mindspore.set_context(device_target='CPU')\n",
    "# mindspore.set_context(device_target='GPU')\n",
    "mindspore.set_context(device_target=\"Ascend\")\n",
    "mindspore.set_context(device_id=0)\n",
    "mindspore.run_check()"
   ]
  },
  {
   "cell_type": "markdown",
   "metadata": {},
   "source": [
    "# 5 对未标记数据进行预训练\n",
    "\n",
    "截至目前，我们已经完成了数据采样和注意力机制的实现，并成功构建了LLM的架构。现在，是时候着手实现训练函数，并对LLM进行预训练了。预训练是构建大语言模型的关键步骤，它使模型能够从大量未标记文本中学习语言的结构和规律。\n",
    "\n",
    "<img src=\"./images_llm/fig5.1.svg\"  width='600'>\n",
    "\n",
    "本章涵盖的主题如下图所示，我们将从评估生成文本开始，随后探讨模型训练方法，最后介绍几种常用的解码策略：\n",
    "\n",
    "<img src=\"./images_llm/fig5.2.svg\" width='600'>"
   ]
  },
  {
   "cell_type": "markdown",
   "metadata": {},
   "source": [
    "## 5.1 评估生成文本模型"
   ]
  },
  {
   "cell_type": "markdown",
   "metadata": {},
   "source": [
    "在开始训练之前，我们需要确立评估模型性能的指标和方法。这一节将介绍如何评估生成文本的质量，以及如何计算模型在训练和验证数据上的损失值。"
   ]
  },
  {
   "cell_type": "markdown",
   "metadata": {},
   "source": [
    "### 5.1.1 使用GPT生成文本\n",
    "\n",
    "首先，使用如下配置初始化GPT模型。这里我们定义一个基本的GPT模型配置，包括词汇表大小、上下文长度、嵌入维度等参数。"
   ]
  },
  {
   "cell_type": "code",
   "execution_count": 2,
   "metadata": {},
   "outputs": [
    {
     "name": "stderr",
     "output_type": "stream",
     "text": [
      "None of PyTorch, TensorFlow >= 2.0, or Flax have been found. Models won't be available and only tokenizers, configuration and file/data utilities can be used.\n",
      "[WARNING] ME(98110:281473781230448,MainProcess):2025-03-13-18:20:50.374.704 [mindspore/nn/layer/basic.py:171] This parameter `dtype` will be deleted or invisible in the future. Please don't use it.\n"
     ]
    },
    {
     "data": {
      "text/plain": [
       "GPTModel<\n",
       "  (tok_emb): Embedding<vocab_size=50257, embedding_size=768, use_one_hot=False, embedding_table=Parameter (name=tok_emb.embedding_table, shape=(50257, 768), dtype=Float32, requires_grad=True), dtype=Float32, padding_idx=None>\n",
       "  (pos_emb): Embedding<vocab_size=256, embedding_size=768, use_one_hot=False, embedding_table=Parameter (name=pos_emb.embedding_table, shape=(256, 768), dtype=Float32, requires_grad=True), dtype=Float32, padding_idx=None>\n",
       "  (drop_emb): Dropout<p=0.1>\n",
       "  (trf_blocks): SequentialCell<\n",
       "    (0): TransformerBlock<\n",
       "      (att): MultiHeadAttention<\n",
       "        (W_query): Dense<input_channels=768, output_channels=768>\n",
       "        (W_key): Dense<input_channels=768, output_channels=768>\n",
       "        (W_value): Dense<input_channels=768, output_channels=768>\n",
       "        (out_proj): Dense<input_channels=768, output_channels=768, has_bias=True>\n",
       "        (dropout): Dropout<p=0.1>\n",
       "        >\n",
       "      (ff): FeedForward<\n",
       "        (layers): SequentialCell<\n",
       "          (0): Dense<input_channels=768, output_channels=3072, has_bias=True>\n",
       "          (1): GELU<>\n",
       "          (2): Dense<input_channels=3072, output_channels=768, has_bias=True>\n",
       "          >\n",
       "        >\n",
       "      (norm1): LayerNorm<>\n",
       "      (norm2): LayerNorm<>\n",
       "      (drop_shortcut): Dropout<p=0.1>\n",
       "      >\n",
       "    (1): TransformerBlock<\n",
       "      (att): MultiHeadAttention<\n",
       "        (W_query): Dense<input_channels=768, output_channels=768>\n",
       "        (W_key): Dense<input_channels=768, output_channels=768>\n",
       "        (W_value): Dense<input_channels=768, output_channels=768>\n",
       "        (out_proj): Dense<input_channels=768, output_channels=768, has_bias=True>\n",
       "        (dropout): Dropout<p=0.1>\n",
       "        >\n",
       "      (ff): FeedForward<\n",
       "        (layers): SequentialCell<\n",
       "          (0): Dense<input_channels=768, output_channels=3072, has_bias=True>\n",
       "          (1): GELU<>\n",
       "          (2): Dense<input_channels=3072, output_channels=768, has_bias=True>\n",
       "          >\n",
       "        >\n",
       "      (norm1): LayerNorm<>\n",
       "      (norm2): LayerNorm<>\n",
       "      (drop_shortcut): Dropout<p=0.1>\n",
       "      >\n",
       "    (2): TransformerBlock<\n",
       "      (att): MultiHeadAttention<\n",
       "        (W_query): Dense<input_channels=768, output_channels=768>\n",
       "        (W_key): Dense<input_channels=768, output_channels=768>\n",
       "        (W_value): Dense<input_channels=768, output_channels=768>\n",
       "        (out_proj): Dense<input_channels=768, output_channels=768, has_bias=True>\n",
       "        (dropout): Dropout<p=0.1>\n",
       "        >\n",
       "      (ff): FeedForward<\n",
       "        (layers): SequentialCell<\n",
       "          (0): Dense<input_channels=768, output_channels=3072, has_bias=True>\n",
       "          (1): GELU<>\n",
       "          (2): Dense<input_channels=3072, output_channels=768, has_bias=True>\n",
       "          >\n",
       "        >\n",
       "      (norm1): LayerNorm<>\n",
       "      (norm2): LayerNorm<>\n",
       "      (drop_shortcut): Dropout<p=0.1>\n",
       "      >\n",
       "    (3): TransformerBlock<\n",
       "      (att): MultiHeadAttention<\n",
       "        (W_query): Dense<input_channels=768, output_channels=768>\n",
       "        (W_key): Dense<input_channels=768, output_channels=768>\n",
       "        (W_value): Dense<input_channels=768, output_channels=768>\n",
       "        (out_proj): Dense<input_channels=768, output_channels=768, has_bias=True>\n",
       "        (dropout): Dropout<p=0.1>\n",
       "        >\n",
       "      (ff): FeedForward<\n",
       "        (layers): SequentialCell<\n",
       "          (0): Dense<input_channels=768, output_channels=3072, has_bias=True>\n",
       "          (1): GELU<>\n",
       "          (2): Dense<input_channels=3072, output_channels=768, has_bias=True>\n",
       "          >\n",
       "        >\n",
       "      (norm1): LayerNorm<>\n",
       "      (norm2): LayerNorm<>\n",
       "      (drop_shortcut): Dropout<p=0.1>\n",
       "      >\n",
       "    (4): TransformerBlock<\n",
       "      (att): MultiHeadAttention<\n",
       "        (W_query): Dense<input_channels=768, output_channels=768>\n",
       "        (W_key): Dense<input_channels=768, output_channels=768>\n",
       "        (W_value): Dense<input_channels=768, output_channels=768>\n",
       "        (out_proj): Dense<input_channels=768, output_channels=768, has_bias=True>\n",
       "        (dropout): Dropout<p=0.1>\n",
       "        >\n",
       "      (ff): FeedForward<\n",
       "        (layers): SequentialCell<\n",
       "          (0): Dense<input_channels=768, output_channels=3072, has_bias=True>\n",
       "          (1): GELU<>\n",
       "          (2): Dense<input_channels=3072, output_channels=768, has_bias=True>\n",
       "          >\n",
       "        >\n",
       "      (norm1): LayerNorm<>\n",
       "      (norm2): LayerNorm<>\n",
       "      (drop_shortcut): Dropout<p=0.1>\n",
       "      >\n",
       "    (5): TransformerBlock<\n",
       "      (att): MultiHeadAttention<\n",
       "        (W_query): Dense<input_channels=768, output_channels=768>\n",
       "        (W_key): Dense<input_channels=768, output_channels=768>\n",
       "        (W_value): Dense<input_channels=768, output_channels=768>\n",
       "        (out_proj): Dense<input_channels=768, output_channels=768, has_bias=True>\n",
       "        (dropout): Dropout<p=0.1>\n",
       "        >\n",
       "      (ff): FeedForward<\n",
       "        (layers): SequentialCell<\n",
       "          (0): Dense<input_channels=768, output_channels=3072, has_bias=True>\n",
       "          (1): GELU<>\n",
       "          (2): Dense<input_channels=3072, output_channels=768, has_bias=True>\n",
       "          >\n",
       "        >\n",
       "      (norm1): LayerNorm<>\n",
       "      (norm2): LayerNorm<>\n",
       "      (drop_shortcut): Dropout<p=0.1>\n",
       "      >\n",
       "    (6): TransformerBlock<\n",
       "      (att): MultiHeadAttention<\n",
       "        (W_query): Dense<input_channels=768, output_channels=768>\n",
       "        (W_key): Dense<input_channels=768, output_channels=768>\n",
       "        (W_value): Dense<input_channels=768, output_channels=768>\n",
       "        (out_proj): Dense<input_channels=768, output_channels=768, has_bias=True>\n",
       "        (dropout): Dropout<p=0.1>\n",
       "        >\n",
       "      (ff): FeedForward<\n",
       "        (layers): SequentialCell<\n",
       "          (0): Dense<input_channels=768, output_channels=3072, has_bias=True>\n",
       "          (1): GELU<>\n",
       "          (2): Dense<input_channels=3072, output_channels=768, has_bias=True>\n",
       "          >\n",
       "        >\n",
       "      (norm1): LayerNorm<>\n",
       "      (norm2): LayerNorm<>\n",
       "      (drop_shortcut): Dropout<p=0.1>\n",
       "      >\n",
       "    (7): TransformerBlock<\n",
       "      (att): MultiHeadAttention<\n",
       "        (W_query): Dense<input_channels=768, output_channels=768>\n",
       "        (W_key): Dense<input_channels=768, output_channels=768>\n",
       "        (W_value): Dense<input_channels=768, output_channels=768>\n",
       "        (out_proj): Dense<input_channels=768, output_channels=768, has_bias=True>\n",
       "        (dropout): Dropout<p=0.1>\n",
       "        >\n",
       "      (ff): FeedForward<\n",
       "        (layers): SequentialCell<\n",
       "          (0): Dense<input_channels=768, output_channels=3072, has_bias=True>\n",
       "          (1): GELU<>\n",
       "          (2): Dense<input_channels=3072, output_channels=768, has_bias=True>\n",
       "          >\n",
       "        >\n",
       "      (norm1): LayerNorm<>\n",
       "      (norm2): LayerNorm<>\n",
       "      (drop_shortcut): Dropout<p=0.1>\n",
       "      >\n",
       "    (8): TransformerBlock<\n",
       "      (att): MultiHeadAttention<\n",
       "        (W_query): Dense<input_channels=768, output_channels=768>\n",
       "        (W_key): Dense<input_channels=768, output_channels=768>\n",
       "        (W_value): Dense<input_channels=768, output_channels=768>\n",
       "        (out_proj): Dense<input_channels=768, output_channels=768, has_bias=True>\n",
       "        (dropout): Dropout<p=0.1>\n",
       "        >\n",
       "      (ff): FeedForward<\n",
       "        (layers): SequentialCell<\n",
       "          (0): Dense<input_channels=768, output_channels=3072, has_bias=True>\n",
       "          (1): GELU<>\n",
       "          (2): Dense<input_channels=3072, output_channels=768, has_bias=True>\n",
       "          >\n",
       "        >\n",
       "      (norm1): LayerNorm<>\n",
       "      (norm2): LayerNorm<>\n",
       "      (drop_shortcut): Dropout<p=0.1>\n",
       "      >\n",
       "    (9): TransformerBlock<\n",
       "      (att): MultiHeadAttention<\n",
       "        (W_query): Dense<input_channels=768, output_channels=768>\n",
       "        (W_key): Dense<input_channels=768, output_channels=768>\n",
       "        (W_value): Dense<input_channels=768, output_channels=768>\n",
       "        (out_proj): Dense<input_channels=768, output_channels=768, has_bias=True>\n",
       "        (dropout): Dropout<p=0.1>\n",
       "        >\n",
       "      (ff): FeedForward<\n",
       "        (layers): SequentialCell<\n",
       "          (0): Dense<input_channels=768, output_channels=3072, has_bias=True>\n",
       "          (1): GELU<>\n",
       "          (2): Dense<input_channels=3072, output_channels=768, has_bias=True>\n",
       "          >\n",
       "        >\n",
       "      (norm1): LayerNorm<>\n",
       "      (norm2): LayerNorm<>\n",
       "      (drop_shortcut): Dropout<p=0.1>\n",
       "      >\n",
       "    (10): TransformerBlock<\n",
       "      (att): MultiHeadAttention<\n",
       "        (W_query): Dense<input_channels=768, output_channels=768>\n",
       "        (W_key): Dense<input_channels=768, output_channels=768>\n",
       "        (W_value): Dense<input_channels=768, output_channels=768>\n",
       "        (out_proj): Dense<input_channels=768, output_channels=768, has_bias=True>\n",
       "        (dropout): Dropout<p=0.1>\n",
       "        >\n",
       "      (ff): FeedForward<\n",
       "        (layers): SequentialCell<\n",
       "          (0): Dense<input_channels=768, output_channels=3072, has_bias=True>\n",
       "          (1): GELU<>\n",
       "          (2): Dense<input_channels=3072, output_channels=768, has_bias=True>\n",
       "          >\n",
       "        >\n",
       "      (norm1): LayerNorm<>\n",
       "      (norm2): LayerNorm<>\n",
       "      (drop_shortcut): Dropout<p=0.1>\n",
       "      >\n",
       "    (11): TransformerBlock<\n",
       "      (att): MultiHeadAttention<\n",
       "        (W_query): Dense<input_channels=768, output_channels=768>\n",
       "        (W_key): Dense<input_channels=768, output_channels=768>\n",
       "        (W_value): Dense<input_channels=768, output_channels=768>\n",
       "        (out_proj): Dense<input_channels=768, output_channels=768, has_bias=True>\n",
       "        (dropout): Dropout<p=0.1>\n",
       "        >\n",
       "      (ff): FeedForward<\n",
       "        (layers): SequentialCell<\n",
       "          (0): Dense<input_channels=768, output_channels=3072, has_bias=True>\n",
       "          (1): GELU<>\n",
       "          (2): Dense<input_channels=3072, output_channels=768, has_bias=True>\n",
       "          >\n",
       "        >\n",
       "      (norm1): LayerNorm<>\n",
       "      (norm2): LayerNorm<>\n",
       "      (drop_shortcut): Dropout<p=0.1>\n",
       "      >\n",
       "    >\n",
       "  (final_norm): LayerNorm<>\n",
       "  (out_head): Dense<input_channels=768, output_channels=50257>\n",
       "  >"
      ]
     },
     "execution_count": 2,
     "metadata": {},
     "output_type": "execute_result"
    }
   ],
   "source": [
    "import mindspore\n",
    "from previous_chapters import GPTModel\n",
    "\n",
    "GPT_CONFIG_124M = {\n",
    "    \"vocab_size\": 50257,   # Vocabulary size\n",
    "    \"context_length\": 256, # Shortened context length (orig: 1024)\n",
    "    \"emb_dim\": 768,        # Embedding dimension\n",
    "    \"n_heads\": 12,         # Number of attention heads\n",
    "    \"n_layers\": 12,        # Number of layers\n",
    "    \"drop_rate\": 0.1,      # Dropout rate\n",
    "    \"qkv_bias\": False      # Query-key-value bias\n",
    "}\n",
    "\n",
    "mindspore.set_seed(123)\n",
    "model = GPTModel(GPT_CONFIG_124M)\n",
    "model.set_train(False)  # Disable dropout during inference"
   ]
  },
  {
   "cell_type": "markdown",
   "metadata": {},
   "source": [
    "这里的上下文长度（context_length）缩减为256个词元，这一修改有效降低了计算负担。完成我们的训练之后，将调整上下文大小，并加载上下文长度为1024的预训练模型权重。\n",
    "\n",
    "接着，我们使用GPTModel实例，结合第4章中的generate_text_simple函数生成文本，并应用text_to_token_ids和token_ids_to_text这两个函数实现文本与词元之间的转换。下图展示了这一过程的工作流：\n",
    "\n",
    "<img src=\"./images_llm/fig5.3.svg\" width='700'>"
   ]
  },
  {
   "cell_type": "code",
   "execution_count": 3,
   "metadata": {},
   "outputs": [],
   "source": [
    "from transformers import GPT2Tokenizer\n",
    "from mindspore import Tensor\n",
    "\n",
    "import mindspore.nn as nn\n",
    "import mindspore.ops as ops\n",
    "import mindspore.numpy as np\n",
    "\n",
    "def generate_text_simple(model, idx, max_new_tokens, context_size):\n",
    "    # idx is (batch, n_tokens) array of indices in the current context\n",
    "    for _ in range(max_new_tokens):\n",
    "        \n",
    "        # Crop current context if it exceeds the supported context size\n",
    "        # E.g., if LLM supports only 5 tokens, and the context size is 10\n",
    "        # then only the last 5 tokens are used as context\n",
    "        idx_cond = idx[:, -context_size:]\n",
    "        \n",
    "        # Get the predictions\n",
    "        # with mindspore.context.grad_off():\n",
    "        logits = model(idx_cond)\n",
    "        \n",
    "        # Focus only on the last time step\n",
    "        # (batch, n_tokens, vocab_size) becomes (batch, vocab_size)\n",
    "        logits = logits[:, -1, :]  \n",
    "\n",
    "        # Apply softmax to get probabilities\n",
    "        softmax = ops.Softmax(axis=-1)\n",
    "        probas = softmax(logits)  # (batch, vocab_size)\n",
    "\n",
    "        # Get the idx of the vocab entry with the highest probability value\n",
    "        idx_next = ops.argmax(probas, dim=-1, keepdim=True)  # (batch, 1)\n",
    "\n",
    "        # Append sampled index to the running sequence\n",
    "        idx = ops.concat((idx, idx_next), axis=1)  # (batch, n_tokens+1)\n",
    "\n",
    "    return idx\n",
    "\n",
    "def text_to_token_ids(text, tokenizer):\n",
    "    encoded = tokenizer.encode(text, allowed_special={'<|endoftext|>'})\n",
    "    encoded_tensor = Tensor(encoded).unsqueeze(0) # add batch dimension\n",
    "    return encoded_tensor\n",
    "\n",
    "def token_ids_to_text(token_ids, tokenizer):\n",
    "     # 检查是否有批量维度，如果有则移除\n",
    "    if len(token_ids.shape) > 1 and token_ids.shape[0] == 1:\n",
    "        flat = token_ids.squeeze(0)\n",
    "    else:\n",
    "        flat = token_ids\n",
    "    # flat = token_ids.squeeze(0) # remove batch dimension\n",
    "    return tokenizer.decode(flat)\n"
   ]
  },
  {
   "cell_type": "code",
   "execution_count": 4,
   "metadata": {},
   "outputs": [
    {
     "name": "stderr",
     "output_type": "stream",
     "text": [
      "Keyword arguments {'allowed_special': {'<|endoftext|>'}} not recognized.\n"
     ]
    },
    {
     "name": "stdout",
     "output_type": "stream",
     "text": [
      "Output text:\n",
      " Every effort moves you rhythm rhythmaruisleisleisle childish childish childish childish\n"
     ]
    }
   ],
   "source": [
    "start_context = \"Every effort moves you\"\n",
    "# 指定本地词汇表文件所在的目录路径\n",
    "local_path = \"./gpt2-tokenizer\"\n",
    "\n",
    "# 从本地路径加载GPT - 2分词器\n",
    "tokenizer = GPT2Tokenizer.from_pretrained(local_path)\n",
    "\n",
    "token_ids = generate_text_simple(\n",
    "    model=model,\n",
    "    idx=text_to_token_ids(start_context, tokenizer),\n",
    "    max_new_tokens=10,\n",
    "    context_size=GPT_CONFIG_124M[\"context_length\"]\n",
    ")\n",
    "\n",
    "print(\"Output text:\\n\", token_ids_to_text(token_ids, tokenizer))"
   ]
  },
  {
   "cell_type": "markdown",
   "metadata": {},
   "source": [
    "显然，未经训练的模型无法生成连贯的文本。为了明确什么是\"连贯\"或\"高质量\"的文本，我们需要采用一种数值评估方法，使我们能够在整个训练过程中持续监控并提升模型的性能。接下来，我们将为生成的输出计算一个损失指标，这一指标将作为训练的衡量标准。此外，在后续的章节中，当我们对LLM进行微调时，还将介绍评估模型质量的其他方法。"
   ]
  },
  {
   "cell_type": "markdown",
   "metadata": {},
   "source": [
    "### 5.1.2 计算文本生成损失\n",
    "\n",
    "为了量化模型生成文本的质量，我们需要定义一个损失函数。在语言模型中，常用的损失函数是交叉熵损失，它衡量模型预测的概率分布与真实分布之间的差异。\n",
    "\n",
    "假设有2个训练示例，对应的目标张量为输入张量向右移动1个位置的结果。这反映了语言模型的核心任务：预测序列中的下一个词元。"
   ]
  },
  {
   "cell_type": "code",
   "execution_count": 5,
   "metadata": {},
   "outputs": [],
   "source": [
    "inputs = Tensor([[16833, 3626, 6100],   # [\"every effort moves\",\n",
    "                       [40,    1107, 588]])   #  \"I really like\"]\n",
    "\n",
    "targets = Tensor([[3626, 6100, 345  ],  # [\" effort moves you\",\n",
    "                        [1107,  588, 11311]]) #  \" really like chocolate\"]"
   ]
  },
  {
   "cell_type": "markdown",
   "metadata": {},
   "source": [
    "现在，我们把数据输入到模型中，以计算出2个输入张量的logits向量。接着应用softmax函数将logits转换为概率向量，表示模型对每个可能的下一个词元的预测概率。"
   ]
  },
  {
   "cell_type": "code",
   "execution_count": 6,
   "metadata": {},
   "outputs": [
    {
     "name": "stdout",
     "output_type": "stream",
     "text": [
      "(2, 3, 50257)\n"
     ]
    }
   ],
   "source": [
    "import mindspore.nn as nn\n",
    "logits = model(inputs)\n",
    "\n",
    "softmax = nn.Softmax(axis=-1)\n",
    "probas = softmax(logits) # Probability of each token in vocabulary\n",
    "print(probas.shape) # Shape: (batch_size, num_tokens, vocab_size)"
   ]
  },
  {
   "cell_type": "markdown",
   "metadata": {},
   "source": [
    "下图展示了一个LLM生成文本的总体流程，概述了如何将概率分数转换回文本。模型计算出词汇表中每个词元的概率分布，然后通过某种选择策略（如取最大概率值）来确定下一个词元。\n",
    "\n",
    "<img src=\"./images_llm/fig5.4.svg\" width='700'>\n",
    "\n",
    "将argmax函数应用于概率向量后，可以得到两组输出，每组包含3个预测的词元ID："
   ]
  },
  {
   "cell_type": "code",
   "execution_count": 7,
   "metadata": {},
   "outputs": [
    {
     "name": "stdout",
     "output_type": "stream",
     "text": [
      "Token IDs:\n",
      " [[[40978]\n",
      "  [32136]\n",
      "  [40189]]\n",
      "\n",
      " [[33768]\n",
      "  [ 2301]\n",
      "  [22235]]]\n"
     ]
    }
   ],
   "source": [
    "token_ids = ops.argmax(probas, dim=-1, keepdim=True)\n",
    "print(\"Token IDs:\\n\", token_ids)"
   ]
  },
  {
   "cell_type": "markdown",
   "metadata": {},
   "source": [
    "对这些token ID进行解码，可以发现输出的token与期望模型生成的目标token存在显著差异。这表明未训练的模型还没有学会预测合理的下一个词元。"
   ]
  },
  {
   "cell_type": "code",
   "execution_count": 8,
   "metadata": {},
   "outputs": [
    {
     "name": "stdout",
     "output_type": "stream",
     "text": [
      "Targets batch 1:  effort moves you\n",
      "Outputs batch 1: reth Moody inscription\n"
     ]
    }
   ],
   "source": [
    "res = token_ids_to_text(targets[0], tokenizer)\n",
    "print(f\"Targets batch 1: {res}\")\n",
    "print(f\"Outputs batch 1: {token_ids_to_text(token_ids[0].flatten(), tokenizer)}\")"
   ]
  },
  {
   "cell_type": "markdown",
   "metadata": {},
   "source": [
    "为了完成模型的训练，我们需要知道预测文本与目标文本之间的距离。交叉熵损失提供了这一度量，它衡量预测概率分布与目标分布之间的差异。\n",
    "\n",
    "<img src=\"./images_llm/fig5.5.svg\" width='700'>\n",
    "\n",
    "3个目标词元ID对应的预测概率为："
   ]
  },
  {
   "cell_type": "code",
   "execution_count": 9,
   "metadata": {},
   "outputs": [
    {
     "name": "stdout",
     "output_type": "stream",
     "text": [
      "Text 1: [1.3572932e-05 1.2135792e-05 1.2359466e-05]\n",
      "Text 2: [1.1107936e-05 3.2941804e-05 3.0851545e-05]\n"
     ]
    }
   ],
   "source": [
    "text_idx = 0\n",
    "target_probas_1 = probas[text_idx, [0, 1, 2], targets[text_idx]]\n",
    "print(\"Text 1:\", target_probas_1)\n",
    "\n",
    "text_idx = 1\n",
    "target_probas_2 = probas[text_idx, [0, 1, 2], targets[text_idx]]\n",
    "print(\"Text 2:\", target_probas_2)"
   ]
  },
  {
   "cell_type": "markdown",
   "metadata": {},
   "source": [
    "训练LLM的目标是最大化正确词元的预测概率（接近1）。通过计算对数概率，我们可以更方便地处理极小的概率值："
   ]
  },
  {
   "cell_type": "code",
   "execution_count": 10,
   "metadata": {},
   "outputs": [
    {
     "name": "stdout",
     "output_type": "stream",
     "text": [
      "[-11.207433 -11.319351 -11.301088 -11.40785  -10.320768 -10.386324]\n"
     ]
    }
   ],
   "source": [
    "# Compute logarithm of all token probabilities\n",
    "log_probas = ops.log(ops.concat((target_probas_1, target_probas_2)))\n",
    "print(log_probas)"
   ]
  },
  {
   "cell_type": "markdown",
   "metadata": {},
   "source": [
    "计算平均对数概率："
   ]
  },
  {
   "cell_type": "code",
   "execution_count": 11,
   "metadata": {},
   "outputs": [
    {
     "name": "stdout",
     "output_type": "stream",
     "text": [
      "-10.99047\n"
     ]
    }
   ],
   "source": [
    "# Calculate the average probability for each token\n",
    "avg_log_probas = np.mean(log_probas)\n",
    "print(avg_log_probas)"
   ]
  },
  {
   "cell_type": "markdown",
   "metadata": {},
   "source": [
    "模型训练的目标是通过更新模型的权重，使得平均对数概率尽可能接近0（即预测概率接近1）。然而，在深度学习的实际应用中，我们通常会将对数损失函数乘以-1（即使用负对数概率），然后最小化这个值。这样处理可以使训练过程更加稳定，并与其他深度学习模型的损失函数保持一致。"
   ]
  },
  {
   "cell_type": "code",
   "execution_count": 12,
   "metadata": {},
   "outputs": [
    {
     "name": "stdout",
     "output_type": "stream",
     "text": [
      "10.99047\n"
     ]
    }
   ],
   "source": [
    "neg_avg_log_probas = avg_log_probas * -1\n",
    "print(neg_avg_log_probas)"
   ]
  },
  {
   "cell_type": "markdown",
   "metadata": {},
   "source": [
    "MindSpore中有一个内置的cross_entropy函数，能够一步完成上述六个步骤，极大地简化了损失计算的流程：\n",
    "\n",
    "<img src=\"./images_llm/fig5.6.svg\" width='600'>"
   ]
  },
  {
   "cell_type": "code",
   "execution_count": 13,
   "metadata": {},
   "outputs": [
    {
     "name": "stdout",
     "output_type": "stream",
     "text": [
      "Logits shape: (2, 3, 50257)\n",
      "Targets shape: (2, 3)\n"
     ]
    }
   ],
   "source": [
    "# Logits have shape (batch_size, num_tokens, vocab_size)\n",
    "print(\"Logits shape:\", logits.shape)\n",
    "\n",
    "# Targets have shape (batch_size, num_tokens)\n",
    "print(\"Targets shape:\", targets.shape)"
   ]
  },
  {
   "cell_type": "code",
   "execution_count": 14,
   "metadata": {},
   "outputs": [
    {
     "name": "stdout",
     "output_type": "stream",
     "text": [
      "Flattened logits: (6, 50257)\n",
      "Flattened targets: (6,)\n"
     ]
    }
   ],
   "source": [
    "logits_flat = ops.flatten(logits, start_dim=0, end_dim=1)\n",
    "targets_flat = ops.flatten(targets, start_dim=0, end_dim=1)\n",
    "\n",
    "print(\"Flattened logits:\", logits_flat.shape)\n",
    "print(\"Flattened targets:\", targets_flat.shape)"
   ]
  },
  {
   "cell_type": "code",
   "execution_count": 15,
   "metadata": {},
   "outputs": [
    {
     "name": "stdout",
     "output_type": "stream",
     "text": [
      "10.99047\n"
     ]
    }
   ],
   "source": [
    "loss = ops.cross_entropy(logits_flat, targets_flat)\n",
    "print(loss)"
   ]
  },
  {
   "cell_type": "markdown",
   "metadata": {},
   "source": [
    "与交叉熵损失相关的一个重要概念是困惑度（perplexity）。困惑度是交叉熵损失的指数，它提供了另一种评估语言模型的方式。困惑度可以解释为模型在每个位置平均需要考虑的词汇数量。较低的困惑度表示模型更有信心预测正确的下一个词元，因此生成更流畅、更自然的文本。"
   ]
  },
  {
   "cell_type": "code",
   "execution_count": 16,
   "metadata": {},
   "outputs": [
    {
     "name": "stdout",
     "output_type": "stream",
     "text": [
      "59306.25\n"
     ]
    }
   ],
   "source": [
    "perplexity = np.exp(loss)\n",
    "print(perplexity)"
   ]
  },
  {
   "cell_type": "markdown",
   "metadata": {},
   "source": [
    "### 5.1.3 计算训练和验证集损失\n",
    "\n",
    "为了评估模型的泛化能力，我们需要在训练集和验证集上计算损失。这里使用了一个简短的文本数据集——the-verdict.txt："
   ]
  },
  {
   "cell_type": "code",
   "execution_count": 17,
   "metadata": {},
   "outputs": [],
   "source": [
    "import os\n",
    "import urllib.request\n",
    "\n",
    "file_path = \"the-verdict.txt\"\n",
    "url = \"https://raw.githubusercontent.com/Miao109/llm_mindspore/refs/heads/main/the-verdict.txt?token=GHSAT0AAAAAADAOHYA7TYWCH2P3VLK7CS2KZ6SVODA\"\n",
    "\n",
    "if not os.path.exists(file_path):\n",
    "    with urllib.request.urlopen(url) as response:\n",
    "        text_data = response.read().decode('utf-8')\n",
    "    with open(file_path, \"w\", encoding=\"utf-8\") as file:\n",
    "        file.write(text_data)\n",
    "else:\n",
    "    with open(file_path, \"r\", encoding=\"utf-8\") as file:\n",
    "        text_data = file.read()"
   ]
  },
  {
   "cell_type": "markdown",
   "metadata": {},
   "source": [
    "快速查看这一数据集："
   ]
  },
  {
   "cell_type": "code",
   "execution_count": 18,
   "metadata": {},
   "outputs": [
    {
     "name": "stdout",
     "output_type": "stream",
     "text": [
      "I HAD always thought Jack Gisburn rather a cheap genius--though a good fellow enough--so it was no \n"
     ]
    }
   ],
   "source": [
    "# First 100 characters\n",
    "print(text_data[:99])"
   ]
  },
  {
   "cell_type": "code",
   "execution_count": 19,
   "metadata": {},
   "outputs": [
    {
     "name": "stdout",
     "output_type": "stream",
     "text": [
      "it for me! The Strouds stand alone, and happen once--but there's no exterminating our kind of art.\"\n"
     ]
    }
   ],
   "source": [
    "# Last 100 characters\n",
    "print(text_data[-99:])"
   ]
  },
  {
   "cell_type": "code",
   "execution_count": 20,
   "metadata": {},
   "outputs": [
    {
     "name": "stderr",
     "output_type": "stream",
     "text": [
      "Token indices sequence length is longer than the specified maximum sequence length for this model (5145 > 1024). Running this sequence through the model will result in indexing errors\n"
     ]
    },
    {
     "name": "stdout",
     "output_type": "stream",
     "text": [
      "Characters: 20479\n",
      "Tokens: 5145\n"
     ]
    }
   ],
   "source": [
    "total_characters = len(text_data)\n",
    "total_tokens = len(tokenizer.encode(text_data))\n",
    "\n",
    "print(\"Characters:\", total_characters)\n",
    "print(\"Tokens:\", total_tokens)"
   ]
  },
  {
   "cell_type": "markdown",
   "metadata": {},
   "source": [
    "可以看到，这个数据集仅包含5,145个词元，相对较小。接下来，我们将把这个数据集划分为训练集和验证集，并利用第2章中的数据加载器为LLM训练准备数据。这里我们采用上下文窗口为GPT_CONFIG_124M[\"context_length\"]的滑动窗口方法，每个样本包含连续的词元序列。\n",
    "\n",
    "<img src=\"./images_llm/fig5.7.svg\" width='800'>\n",
    "\n",
    "考虑到我们处理的数据集规模较小，为了降低计算资源的需求，这里选择了相对较小的批处理大小（batch_size=2）。在实际大规模训练中，通常会使用更大的批处理大小以提高训练效率。"
   ]
  },
  {
   "cell_type": "code",
   "execution_count": 21,
   "metadata": {},
   "outputs": [
    {
     "name": "stderr",
     "output_type": "stream",
     "text": [
      "Keyword arguments {'allowed_special': {'<|endoftext|>'}} not recognized.\n",
      "Token indices sequence length is longer than the specified maximum sequence length for this model (4612 > 1024). Running this sequence through the model will result in indexing errors\n",
      "Keyword arguments {'allowed_special': {'<|endoftext|>'}} not recognized.\n"
     ]
    }
   ],
   "source": [
    "from previous_chapters import create_dataloader_v1\n",
    "\n",
    "# Train/validation ratio\n",
    "train_ratio = 0.90\n",
    "split_idx = int(train_ratio * len(text_data))\n",
    "train_data = text_data[:split_idx]\n",
    "val_data = text_data[split_idx:]\n",
    "\n",
    "\n",
    "mindspore.set_seed(123)\n",
    "\n",
    "train_loader = create_dataloader_v1(\n",
    "    train_data,\n",
    "    batch_size=2,\n",
    "    max_length=GPT_CONFIG_124M[\"context_length\"],\n",
    "    stride=GPT_CONFIG_124M[\"context_length\"],\n",
    "    drop_last=True,\n",
    "    shuffle=True,\n",
    "    num_workers=0\n",
    ")\n",
    "\n",
    "val_loader = create_dataloader_v1(\n",
    "    val_data,\n",
    "    batch_size=2,\n",
    "    max_length=GPT_CONFIG_124M[\"context_length\"],\n",
    "    stride=GPT_CONFIG_124M[\"context_length\"],\n",
    "    drop_last=False,\n",
    "    shuffle=False,\n",
    "    num_workers=0\n",
    ")"
   ]
  },
  {
   "cell_type": "code",
   "execution_count": 22,
   "metadata": {},
   "outputs": [],
   "source": [
    "# Sanity check\n",
    "\n",
    "if total_tokens * (train_ratio) < GPT_CONFIG_124M[\"context_length\"]:\n",
    "    print(\"Not enough tokens for the training loader. \"\n",
    "          \"Try to lower the `GPT_CONFIG_124M['context_length']` or \"\n",
    "          \"increase the `training_ratio`\")\n",
    "\n",
    "if total_tokens * (1-train_ratio) < GPT_CONFIG_124M[\"context_length\"]:\n",
    "    print(\"Not enough tokens for the validation loader. \"\n",
    "          \"Try to lower the `GPT_CONFIG_124M['context_length']` or \"\n",
    "          \"decrease the `training_ratio`\")"
   ]
  },
  {
   "cell_type": "code",
   "execution_count": 23,
   "metadata": {},
   "outputs": [
    {
     "name": "stdout",
     "output_type": "stream",
     "text": [
      "Train loader:\n",
      "(2, 256) (2, 256)\n",
      "(2, 256) (2, 256)\n",
      "(2, 256) (2, 256)\n",
      "(2, 256) (2, 256)\n",
      "(2, 256) (2, 256)\n",
      "(2, 256) (2, 256)\n",
      "(2, 256) (2, 256)\n",
      "(2, 256) (2, 256)\n",
      "(2, 256) (2, 256)\n",
      "\n",
      "Validation loader:\n",
      "(2, 256) (2, 256)\n"
     ]
    }
   ],
   "source": [
    "print(\"Train loader:\")\n",
    "for x, y in train_loader:\n",
    "    print(x.shape, y.shape)\n",
    "\n",
    "print(\"\\nValidation loader:\")\n",
    "for x, y in val_loader:\n",
    "    print(x.shape, y.shape)"
   ]
  },
  {
   "cell_type": "code",
   "execution_count": 24,
   "metadata": {},
   "outputs": [
    {
     "name": "stdout",
     "output_type": "stream",
     "text": [
      "Training tokens: 4608\n",
      "Validation tokens: 512\n",
      "All tokens: 5120\n"
     ]
    }
   ],
   "source": [
    "train_tokens = 0\n",
    "for input_batch, target_batch in train_loader:\n",
    "    train_tokens += input_batch.numel()\n",
    "\n",
    "val_tokens = 0\n",
    "for input_batch, target_batch in val_loader:\n",
    "    val_tokens += input_batch.numel()\n",
    "\n",
    "print(\"Training tokens:\", train_tokens)\n",
    "print(\"Validation tokens:\", val_tokens)\n",
    "print(\"All tokens:\", train_tokens + val_tokens)"
   ]
  },
  {
   "cell_type": "markdown",
   "metadata": {},
   "source": [
    "接下来，我们实现一个辅助函数，用于计算特定批次数据上的交叉熵损失。calc_loss_batch函数计算单个批次的损失，而calc_loss_loader函数则计算整个数据加载器的平均损失，便于我们监控模型在训练和验证集上的性能。"
   ]
  },
  {
   "cell_type": "code",
   "execution_count": 25,
   "metadata": {},
   "outputs": [],
   "source": [
    "def calc_loss_batch(input_batch, target_batch, model):\n",
    "    logits = model(input_batch)\n",
    "    loss = ops.cross_entropy(ops.flatten(logits, start_dim=0, end_dim=1), target_batch.flatten())\n",
    "    return loss\n",
    "\n",
    "\n",
    "def calc_loss_loader(data_loader, model, num_batches=None):\n",
    "    total_loss = 0.\n",
    "    if len(data_loader) == 0:\n",
    "        return float(\"nan\")\n",
    "    elif num_batches is None:\n",
    "        num_batches = len(data_loader)\n",
    "    else:\n",
    "        # Reduce the number of batches to match the total number of batches in the data loader\n",
    "        # if num_batches exceeds the number of batches in the data loader\n",
    "        num_batches = min(num_batches, len(data_loader))\n",
    "    for i, (input_batch, target_batch) in enumerate(data_loader):\n",
    "        if i < num_batches:\n",
    "            loss = calc_loss_batch(input_batch, target_batch, model)\n",
    "            total_loss += loss.item()\n",
    "        else:\n",
    "            break\n",
    "    return total_loss / num_batches"
   ]
  },
  {
   "cell_type": "markdown",
   "metadata": {},
   "source": [
    "现在我们可以使用这些函数来计算模型在训练和验证集上的初始损失值，这将作为训练过程中的基准参考点："
   ]
  },
  {
   "cell_type": "code",
   "execution_count": 26,
   "metadata": {},
   "outputs": [
    {
     "name": "stdout",
     "output_type": "stream",
     "text": [
      "Training loss: 10.996593 <class 'mindspore.common._stub_tensor.StubTensor'>\n",
      "Train loss 10.997, Val loss 10.983\n",
      "Validation loss: 10.983248\n"
     ]
    }
   ],
   "source": [
    "mindspore.set_seed(123) # For reproducibility due to the shuffling in the data loader\n",
    "\n",
    "# with torch.no_grad(): # Disable gradient tracking for efficiency because we are not training, yet\n",
    "train_loss = calc_loss_loader(train_loader, model)\n",
    "val_loss = calc_loss_loader(val_loader, model)\n",
    "\n",
    "print(\"Training loss:\", train_loss, type(train_loss))\n",
    "print(f\"Train loss {train_loss.asnumpy():.3f}, Val loss {val_loss.asnumpy():.3f}\")\n",
    "print(\"Validation loss:\", val_loss)"
   ]
  },
  {
   "cell_type": "markdown",
   "metadata": {},
   "source": [
    "## 5.2 训练 LLM\n",
    "\n",
    "完成了评估准备工作后，我们现在可以实现预训练LLM的代码了。预训练过程涉及将模型暴露于大量未标记文本数据，使其学习预测序列中的下一个词元。\n",
    "\n",
    "<img src=\"./images_llm/fig5.8.svg\" width='600'>\n",
    "\n",
    "为了保持代码的简洁易读，我们将构建一个简单的训练循环。该循环包括前向传播计算损失、反向传播计算梯度、以及使用优化器更新模型参数三个关键步骤。\n",
    "\n",
    "<img src=\"./images_llm/fig5.9.svg\" width='500'>"
   ]
  },
  {
   "cell_type": "code",
   "execution_count": 27,
   "metadata": {},
   "outputs": [],
   "source": [
    "from mindspore import value_and_grad\n",
    "def train_model_simple(model, train_loader, val_loader, optimizer, num_epochs,\n",
    "                       eval_freq, eval_iter, start_context, tokenizer):\n",
    "    # Initialize lists to track losses and tokens seen\n",
    "    train_losses, val_losses, track_tokens_seen = [], [], []\n",
    "    tokens_seen, global_step = 0, -1\n",
    "    # 定义前向传播函数\n",
    "    def forward_fn(input_batch, target_batch):\n",
    "        loss = calc_loss_batch(input_batch, target_batch, model)\n",
    "        return loss\n",
    "    \n",
    "    # 获取计算梯度的函数\n",
    "    grad_fn = value_and_grad(forward_fn, None, optimizer.parameters)\n",
    "\n",
    "    # Main training loop\n",
    "    for epoch in range(num_epochs):\n",
    "        model.set_train(True)  # Set model to training mode\n",
    "        \n",
    "        for input_batch, target_batch in train_loader:\n",
    "            # loss = calc_loss_batch(input_batch, target_batch, model)\n",
    "            # 计算损失和梯度\n",
    "            loss, grads = grad_fn(input_batch, target_batch)\n",
    "            \n",
    "            # 使用优化器更新参数\n",
    "            grads = ops.clip_by_global_norm(grads, clip_norm=0.5)  # 严格裁剪\n",
    "            optimizer(grads)\n",
    "\n",
    "            # loss.backward() # Calculate loss gradients\n",
    "            # optimizer.step() # Update model weights using loss gradients\n",
    "            tokens_seen += input_batch.numel()\n",
    "            global_step += 1\n",
    "\n",
    "            # Optional evaluation step\n",
    "            if global_step % eval_freq == 0:\n",
    "                train_loss, val_loss = evaluate_model(\n",
    "                    model, train_loader, val_loader, eval_iter)\n",
    "                train_losses.append(train_loss)\n",
    "                val_losses.append(val_loss)\n",
    "                track_tokens_seen.append(tokens_seen)\n",
    "                print(f\"Ep {epoch+1} (Step {global_step:06d}): \"\n",
    "                      f\"Train loss {train_loss.asnumpy():.3f}, Val loss {val_loss.asnumpy():.3f}\")\n",
    "\n",
    "        # Print a sample text after each epoch\n",
    "        generate_and_print_sample(\n",
    "            model, tokenizer, start_context\n",
    "        )\n",
    "\n",
    "    return train_losses, val_losses, track_tokens_seen\n",
    "\n",
    "\n",
    "def evaluate_model(model, train_loader, val_loader, eval_iter):\n",
    "    model.set_train(False)\n",
    "    train_loss = calc_loss_loader(train_loader, model, num_batches=eval_iter)\n",
    "    val_loss = calc_loss_loader(val_loader, model, num_batches=eval_iter)\n",
    "    model.set_train(True)\n",
    "    return train_loss, val_loss\n",
    "\n",
    "\n",
    "def generate_and_print_sample(model, tokenizer, start_context):\n",
    "    model.set_train(False)\n",
    "    context_size = model.pos_emb.embedding_table.shape[0]\n",
    "    encoded = text_to_token_ids(start_context, tokenizer)\n",
    "    token_ids = generate_text_simple(\n",
    "        model=model, idx=encoded,\n",
    "        max_new_tokens=50, context_size=context_size\n",
    "    )\n",
    "    decoded_text = token_ids_to_text(token_ids, tokenizer)\n",
    "    print(decoded_text.replace(\"\\n\", \" \"))  # Compact print format\n",
    "    model.set_train(True)"
   ]
  },
  {
   "cell_type": "markdown",
   "metadata": {},
   "source": [
    "现在，我们使用AdamW优化器，并结合之前定义的train_model_simple函数，对LLM进行训练。AdamW是Adam优化器的一个变体，增加了权重衰减正则化，有助于减少过拟合。我们指定训练10个epoch，每5步评估一次模型性能。"
   ]
  },
  {
   "cell_type": "code",
   "execution_count": 28,
   "metadata": {},
   "outputs": [
    {
     "name": "stderr",
     "output_type": "stream",
     "text": [
      "[WARNING] ME(98110:281473781230448,MainProcess):2025-03-13-18:23:15.490.66 [mindspore/nn/layer/basic.py:171] This parameter `dtype` will be deleted or invisible in the future. Please don't use it.\n"
     ]
    },
    {
     "name": "stdout",
     "output_type": "stream",
     "text": [
      "Ep 1 (Step 000000): Train loss 10.077, Val loss 10.243\n",
      "Ep 1 (Step 000005): Train loss 8.581, Val loss 8.789\n"
     ]
    },
    {
     "name": "stderr",
     "output_type": "stream",
     "text": [
      "Keyword arguments {'allowed_special': {'<|endoftext|>'}} not recognized.\n"
     ]
    },
    {
     "name": "stdout",
     "output_type": "stream",
     "text": [
      "Every effort moves you..................................................\n",
      "Ep 2 (Step 000010): Train loss 7.235, Val loss 7.482\n",
      "Ep 2 (Step 000015): Train loss 6.475, Val loss 6.804\n"
     ]
    },
    {
     "name": "stderr",
     "output_type": "stream",
     "text": [
      "Keyword arguments {'allowed_special': {'<|endoftext|>'}} not recognized.\n"
     ]
    },
    {
     "name": "stdout",
     "output_type": "stream",
     "text": [
      "Every effort moves you,,,,,,,,,,,,,,,,,,,,,,,,,,,,,,,,,,,,,,,,,,,,,,,,,,\n",
      "Ep 3 (Step 000020): Train loss 6.250, Val loss 6.608\n",
      "Ep 3 (Step 000025): Train loss 6.112, Val loss 6.644\n"
     ]
    },
    {
     "name": "stderr",
     "output_type": "stream",
     "text": [
      "Keyword arguments {'allowed_special': {'<|endoftext|>'}} not recognized.\n"
     ]
    },
    {
     "name": "stdout",
     "output_type": "stream",
     "text": [
      "Every effort moves you the the the the the the the the the the the the the the the the the the the the the the the the the the the the the the the the the the the the the the the the the the the the the the the the the the\n",
      "Ep 4 (Step 000030): Train loss 6.066, Val loss 6.656\n"
     ]
    },
    {
     "name": "stderr",
     "output_type": "stream",
     "text": [
      "Keyword arguments {'allowed_special': {'<|endoftext|>'}} not recognized.\n"
     ]
    },
    {
     "name": "stdout",
     "output_type": "stream",
     "text": [
      "Ep 4 (Step 000035): Train loss 6.046, Val loss 6.671\n",
      "Every effort moves you,,,,,,,,,,,,,,,,,,,,,,,,,,,,,,,,,,,,,,,,,,,,,,,,,,\n",
      "Ep 5 (Step 000040): Train loss 5.999, Val loss 6.702\n"
     ]
    },
    {
     "name": "stderr",
     "output_type": "stream",
     "text": [
      "Keyword arguments {'allowed_special': {'<|endoftext|>'}} not recognized.\n"
     ]
    },
    {
     "name": "stdout",
     "output_type": "stream",
     "text": [
      "Every effort moves you,,,,,,,,,,,,,,,,,,,,,,,,,,,,,,,,,,,,,,,,,,,,,,,,,,\n",
      "Ep 6 (Step 000045): Train loss 6.009, Val loss 6.721\n",
      "Ep 6 (Step 000050): Train loss 5.969, Val loss 6.716\n"
     ]
    },
    {
     "name": "stderr",
     "output_type": "stream",
     "text": [
      "Keyword arguments {'allowed_special': {'<|endoftext|>'}} not recognized.\n"
     ]
    },
    {
     "name": "stdout",
     "output_type": "stream",
     "text": [
      "Every effort moves you,,,,,,,,,,,,,,,,,,,,,,,,,,,,,,,,,,,,,,,,,,,,,,,,,,\n",
      "Ep 7 (Step 000055): Train loss 6.003, Val loss 6.703\n",
      "Ep 7 (Step 000060): Train loss 5.901, Val loss 6.689\n"
     ]
    },
    {
     "name": "stderr",
     "output_type": "stream",
     "text": [
      "Keyword arguments {'allowed_special': {'<|endoftext|>'}} not recognized.\n"
     ]
    },
    {
     "name": "stdout",
     "output_type": "stream",
     "text": [
      "Every effort moves you,,,,,,,,,,,,,,,,,,,,,,,,,,,,,,,,,,,,,,,,,,,,,,,,,,\n",
      "Ep 8 (Step 000065): Train loss 5.868, Val loss 6.669\n",
      "Ep 8 (Step 000070): Train loss 5.819, Val loss 6.645\n"
     ]
    },
    {
     "name": "stderr",
     "output_type": "stream",
     "text": [
      "Keyword arguments {'allowed_special': {'<|endoftext|>'}} not recognized.\n"
     ]
    },
    {
     "name": "stdout",
     "output_type": "stream",
     "text": [
      "Every effort moves you,,,,,,,,,,,,,,,,,,,,,,,,,,,,,,,,,,,,,,,,,,,,,,,,,,\n",
      "Ep 9 (Step 000075): Train loss 5.799, Val loss 6.645\n"
     ]
    },
    {
     "name": "stderr",
     "output_type": "stream",
     "text": [
      "Keyword arguments {'allowed_special': {'<|endoftext|>'}} not recognized.\n"
     ]
    },
    {
     "name": "stdout",
     "output_type": "stream",
     "text": [
      "Ep 9 (Step 000080): Train loss 5.775, Val loss 6.622\n",
      "Every effort moves you,,,,,,,,,,,,,,,,,,,,,,,,,,,,,,,,,,,,,,,,,,,,,,,,,,\n",
      "Ep 10 (Step 000085): Train loss 5.720, Val loss 6.612\n"
     ]
    },
    {
     "name": "stderr",
     "output_type": "stream",
     "text": [
      "Keyword arguments {'allowed_special': {'<|endoftext|>'}} not recognized.\n"
     ]
    },
    {
     "name": "stdout",
     "output_type": "stream",
     "text": [
      "Every effort moves you,,,,,,,,,,,,,,,,,,,,,,,,,,,,,,,,,,,,,,,,,,,,,,,,,,\n",
      "Ep 11 (Step 000090): Train loss 5.745, Val loss 6.635\n",
      "Ep 11 (Step 000095): Train loss 5.669, Val loss 6.609\n"
     ]
    },
    {
     "name": "stderr",
     "output_type": "stream",
     "text": [
      "Keyword arguments {'allowed_special': {'<|endoftext|>'}} not recognized.\n"
     ]
    },
    {
     "name": "stdout",
     "output_type": "stream",
     "text": [
      "Every effort moves you, the the the the the the the the the the the, the the the the the,, the the the the, the the the the the, the,, the the,,,, the the,,, the the the the the\n",
      "Ep 12 (Step 000100): Train loss 5.641, Val loss 6.604\n",
      "Ep 12 (Step 000105): Train loss 5.549, Val loss 6.599\n"
     ]
    },
    {
     "name": "stderr",
     "output_type": "stream",
     "text": [
      "Keyword arguments {'allowed_special': {'<|endoftext|>'}} not recognized.\n"
     ]
    },
    {
     "name": "stdout",
     "output_type": "stream",
     "text": [
      "Every effort moves you, the the the the the the the the the the the the the the the the the the the the the the the the the the the the the, the the the the the the the the the the the, the the the the the the the\n",
      "Ep 13 (Step 000110): Train loss 5.470, Val loss 6.701\n",
      "Ep 13 (Step 000115): Train loss 5.399, Val loss 6.664\n"
     ]
    },
    {
     "name": "stderr",
     "output_type": "stream",
     "text": [
      "Keyword arguments {'allowed_special': {'<|endoftext|>'}} not recognized.\n"
     ]
    },
    {
     "name": "stdout",
     "output_type": "stream",
     "text": [
      "Every effort moves you the the the a a a a a, the the the the the the the the the the the the a the the the the the the the the the the the the the the the the the the, the, the the the the the the the\n",
      "Ep 14 (Step 000120): Train loss 5.261, Val loss 6.698\n"
     ]
    },
    {
     "name": "stderr",
     "output_type": "stream",
     "text": [
      "Keyword arguments {'allowed_special': {'<|endoftext|>'}} not recognized.\n"
     ]
    },
    {
     "name": "stdout",
     "output_type": "stream",
     "text": [
      "Ep 14 (Step 000125): Train loss 5.260, Val loss 6.773\n",
      "Every effort moves you the the a a of the a a a--.                                       \n",
      "Ep 15 (Step 000130): Train loss 5.154, Val loss 6.727\n"
     ]
    },
    {
     "name": "stderr",
     "output_type": "stream",
     "text": [
      "Keyword arguments {'allowed_special': {'<|endoftext|>'}} not recognized.\n"
     ]
    },
    {
     "name": "stdout",
     "output_type": "stream",
     "text": [
      "Every effort moves you that that that the the the the the the I had-- it had-- had-- it, I was.                            \n",
      "Ep 16 (Step 000135): Train loss 5.172, Val loss 6.747\n",
      "Ep 16 (Step 000140): Train loss 5.031, Val loss 6.783\n"
     ]
    },
    {
     "name": "stderr",
     "output_type": "stream",
     "text": [
      "Keyword arguments {'allowed_special': {'<|endoftext|>'}} not recognized.\n"
     ]
    },
    {
     "name": "stdout",
     "output_type": "stream",
     "text": [
      "Every effort moves you I I I, I, I, the I, the the the the the the I, I, the the I, the I, the the I, I, I, I, the I, the to the I, the I, I\n",
      "Ep 17 (Step 000145): Train loss 5.059, Val loss 6.620\n",
      "Ep 17 (Step 000150): Train loss 4.958, Val loss 6.816\n"
     ]
    },
    {
     "name": "stderr",
     "output_type": "stream",
     "text": [
      "Keyword arguments {'allowed_special': {'<|endoftext|>'}} not recognized.\n"
     ]
    },
    {
     "name": "stdout",
     "output_type": "stream",
     "text": [
      "Every effort moves you the the the the the the the the the the the the the the the the the the the the the the the, on the the the the the to the the the the the the the the on the the the the on the the the the the\n",
      "Ep 18 (Step 000155): Train loss 4.859, Val loss 6.784\n",
      "Ep 18 (Step 000160): Train loss 4.704, Val loss 6.792\n"
     ]
    },
    {
     "name": "stderr",
     "output_type": "stream",
     "text": [
      "Keyword arguments {'allowed_special': {'<|endoftext|>'}} not recognized.\n"
     ]
    },
    {
     "name": "stdout",
     "output_type": "stream",
     "text": [
      "Every effort moves you a a a a-- a a to to a a a a to a to a------------ \"-- on a one, the a a a a a one-- on the one of the a a one of the a one of\n",
      "Ep 19 (Step 000165): Train loss 4.605, Val loss 6.773\n"
     ]
    },
    {
     "name": "stderr",
     "output_type": "stream",
     "text": [
      "Keyword arguments {'allowed_special': {'<|endoftext|>'}} not recognized.\n"
     ]
    },
    {
     "name": "stdout",
     "output_type": "stream",
     "text": [
      "Ep 19 (Step 000170): Train loss 4.504, Val loss 6.827\n",
      "Every effort moves you through a a to to a to to to to a to to to to to to to to to to to to to to to to to to to to to to to to to to to to to to to to to--. I had on to\n",
      "Ep 20 (Step 000175): Train loss 4.370, Val loss 6.850\n"
     ]
    },
    {
     "name": "stderr",
     "output_type": "stream",
     "text": [
      "Keyword arguments {'allowed_special': {'<|endoftext|>'}} not recognized.\n"
     ]
    },
    {
     "name": "stdout",
     "output_type": "stream",
     "text": [
      "Every effort moves you through a a a-- a to a-- it. I had to to on to it. I was-- it was was-- it had to to it. I was was was was was was was-- it was was was was-- was was--\n"
     ]
    }
   ],
   "source": [
    "mindspore.set_seed(1)\n",
    "model = GPTModel(GPT_CONFIG_124M)\n",
    "\n",
    "optimizer = nn.AdamWeightDecay(model.trainable_params(), learning_rate=1e-4, weight_decay=1e-4)\n",
    "\n",
    "num_epochs = 20\n",
    "train_losses, val_losses, tokens_seen = train_model_simple(\n",
    "    model, train_loader, val_loader, optimizer,\n",
    "    num_epochs=num_epochs, eval_freq=5, eval_iter=5,\n",
    "    start_context=\"Every effort moves you\", tokenizer=tokenizer\n",
    ")"
   ]
  },
  {
   "cell_type": "markdown",
   "metadata": {},
   "source": [
    "将训练和验证集的损失变化可视化，以便更直观地对比和分析模型的学习过程："
   ]
  },
  {
   "cell_type": "code",
   "execution_count": 29,
   "metadata": {},
   "outputs": [],
   "source": [
    "import matplotlib.pyplot as plt\n",
    "from matplotlib.ticker import MaxNLocator\n"
   ]
  },
  {
   "cell_type": "code",
   "execution_count": 30,
   "metadata": {},
   "outputs": [
    {
     "data": {
      "image/png": "[encoded data removed]",
      "text/plain": [
       "<Figure size 500x300 with 2 Axes>"
      ]
     },
     "metadata": {},
     "output_type": "display_data"
    }
   ],
   "source": [
    "\n",
    "\n",
    "def plot_losses(epochs_seen, tokens_seen, train_losses, val_losses):\n",
    "    fig, ax1 = plt.subplots(figsize=(5, 3))\n",
    "\n",
    "    # Plot training and validation loss against epochs\n",
    "    ax1.plot(epochs_seen, train_losses, label=\"Training loss\")\n",
    "    ax1.plot(epochs_seen, val_losses, linestyle=\"-.\", label=\"Validation loss\")\n",
    "    ax1.set_xlabel(\"Epochs\")\n",
    "    ax1.set_ylabel(\"Loss\")\n",
    "    ax1.legend(loc=\"upper right\")\n",
    "    ax1.xaxis.set_major_locator(MaxNLocator(integer=True))  # only show integer labels on x-axis\n",
    "\n",
    "    # Create a second x-axis for tokens seen\n",
    "    ax2 = ax1.twiny()  # Create a second x-axis that shares the same y-axis\n",
    "    ax2.plot(tokens_seen, train_losses, alpha=0)  # Invisible plot for aligning ticks\n",
    "    ax2.set_xlabel(\"Tokens seen\")\n",
    "\n",
    "    fig.tight_layout()  # Adjust layout to make room\n",
    "    plt.savefig(\"loss-plot.pdf\")\n",
    "    plt.show()\n",
    "\n",
    "epochs_tensor = ops.linspace(0, num_epochs, len(train_losses))\n",
    "plot_losses(epochs_tensor, tokens_seen, train_losses, val_losses)"
   ]
  },
  {
   "cell_type": "markdown",
   "metadata": {},
   "source": [
    "从训练结果可以观察到以下几点：\n",
    "\n",
    "- 模型在训练初期生成的文本通常是难以理解的随机字符串，而随着训练进行，它逐渐能够生成语法或多或少正确的句子，表明模型正在学习语言的基本结构。\n",
    "\n",
    "- 然而，通过比较训练集和验证集的损失曲线，可以发现模型开始出现过拟合现象，即模型在训练集上的性能持续改善，但在验证集上的性能开始停滞或恶化。\n",
    "\n",
    "- 如果仔细检查模型在训练后期生成的一些段落，会发现它们几乎一字不差地出现在训练集中——这表明模型开始简单地记住训练数据，而不是学习泛化能力。\n",
    "\n",
    "- 在后续章节中，我们将介绍一些解码策略，这些策略能在一定程度上减轻这种记忆现象，增加生成文本的多样性。\n",
    "\n",
    "- 需要注意的是，这里的过拟合主要是因为我们的训练集非常小，而且我们对其进行了多次迭代。在实际的大规模LLM训练中，使用足够大的数据集和适当的正则化技术可以有效减轻过拟合问题。\n",
    "\n",
    "- 本章的LLM训练主要出于教育目的，让我们能够直观地理解模型学习过程；在实际应用中，通常需要更大的数据集和更复杂的训练策略。"
   ]
  },
  {
   "cell_type": "markdown",
   "metadata": {},
   "source": [
    "## 5.3 解码策略\n",
    "\n",
    "生成模型的解码策略是指从模型输出的概率分布中选择下一个词元的方法。不同的解码策略会导致生成文本具有不同的特性，如创造性、多样性和连贯性。下面，我们首先检查未训练模型的输出："
   ]
  },
  {
   "cell_type": "code",
   "execution_count": 31,
   "metadata": {},
   "outputs": [
    {
     "name": "stderr",
     "output_type": "stream",
     "text": [
      "Keyword arguments {'allowed_special': {'<|endoftext|>'}} not recognized.\n"
     ]
    },
    {
     "name": "stdout",
     "output_type": "stream",
     "text": [
      "Output text:\n",
      " Every effort moves you through a a a-- a to a-- it. I had to to on to it. I was-- it was was\n"
     ]
    }
   ],
   "source": [
    "model.set_train(False)\n",
    "# 指定本地词汇表文件所在的目录路径\n",
    "local_path = \"./gpt2-tokenizer\"\n",
    "# 从本地路径加载GPT - 2分词器\n",
    "tokenizer = GPT2Tokenizer.from_pretrained(local_path)\n",
    "token_ids = generate_text_simple(\n",
    "    model=model,\n",
    "    idx=text_to_token_ids(\"Every effort moves you\", tokenizer),\n",
    "    max_new_tokens=25,\n",
    "    context_size=GPT_CONFIG_124M[\"context_length\"]\n",
    ")\n",
    "\n",
    "print(\"Output text:\\n\", token_ids_to_text(token_ids, tokenizer))"
   ]
  },
  {
   "cell_type": "markdown",
   "metadata": {},
   "source": [
    "可以看到，未训练的模型输出仍然是无意义的词元序列。接下来，我们将探索几种常用的解码策略，以改善生成文本的质量。"
   ]
  },
  {
   "cell_type": "markdown",
   "metadata": {},
   "source": [
    "## 5.3.1 Temperature scaling\n",
    "\n",
    "Temperature scaling是LLM中用于控制生成文本多样性和随机性的关键技术。它通过调整softmax函数前的logits值来影响最终的概率分布。\n",
    "\n",
    "在之前的generate_text_simple函数中，我们使用torch.argmax（也称为贪婪解码）将概率最高的词元作为下一个词元。这种方法总是选择最可能的下一个词元，但可能导致生成的文本缺乏多样性，甚至陷入重复模式。\n",
    "\n",
    "首先，为了生成更多样化的文本，我们可以替换掉argmax，采用一种从概率分布中采样的方法。这允许模型有时选择概率较低的词元，增加生成文本的变化性。"
   ]
  },
  {
   "cell_type": "code",
   "execution_count": 49,
   "metadata": {},
   "outputs": [
    {
     "name": "stdout",
     "output_type": "stream",
     "text": [
      "forward\n"
     ]
    }
   ],
   "source": [
    "vocab = { \n",
    "    \"closer\": 0,\n",
    "    \"every\": 1, \n",
    "    \"effort\": 2, \n",
    "    \"forward\": 3,\n",
    "    \"inches\": 4,\n",
    "    \"moves\": 5, \n",
    "    \"pizza\": 6,\n",
    "    \"toward\": 7,\n",
    "    \"you\": 8\n",
    "} \n",
    "\n",
    "inverse_vocab = {v: k for k, v in vocab.items()}\n",
    "\n",
    "# Suppose input is \"every effort moves you\", and the LLM\n",
    "# returns the following logits for the next token:\n",
    "next_token_logits = Tensor(\n",
    "    [4.51, 0.89, -1.90, 6.75, 1.63, -1.62, -1.89, 6.28, 1.79]\n",
    ")\n",
    "softmax = nn.Softmax(axis=0)\n",
    "probas = softmax(next_token_logits)\n",
    "next_token_id = ops.argmax(probas)\n",
    "next_token_id = int(next_token_id.asnumpy())\n",
    "# The next generated token is then as follows:\n",
    "print(inverse_vocab[next_token_id])"
   ]
  },
  {
   "cell_type": "code",
   "execution_count": 33,
   "metadata": {},
   "outputs": [
    {
     "name": "stdout",
     "output_type": "stream",
     "text": [
      "forward\n"
     ]
    }
   ],
   "source": [
    "mindspore.set_seed(123)\n",
    "next_token_id = ops.multinomial(probas, num_samples=1)\n",
    "next_token_id = int(next_token_id.asnumpy())\n",
    "print(inverse_vocab[next_token_id])"
   ]
  },
  {
   "cell_type": "markdown",
   "metadata": {},
   "source": [
    "使用多项式分布采样允许模型根据预测的概率分布随机选择下一个词元，这比贪婪解码能生成更多样化的文本。\n",
    "\n",
    "为便于说明，我们根据预测的概率进行1000次采样，观察不同词元被选中的频率："
   ]
  },
  {
   "cell_type": "code",
   "execution_count": 34,
   "metadata": {},
   "outputs": [
    {
     "name": "stdout",
     "output_type": "stream",
     "text": [
      "65.0 x closer\n",
      "1.0 x every\n",
      "0.0 x effort\n",
      "563.0 x forward\n",
      "4.0 x inches\n",
      "0.0 x moves\n",
      "0.0 x pizza\n",
      "364.0 x toward\n",
      "3.0 x you\n"
     ]
    }
   ],
   "source": [
    "def print_sampled_tokens(probas):\n",
    "    mindspore.set_seed(123) # Manual seed for reproducibility\n",
    "    sample = [int(ops.multinomial(probas, num_samples=1).asnumpy()) for i in range(1_000)]\n",
    "    sampled_ids = ops.bincount(Tensor(sample))\n",
    "    for i, freq in enumerate(sampled_ids):\n",
    "        print(f\"{freq} x {inverse_vocab[i]}\")\n",
    "\n",
    "print_sampled_tokens(probas)"
   ]
  },
  {
   "cell_type": "markdown",
   "metadata": {},
   "source": [
    "其次，为了进一步控制这一选择过程，我们引入temperature缩放这一概念。Temperature是一个正值参数，用于调整logits分布的\"尖锐度\"：\n",
    "\n",
    "当temperature=1时，概率分布保持不变\n",
    "\n",
    "当temperature<1时，概率分布变得更尖锐，高概率词元被选中的可能性增加，生成的文本更加确定性和一致性\n",
    "\n",
    "当temperature>1时，概率分布变得更平坦，不同词元被选中的可能性更加均衡，生成的文本更加多样和创造性"
   ]
  },
  {
   "cell_type": "code",
   "execution_count": 35,
   "metadata": {},
   "outputs": [],
   "source": [
    "def softmax_with_temperature(logits, temperature):\n",
    "    scaled_logits = logits / temperature\n",
    "    softmax = nn.Softmax(axis=0)\n",
    "    return softmax(scaled_logits)\n",
    "\n",
    "# Temperature values\n",
    "temperatures = [1, 0.1, 5]  # Original, higher confidence, and lower confidence\n",
    "\n",
    "# Calculate scaled probabilities\n",
    "scaled_probas = [softmax_with_temperature(next_token_logits, T) for T in temperatures]"
   ]
  },
  {
   "cell_type": "markdown",
   "metadata": {},
   "source": [
    "下面我们可视化不同temperature值对概率分布的影响："
   ]
  },
  {
   "cell_type": "code",
   "execution_count": 36,
   "metadata": {},
   "outputs": [
    {
     "data": {
      "image/png": "[encoded data removed]",
      "text/plain": [
       "<Figure size 500x300 with 1 Axes>"
      ]
     },
     "metadata": {},
     "output_type": "display_data"
    }
   ],
   "source": [
    "import numpy\n",
    "# Plotting\n",
    "x = numpy.arange(len(vocab))\n",
    "bar_width = 0.15\n",
    "\n",
    "fig, ax = plt.subplots(figsize=(5, 3))\n",
    "for i, T in enumerate(temperatures):\n",
    "    scaled_prob = scaled_probas[i].asnumpy()\n",
    "    rects = ax.bar(x + i * bar_width, scaled_prob, bar_width, label=f'Temperature = {T}')\n",
    "\n",
    "ax.set_ylabel('Probability')\n",
    "ax.set_xticks(x)\n",
    "ax.set_xticklabels(vocab.keys(), rotation=90)\n",
    "ax.legend()\n",
    "\n",
    "plt.tight_layout()\n",
    "plt.savefig(\"temperature-plot.pdf\")\n",
    "plt.show()"
   ]
  },
  {
   "cell_type": "markdown",
   "metadata": {},
   "source": [
    "我们可以观察到，降低temperature使概率分布更加集中于高概率词元："
   ]
  },
  {
   "cell_type": "code",
   "execution_count": 37,
   "metadata": {},
   "outputs": [
    {
     "name": "stdout",
     "output_type": "stream",
     "text": [
      "0.0 x closer\n",
      "0.0 x every\n",
      "0.0 x effort\n",
      "990.0 x forward\n",
      "0.0 x inches\n",
      "0.0 x moves\n",
      "0.0 x pizza\n",
      "10.0 x toward\n"
     ]
    }
   ],
   "source": [
    "print_sampled_tokens(scaled_probas[1])"
   ]
  },
  {
   "cell_type": "markdown",
   "metadata": {},
   "source": [
    "而提高temperature则使概率分布更加均匀，增加了低概率词元被选中的可能性："
   ]
  },
  {
   "cell_type": "code",
   "execution_count": 38,
   "metadata": {},
   "outputs": [
    {
     "name": "stdout",
     "output_type": "stream",
     "text": [
      "148.0 x closer\n",
      "80.0 x every\n",
      "44.0 x effort\n",
      "256.0 x forward\n",
      "75.0 x inches\n",
      "44.0 x moves\n",
      "38.0 x pizza\n",
      "222.0 x toward\n",
      "93.0 x you\n"
     ]
    }
   ],
   "source": [
    "print_sampled_tokens(scaled_probas[2])"
   ]
  },
  {
   "cell_type": "markdown",
   "metadata": {},
   "source": [
    "当temperature=5时，概率分布变得更加平坦，即使\"forward\"的原始概率远高于\"pizza\"，在采样时二者被选中的概率差距也大大减小。这种平衡可以帮助模型生成更加创新和多样化的文本，但太高的temperature可能导致生成的文本缺乏连贯性和意义。"
   ]
  },
  {
   "cell_type": "markdown",
   "metadata": {},
   "source": [
    "### 5.3.2 Top-k 采样\n",
    "\n",
    "Top-k采样是另一种常用的解码策略，它通过限制模型在每个生成步骤中仅考虑概率最高的前k个候选词，从而平衡生成结果的多样性与合理性。这种方法避免了模型选择极低概率的词元，这些词元可能导致生成的文本语义不连贯。\n",
    "\n",
    "<img src=\"./images_llm/fig5.10.svg\" width='600'>\n",
    "\n",
    "Top-k方法通过将所有未选中的 `logit` 值替换为 `-inf`，使得在计算概率值时，非top-k词元的概率得分为 0，其余词元的概率总和保持为1。"
   ]
  },
  {
   "cell_type": "markdown",
   "metadata": {},
   "source": [
    "首先，我们找出logits中前k个最大值及其位置："
   ]
  },
  {
   "cell_type": "code",
   "execution_count": 50,
   "metadata": {},
   "outputs": [
    {
     "name": "stdout",
     "output_type": "stream",
     "text": [
      "Top logits: [6.75      6.28125   4.5117188]\n",
      "Top positions: [3 7 0]\n"
     ]
    }
   ],
   "source": [
    "top_k = 3\n",
    "top_logits, top_pos = ops.topk(next_token_logits, top_k)\n",
    "\n",
    "print(\"Top logits:\", top_logits)\n",
    "print(\"Top positions:\", top_pos)"
   ]
  },
  {
   "cell_type": "markdown",
   "metadata": {},
   "source": [
    "然后，将非top-k词元的logits设置为负无穷大，确保它们在softmax后的概率为0："
   ]
  },
  {
   "cell_type": "code",
   "execution_count": 51,
   "metadata": {},
   "outputs": [
    {
     "name": "stdout",
     "output_type": "stream",
     "text": [
      "[-inf -inf -inf 6.75 -inf -inf -inf 6.28 -inf]\n"
     ]
    }
   ],
   "source": [
    "new_logits = ops.where(\n",
    "    condition=next_token_logits < top_logits[-1],\n",
    "    x=Tensor(float(\"-inf\")), \n",
    "    y=next_token_logits\n",
    ")\n",
    "\n",
    "print(new_logits)"
   ]
  },
  {
   "cell_type": "markdown",
   "metadata": {},
   "source": [
    "最后，应用softmax获得仅包含top-k词元的概率分布："
   ]
  },
  {
   "cell_type": "code",
   "execution_count": 52,
   "metadata": {},
   "outputs": [
    {
     "name": "stdout",
     "output_type": "stream",
     "text": [
      "[0.         0.         0.         0.6153837  0.         0.\n",
      " 0.         0.38461632 0.        ]\n"
     ]
    }
   ],
   "source": [
    "softmax = nn.Softmax(axis=0)\n",
    "topk_probas = softmax(new_logits)\n",
    "print(topk_probas)"
   ]
  },
  {
   "cell_type": "markdown",
   "metadata": {},
   "source": [
    "### 5.3.3 修改文本生成函数\n",
    "\n",
    "现在，我们将温度缩放和top-k采样相结合，对之前用于通过LLM生成文本的`generate_text_simple`函数进行改进，创建一个新的`generate`函数。这个新函数提供了更多的灵活性，允许调整temperature和top-k参数来控制生成文本的特性："
   ]
  },
  {
   "cell_type": "code",
   "execution_count": 53,
   "metadata": {},
   "outputs": [],
   "source": [
    "def generate(model, idx, max_new_tokens, context_size, temperature=0.0, top_k=None, eos_id=None):\n",
    "\n",
    "    # For-loop is the same as before: Get logits, and only focus on last time step\n",
    "    for _ in range(max_new_tokens):\n",
    "        idx = ops.cast(idx, mindspore.int32)\n",
    "        idx_cond = idx[:, -context_size:]\n",
    "\n",
    "        logits = model(idx_cond)\n",
    "        logits = logits[:, -1, :]\n",
    "\n",
    "        # New: Filter logits with top_k sampling\n",
    "        if top_k is not None:\n",
    "            # Keep only top_k values\n",
    "            top_logits, _ = ops.topk(logits, top_k)\n",
    "            min_val = top_logits[:, -1]\n",
    "            logits = ops.where(logits < min_val, Tensor(float(\"-inf\")), logits)\n",
    "\n",
    "        # New: Apply temperature scaling\n",
    "        if temperature > 0.0:\n",
    "            logits = logits / temperature\n",
    "\n",
    "            # Apply softmax to get probabilities\n",
    "            softmax = nn.Softmax(axis=-1)\n",
    "            probs = softmax(logits)  # (batch_size, context_len)\n",
    "\n",
    "            # Sample from the distribution\n",
    "            idx_next = ops.multinomial(probs, num_samples=1, replacement=False)  # (batch_size, 1)\n",
    "\n",
    "        # Otherwise same as before: get idx of the vocab entry with the highest logits value\n",
    "        else:\n",
    "            idx_next = ops.argmax(logits, dim=-1, keepdim=True)  # (batch_size, 1)\n",
    "        # print(idx_next)\n",
    "        if idx_next == eos_id:  # Stop generating early if end-of-sequence token is encountered and eos_id is specified\n",
    "            break\n",
    "\n",
    "        # Same as before: append sampled index to the running sequence\n",
    "        idx = ops.cat((idx, idx_next), axis=1)  # (batch_size, num_tokens+1)\n",
    "\n",
    "    return idx"
   ]
  },
  {
   "cell_type": "markdown",
   "metadata": {},
   "source": [
    "使用新的`generate`函数，我们可以结合top-k采样和temperature调整来生成更加多样化和有意义的文本："
   ]
  },
  {
   "cell_type": "code",
   "execution_count": 54,
   "metadata": {},
   "outputs": [
    {
     "name": "stderr",
     "output_type": "stream",
     "text": [
      "Keyword arguments {'allowed_special': {'<|endoftext|>'}} not recognized.\n"
     ]
    },
    {
     "name": "stdout",
     "output_type": "stream",
     "text": [
      "Output text:\n",
      " Every effort moves you sun foris of so more, a put one the put put forburn\n"
     ]
    }
   ],
   "source": [
    "mindspore.set_seed(123)\n",
    "\n",
    "token_ids = generate(\n",
    "    model=model,\n",
    "    idx=text_to_token_ids(\"Every effort moves you\", tokenizer),\n",
    "    max_new_tokens=15,\n",
    "    context_size=GPT_CONFIG_124M[\"context_length\"],\n",
    "    top_k=25,\n",
    "    temperature=1.4\n",
    ")\n",
    "\n",
    "print(\"Output text:\\n\", token_ids_to_text(token_ids, tokenizer))"
   ]
  },
  {
   "cell_type": "markdown",
   "metadata": {},
   "source": [
    "生成的文本显示，即使使用未经过充分训练的模型，通过适当的解码策略也能在一定程度上改善输出质量。在实际应用中，选择合适的解码参数对于平衡文本的创造性和连贯性至关重要：\n",
    "\n",
    "- 较低的temperature（如0.7）和适中的top-k值（如40）适合生成连贯、保守的回应\n",
    "\n",
    "- 较高的temperature（如1.2）和较大的top-k值（如100）适合生成创造性、多样化的内容\n",
    "\n",
    "- 在生成诗歌、故事等创意内容时，可以使用较高的temperature\n",
    "\n",
    "- 在生成技术文档、代码等精确内容时，可以使用较低的temperature"
   ]
  },
  {
   "cell_type": "markdown",
   "metadata": {},
   "source": [
    "## 5.4 加载和保存模型权重\n",
    "\n",
    "在实际应用中，保存和加载模型权重是必不可少的功能，它允许我们保存训练进度，并在需要时恢复模型状态。MindSpore提供了简便的API来实现这一功能。\n",
    "\n",
    "<img src=\"./images_llm/fig5.11.svg\" width='600'>\n",
    "\n",
    "\n",
    "保存模型的训练参数："
   ]
  },
  {
   "cell_type": "code",
   "execution_count": 55,
   "metadata": {},
   "outputs": [],
   "source": [
    "mindspore.save_checkpoint(model, \"model_pretrained.ckpt\")"
   ]
  },
  {
   "cell_type": "markdown",
   "metadata": {},
   "source": [
    "加载保存的权重："
   ]
  },
  {
   "cell_type": "code",
   "execution_count": 56,
   "metadata": {},
   "outputs": [
    {
     "name": "stderr",
     "output_type": "stream",
     "text": [
      "[WARNING] ME(98110:281473781230448,MainProcess):2025-03-13-19:39:28.332.488 [mindspore/nn/layer/basic.py:171] This parameter `dtype` will be deleted or invisible in the future. Please don't use it.\n"
     ]
    },
    {
     "name": "stdout",
     "output_type": "stream",
     "text": [
      "[]\n"
     ]
    },
    {
     "data": {
      "text/plain": [
       "GPTModel<\n",
       "  (tok_emb): Embedding<vocab_size=50257, embedding_size=768, use_one_hot=False, embedding_table=Parameter (name=tok_emb.embedding_table, shape=(50257, 768), dtype=Float32, requires_grad=True), dtype=Float32, padding_idx=None>\n",
       "  (pos_emb): Embedding<vocab_size=256, embedding_size=768, use_one_hot=False, embedding_table=Parameter (name=pos_emb.embedding_table, shape=(256, 768), dtype=Float32, requires_grad=True), dtype=Float32, padding_idx=None>\n",
       "  (drop_emb): Dropout<p=0.1>\n",
       "  (trf_blocks): SequentialCell<\n",
       "    (0): TransformerBlock<\n",
       "      (att): MultiHeadAttention<\n",
       "        (W_query): Dense<input_channels=768, output_channels=768>\n",
       "        (W_key): Dense<input_channels=768, output_channels=768>\n",
       "        (W_value): Dense<input_channels=768, output_channels=768>\n",
       "        (out_proj): Dense<input_channels=768, output_channels=768, has_bias=True>\n",
       "        (dropout): Dropout<p=0.1>\n",
       "        >\n",
       "      (ff): FeedForward<\n",
       "        (layers): SequentialCell<\n",
       "          (0): Dense<input_channels=768, output_channels=3072, has_bias=True>\n",
       "          (1): GELU<>\n",
       "          (2): Dense<input_channels=3072, output_channels=768, has_bias=True>\n",
       "          >\n",
       "        >\n",
       "      (norm1): LayerNorm<>\n",
       "      (norm2): LayerNorm<>\n",
       "      (drop_shortcut): Dropout<p=0.1>\n",
       "      >\n",
       "    (1): TransformerBlock<\n",
       "      (att): MultiHeadAttention<\n",
       "        (W_query): Dense<input_channels=768, output_channels=768>\n",
       "        (W_key): Dense<input_channels=768, output_channels=768>\n",
       "        (W_value): Dense<input_channels=768, output_channels=768>\n",
       "        (out_proj): Dense<input_channels=768, output_channels=768, has_bias=True>\n",
       "        (dropout): Dropout<p=0.1>\n",
       "        >\n",
       "      (ff): FeedForward<\n",
       "        (layers): SequentialCell<\n",
       "          (0): Dense<input_channels=768, output_channels=3072, has_bias=True>\n",
       "          (1): GELU<>\n",
       "          (2): Dense<input_channels=3072, output_channels=768, has_bias=True>\n",
       "          >\n",
       "        >\n",
       "      (norm1): LayerNorm<>\n",
       "      (norm2): LayerNorm<>\n",
       "      (drop_shortcut): Dropout<p=0.1>\n",
       "      >\n",
       "    (2): TransformerBlock<\n",
       "      (att): MultiHeadAttention<\n",
       "        (W_query): Dense<input_channels=768, output_channels=768>\n",
       "        (W_key): Dense<input_channels=768, output_channels=768>\n",
       "        (W_value): Dense<input_channels=768, output_channels=768>\n",
       "        (out_proj): Dense<input_channels=768, output_channels=768, has_bias=True>\n",
       "        (dropout): Dropout<p=0.1>\n",
       "        >\n",
       "      (ff): FeedForward<\n",
       "        (layers): SequentialCell<\n",
       "          (0): Dense<input_channels=768, output_channels=3072, has_bias=True>\n",
       "          (1): GELU<>\n",
       "          (2): Dense<input_channels=3072, output_channels=768, has_bias=True>\n",
       "          >\n",
       "        >\n",
       "      (norm1): LayerNorm<>\n",
       "      (norm2): LayerNorm<>\n",
       "      (drop_shortcut): Dropout<p=0.1>\n",
       "      >\n",
       "    (3): TransformerBlock<\n",
       "      (att): MultiHeadAttention<\n",
       "        (W_query): Dense<input_channels=768, output_channels=768>\n",
       "        (W_key): Dense<input_channels=768, output_channels=768>\n",
       "        (W_value): Dense<input_channels=768, output_channels=768>\n",
       "        (out_proj): Dense<input_channels=768, output_channels=768, has_bias=True>\n",
       "        (dropout): Dropout<p=0.1>\n",
       "        >\n",
       "      (ff): FeedForward<\n",
       "        (layers): SequentialCell<\n",
       "          (0): Dense<input_channels=768, output_channels=3072, has_bias=True>\n",
       "          (1): GELU<>\n",
       "          (2): Dense<input_channels=3072, output_channels=768, has_bias=True>\n",
       "          >\n",
       "        >\n",
       "      (norm1): LayerNorm<>\n",
       "      (norm2): LayerNorm<>\n",
       "      (drop_shortcut): Dropout<p=0.1>\n",
       "      >\n",
       "    (4): TransformerBlock<\n",
       "      (att): MultiHeadAttention<\n",
       "        (W_query): Dense<input_channels=768, output_channels=768>\n",
       "        (W_key): Dense<input_channels=768, output_channels=768>\n",
       "        (W_value): Dense<input_channels=768, output_channels=768>\n",
       "        (out_proj): Dense<input_channels=768, output_channels=768, has_bias=True>\n",
       "        (dropout): Dropout<p=0.1>\n",
       "        >\n",
       "      (ff): FeedForward<\n",
       "        (layers): SequentialCell<\n",
       "          (0): Dense<input_channels=768, output_channels=3072, has_bias=True>\n",
       "          (1): GELU<>\n",
       "          (2): Dense<input_channels=3072, output_channels=768, has_bias=True>\n",
       "          >\n",
       "        >\n",
       "      (norm1): LayerNorm<>\n",
       "      (norm2): LayerNorm<>\n",
       "      (drop_shortcut): Dropout<p=0.1>\n",
       "      >\n",
       "    (5): TransformerBlock<\n",
       "      (att): MultiHeadAttention<\n",
       "        (W_query): Dense<input_channels=768, output_channels=768>\n",
       "        (W_key): Dense<input_channels=768, output_channels=768>\n",
       "        (W_value): Dense<input_channels=768, output_channels=768>\n",
       "        (out_proj): Dense<input_channels=768, output_channels=768, has_bias=True>\n",
       "        (dropout): Dropout<p=0.1>\n",
       "        >\n",
       "      (ff): FeedForward<\n",
       "        (layers): SequentialCell<\n",
       "          (0): Dense<input_channels=768, output_channels=3072, has_bias=True>\n",
       "          (1): GELU<>\n",
       "          (2): Dense<input_channels=3072, output_channels=768, has_bias=True>\n",
       "          >\n",
       "        >\n",
       "      (norm1): LayerNorm<>\n",
       "      (norm2): LayerNorm<>\n",
       "      (drop_shortcut): Dropout<p=0.1>\n",
       "      >\n",
       "    (6): TransformerBlock<\n",
       "      (att): MultiHeadAttention<\n",
       "        (W_query): Dense<input_channels=768, output_channels=768>\n",
       "        (W_key): Dense<input_channels=768, output_channels=768>\n",
       "        (W_value): Dense<input_channels=768, output_channels=768>\n",
       "        (out_proj): Dense<input_channels=768, output_channels=768, has_bias=True>\n",
       "        (dropout): Dropout<p=0.1>\n",
       "        >\n",
       "      (ff): FeedForward<\n",
       "        (layers): SequentialCell<\n",
       "          (0): Dense<input_channels=768, output_channels=3072, has_bias=True>\n",
       "          (1): GELU<>\n",
       "          (2): Dense<input_channels=3072, output_channels=768, has_bias=True>\n",
       "          >\n",
       "        >\n",
       "      (norm1): LayerNorm<>\n",
       "      (norm2): LayerNorm<>\n",
       "      (drop_shortcut): Dropout<p=0.1>\n",
       "      >\n",
       "    (7): TransformerBlock<\n",
       "      (att): MultiHeadAttention<\n",
       "        (W_query): Dense<input_channels=768, output_channels=768>\n",
       "        (W_key): Dense<input_channels=768, output_channels=768>\n",
       "        (W_value): Dense<input_channels=768, output_channels=768>\n",
       "        (out_proj): Dense<input_channels=768, output_channels=768, has_bias=True>\n",
       "        (dropout): Dropout<p=0.1>\n",
       "        >\n",
       "      (ff): FeedForward<\n",
       "        (layers): SequentialCell<\n",
       "          (0): Dense<input_channels=768, output_channels=3072, has_bias=True>\n",
       "          (1): GELU<>\n",
       "          (2): Dense<input_channels=3072, output_channels=768, has_bias=True>\n",
       "          >\n",
       "        >\n",
       "      (norm1): LayerNorm<>\n",
       "      (norm2): LayerNorm<>\n",
       "      (drop_shortcut): Dropout<p=0.1>\n",
       "      >\n",
       "    (8): TransformerBlock<\n",
       "      (att): MultiHeadAttention<\n",
       "        (W_query): Dense<input_channels=768, output_channels=768>\n",
       "        (W_key): Dense<input_channels=768, output_channels=768>\n",
       "        (W_value): Dense<input_channels=768, output_channels=768>\n",
       "        (out_proj): Dense<input_channels=768, output_channels=768, has_bias=True>\n",
       "        (dropout): Dropout<p=0.1>\n",
       "        >\n",
       "      (ff): FeedForward<\n",
       "        (layers): SequentialCell<\n",
       "          (0): Dense<input_channels=768, output_channels=3072, has_bias=True>\n",
       "          (1): GELU<>\n",
       "          (2): Dense<input_channels=3072, output_channels=768, has_bias=True>\n",
       "          >\n",
       "        >\n",
       "      (norm1): LayerNorm<>\n",
       "      (norm2): LayerNorm<>\n",
       "      (drop_shortcut): Dropout<p=0.1>\n",
       "      >\n",
       "    (9): TransformerBlock<\n",
       "      (att): MultiHeadAttention<\n",
       "        (W_query): Dense<input_channels=768, output_channels=768>\n",
       "        (W_key): Dense<input_channels=768, output_channels=768>\n",
       "        (W_value): Dense<input_channels=768, output_channels=768>\n",
       "        (out_proj): Dense<input_channels=768, output_channels=768, has_bias=True>\n",
       "        (dropout): Dropout<p=0.1>\n",
       "        >\n",
       "      (ff): FeedForward<\n",
       "        (layers): SequentialCell<\n",
       "          (0): Dense<input_channels=768, output_channels=3072, has_bias=True>\n",
       "          (1): GELU<>\n",
       "          (2): Dense<input_channels=3072, output_channels=768, has_bias=True>\n",
       "          >\n",
       "        >\n",
       "      (norm1): LayerNorm<>\n",
       "      (norm2): LayerNorm<>\n",
       "      (drop_shortcut): Dropout<p=0.1>\n",
       "      >\n",
       "    (10): TransformerBlock<\n",
       "      (att): MultiHeadAttention<\n",
       "        (W_query): Dense<input_channels=768, output_channels=768>\n",
       "        (W_key): Dense<input_channels=768, output_channels=768>\n",
       "        (W_value): Dense<input_channels=768, output_channels=768>\n",
       "        (out_proj): Dense<input_channels=768, output_channels=768, has_bias=True>\n",
       "        (dropout): Dropout<p=0.1>\n",
       "        >\n",
       "      (ff): FeedForward<\n",
       "        (layers): SequentialCell<\n",
       "          (0): Dense<input_channels=768, output_channels=3072, has_bias=True>\n",
       "          (1): GELU<>\n",
       "          (2): Dense<input_channels=3072, output_channels=768, has_bias=True>\n",
       "          >\n",
       "        >\n",
       "      (norm1): LayerNorm<>\n",
       "      (norm2): LayerNorm<>\n",
       "      (drop_shortcut): Dropout<p=0.1>\n",
       "      >\n",
       "    (11): TransformerBlock<\n",
       "      (att): MultiHeadAttention<\n",
       "        (W_query): Dense<input_channels=768, output_channels=768>\n",
       "        (W_key): Dense<input_channels=768, output_channels=768>\n",
       "        (W_value): Dense<input_channels=768, output_channels=768>\n",
       "        (out_proj): Dense<input_channels=768, output_channels=768, has_bias=True>\n",
       "        (dropout): Dropout<p=0.1>\n",
       "        >\n",
       "      (ff): FeedForward<\n",
       "        (layers): SequentialCell<\n",
       "          (0): Dense<input_channels=768, output_channels=3072, has_bias=True>\n",
       "          (1): GELU<>\n",
       "          (2): Dense<input_channels=3072, output_channels=768, has_bias=True>\n",
       "          >\n",
       "        >\n",
       "      (norm1): LayerNorm<>\n",
       "      (norm2): LayerNorm<>\n",
       "      (drop_shortcut): Dropout<p=0.1>\n",
       "      >\n",
       "    >\n",
       "  (final_norm): LayerNorm<>\n",
       "  (out_head): Dense<input_channels=768, output_channels=50257>\n",
       "  >"
      ]
     },
     "execution_count": 56,
     "metadata": {},
     "output_type": "execute_result"
    }
   ],
   "source": [
    "model = GPTModel(GPT_CONFIG_124M)\n",
    "param_dict = mindspore.load_checkpoint(\"model_pretrained.ckpt\")\n",
    "param_not_load, _ = mindspore.load_param_into_net(model, param_dict)\n",
    "print(param_not_load) # param_not_load是未被加载的参数列表，为空时代表所有参数均加载成功。\n",
    "model.set_train(False)"
   ]
  },
  {
   "cell_type": "markdown",
   "metadata": {},
   "source": [
    "模型权重的保存和加载不仅对于恢复中断的训练过程很重要，也是部署模型和分享预训练模型的基础。通过保存检查点，我们可以：\n",
    "\n",
    "1. 在训练过程中定期保存模型，防止因意外中断导致的训练进度丢失\n",
    "2. 选择表现最佳的模型版本进行部署\n",
    "3. 在不同的计算环境之间迁移模型\n",
    "4. 与其他研究者分享预训练模型，便于进一步的研究和应用"
   ]
  },
  {
   "cell_type": "markdown",
   "metadata": {},
   "source": [
    "## 5.5 从 OpenAI 加载预训练权重"
   ]
  },
  {
   "cell_type": "markdown",
   "metadata": {},
   "source": [
    "除了从头训练模型外，我们还可以利用已有的预训练模型权重。OpenAI发布了多个版本的GPT-2预训练权重，我们可以将这些权重加载到我们的模型架构中。\n",
    "\n",
    "首先，我们需要安装必要的依赖："
   ]
  },
  {
   "cell_type": "code",
   "execution_count": null,
   "metadata": {},
   "outputs": [],
   "source": [
    "! pip install  tqdm"
   ]
  },
  {
   "cell_type": "markdown",
   "metadata": {},
   "source": [
    "从 gpt_download.py 文件中导入 download_and_load_gpt2 函数，如下所示。该函数将 GPT-2 架构设置 (settings) 和权重参数 (params) 加载到Python会话中："
   ]
  },
  {
   "cell_type": "code",
   "execution_count": 58,
   "metadata": {},
   "outputs": [],
   "source": [
    "# Relative import from the gpt_download.py contained in this folder\n",
    "from gpt_download import download_and_load_gpt2"
   ]
  },
  {
   "cell_type": "markdown",
   "metadata": {},
   "source": [
    "下面我们下载并加载GPT-2模型："
   ]
  },
  {
   "cell_type": "code",
   "execution_count": 60,
   "metadata": {},
   "outputs": [],
   "source": [
    "settings, params = download_and_load_gpt2(model_size=\"124M\", models_dir=\"gpt2\")"
   ]
  },
  {
   "cell_type": "markdown",
   "metadata": {},
   "source": [
    "查看加载的模型设置："
   ]
  },
  {
   "cell_type": "code",
   "execution_count": 61,
   "metadata": {},
   "outputs": [
    {
     "name": "stdout",
     "output_type": "stream",
     "text": [
      "Settings: {'n_vocab': 50257, 'n_ctx': 1024, 'n_embd': 768, 'n_head': 12, 'n_layer': 12}\n"
     ]
    }
   ],
   "source": [
    "print(\"Settings:\", settings)"
   ]
  },
  {
   "cell_type": "markdown",
   "metadata": {},
   "source": [
    "查看参数字典的结构："
   ]
  },
  {
   "cell_type": "code",
   "execution_count": 62,
   "metadata": {},
   "outputs": [
    {
     "name": "stdout",
     "output_type": "stream",
     "text": [
      "Parameter dictionary keys: dict_keys(['blocks', 'b', 'g', 'wpe', 'wte'])\n"
     ]
    }
   ],
   "source": [
    "print(\"Parameter dictionary keys:\", params.keys())"
   ]
  },
  {
   "cell_type": "markdown",
   "metadata": {},
   "source": [
    "params字典存储LLM架构和权重信息。我们可以查看其中的一部分，例如词元嵌入权重："
   ]
  },
  {
   "cell_type": "code",
   "execution_count": 63,
   "metadata": {},
   "outputs": [
    {
     "name": "stdout",
     "output_type": "stream",
     "text": [
      "[[-0.11010301 -0.03926672  0.03310751 ... -0.1363697   0.01506208\n",
      "   0.04531523]\n",
      " [ 0.04034033 -0.04861503  0.04624869 ...  0.08605453  0.00253983\n",
      "   0.04318958]\n",
      " [-0.12746179  0.04793796  0.18410145 ...  0.08991534 -0.12972379\n",
      "  -0.08785918]\n",
      " ...\n",
      " [-0.04453601 -0.05483596  0.01225674 ...  0.10435229  0.09783269\n",
      "  -0.06952604]\n",
      " [ 0.1860082   0.01665728  0.04611587 ... -0.09625227  0.07847701\n",
      "  -0.02245961]\n",
      " [ 0.05135201 -0.02768905  0.0499369  ...  0.00704835  0.15519823\n",
      "   0.12067825]]\n",
      "Token embedding weight tensor dimensions: (50257, 768)\n"
     ]
    }
   ],
   "source": [
    "print(params[\"wte\"])\n",
    "print(\"Token embedding weight tensor dimensions:\", params[\"wte\"].shape)"
   ]
  },
  {
   "cell_type": "markdown",
   "metadata": {},
   "source": [
    "我们通过 `download_and_load_gpt2(model_size=\"124M\", ...)` 下载并加载了最小 GPT-2 模型的权重。OpenAI还提供了几种不同大小的预训练模型，每种模型具有不同的参数规模和能力：\n",
    "\n",
    "<img src=\"./images_llm/fig5.12.svg\" width='600'>"
   ]
  },
  {
   "cell_type": "markdown",
   "metadata": {},
   "source": [
    "首先，我们创建一个字典，列出图中不同 GPT 模型大小之间的差异："
   ]
  },
  {
   "cell_type": "code",
   "execution_count": 65,
   "metadata": {},
   "outputs": [],
   "source": [
    "# Define model configurations in a dictionary for compactness\n",
    "model_configs = {\n",
    "    \"gpt2-small (124M)\": {\"emb_dim\": 768, \"n_layers\": 12, \"n_heads\": 12},\n",
    "    \"gpt2-medium (355M)\": {\"emb_dim\": 1024, \"n_layers\": 24, \"n_heads\": 16},\n",
    "    \"gpt2-large (774M)\": {\"emb_dim\": 1280, \"n_layers\": 36, \"n_heads\": 20},\n",
    "    \"gpt2-xl (1558M)\": {\"emb_dim\": 1600, \"n_layers\": 48, \"n_heads\": 25},\n",
    "}\n"
   ]
  },
  {
   "cell_type": "markdown",
   "metadata": {},
   "source": [
    "这些不同大小的模型在参数数量、嵌入维度、层数和注意力头数上有所不同。通常，参数量越大的模型表现越好，但计算需求也越高。\n",
    "\n",
    "假设加载最小的模型“`gpt2-small (124M)`”，可以使用 `model_configs` 表中的相应设置来更新 `GPT_CONFIG_124M`："
   ]
  },
  {
   "cell_type": "code",
   "execution_count": 66,
   "metadata": {},
   "outputs": [
    {
     "name": "stderr",
     "output_type": "stream",
     "text": [
      "[WARNING] ME(98110:281473781230448,MainProcess):2025-03-13-19:40:31.158.797 [mindspore/nn/layer/basic.py:171] This parameter `dtype` will be deleted or invisible in the future. Please don't use it.\n"
     ]
    },
    {
     "data": {
      "text/plain": [
       "GPTModel<\n",
       "  (tok_emb): Embedding<vocab_size=50257, embedding_size=768, use_one_hot=False, embedding_table=Parameter (name=tok_emb.embedding_table, shape=(50257, 768), dtype=Float32, requires_grad=True), dtype=Float32, padding_idx=None>\n",
       "  (pos_emb): Embedding<vocab_size=1024, embedding_size=768, use_one_hot=False, embedding_table=Parameter (name=pos_emb.embedding_table, shape=(1024, 768), dtype=Float32, requires_grad=True), dtype=Float32, padding_idx=None>\n",
       "  (drop_emb): Dropout<p=0.1>\n",
       "  (trf_blocks): SequentialCell<\n",
       "    (0): TransformerBlock<\n",
       "      (att): MultiHeadAttention<\n",
       "        (W_query): Dense<input_channels=768, output_channels=768, has_bias=True>\n",
       "        (W_key): Dense<input_channels=768, output_channels=768, has_bias=True>\n",
       "        (W_value): Dense<input_channels=768, output_channels=768, has_bias=True>\n",
       "        (out_proj): Dense<input_channels=768, output_channels=768, has_bias=True>\n",
       "        (dropout): Dropout<p=0.1>\n",
       "        >\n",
       "      (ff): FeedForward<\n",
       "        (layers): SequentialCell<\n",
       "          (0): Dense<input_channels=768, output_channels=3072, has_bias=True>\n",
       "          (1): GELU<>\n",
       "          (2): Dense<input_channels=3072, output_channels=768, has_bias=True>\n",
       "          >\n",
       "        >\n",
       "      (norm1): LayerNorm<>\n",
       "      (norm2): LayerNorm<>\n",
       "      (drop_shortcut): Dropout<p=0.1>\n",
       "      >\n",
       "    (1): TransformerBlock<\n",
       "      (att): MultiHeadAttention<\n",
       "        (W_query): Dense<input_channels=768, output_channels=768, has_bias=True>\n",
       "        (W_key): Dense<input_channels=768, output_channels=768, has_bias=True>\n",
       "        (W_value): Dense<input_channels=768, output_channels=768, has_bias=True>\n",
       "        (out_proj): Dense<input_channels=768, output_channels=768, has_bias=True>\n",
       "        (dropout): Dropout<p=0.1>\n",
       "        >\n",
       "      (ff): FeedForward<\n",
       "        (layers): SequentialCell<\n",
       "          (0): Dense<input_channels=768, output_channels=3072, has_bias=True>\n",
       "          (1): GELU<>\n",
       "          (2): Dense<input_channels=3072, output_channels=768, has_bias=True>\n",
       "          >\n",
       "        >\n",
       "      (norm1): LayerNorm<>\n",
       "      (norm2): LayerNorm<>\n",
       "      (drop_shortcut): Dropout<p=0.1>\n",
       "      >\n",
       "    (2): TransformerBlock<\n",
       "      (att): MultiHeadAttention<\n",
       "        (W_query): Dense<input_channels=768, output_channels=768, has_bias=True>\n",
       "        (W_key): Dense<input_channels=768, output_channels=768, has_bias=True>\n",
       "        (W_value): Dense<input_channels=768, output_channels=768, has_bias=True>\n",
       "        (out_proj): Dense<input_channels=768, output_channels=768, has_bias=True>\n",
       "        (dropout): Dropout<p=0.1>\n",
       "        >\n",
       "      (ff): FeedForward<\n",
       "        (layers): SequentialCell<\n",
       "          (0): Dense<input_channels=768, output_channels=3072, has_bias=True>\n",
       "          (1): GELU<>\n",
       "          (2): Dense<input_channels=3072, output_channels=768, has_bias=True>\n",
       "          >\n",
       "        >\n",
       "      (norm1): LayerNorm<>\n",
       "      (norm2): LayerNorm<>\n",
       "      (drop_shortcut): Dropout<p=0.1>\n",
       "      >\n",
       "    (3): TransformerBlock<\n",
       "      (att): MultiHeadAttention<\n",
       "        (W_query): Dense<input_channels=768, output_channels=768, has_bias=True>\n",
       "        (W_key): Dense<input_channels=768, output_channels=768, has_bias=True>\n",
       "        (W_value): Dense<input_channels=768, output_channels=768, has_bias=True>\n",
       "        (out_proj): Dense<input_channels=768, output_channels=768, has_bias=True>\n",
       "        (dropout): Dropout<p=0.1>\n",
       "        >\n",
       "      (ff): FeedForward<\n",
       "        (layers): SequentialCell<\n",
       "          (0): Dense<input_channels=768, output_channels=3072, has_bias=True>\n",
       "          (1): GELU<>\n",
       "          (2): Dense<input_channels=3072, output_channels=768, has_bias=True>\n",
       "          >\n",
       "        >\n",
       "      (norm1): LayerNorm<>\n",
       "      (norm2): LayerNorm<>\n",
       "      (drop_shortcut): Dropout<p=0.1>\n",
       "      >\n",
       "    (4): TransformerBlock<\n",
       "      (att): MultiHeadAttention<\n",
       "        (W_query): Dense<input_channels=768, output_channels=768, has_bias=True>\n",
       "        (W_key): Dense<input_channels=768, output_channels=768, has_bias=True>\n",
       "        (W_value): Dense<input_channels=768, output_channels=768, has_bias=True>\n",
       "        (out_proj): Dense<input_channels=768, output_channels=768, has_bias=True>\n",
       "        (dropout): Dropout<p=0.1>\n",
       "        >\n",
       "      (ff): FeedForward<\n",
       "        (layers): SequentialCell<\n",
       "          (0): Dense<input_channels=768, output_channels=3072, has_bias=True>\n",
       "          (1): GELU<>\n",
       "          (2): Dense<input_channels=3072, output_channels=768, has_bias=True>\n",
       "          >\n",
       "        >\n",
       "      (norm1): LayerNorm<>\n",
       "      (norm2): LayerNorm<>\n",
       "      (drop_shortcut): Dropout<p=0.1>\n",
       "      >\n",
       "    (5): TransformerBlock<\n",
       "      (att): MultiHeadAttention<\n",
       "        (W_query): Dense<input_channels=768, output_channels=768, has_bias=True>\n",
       "        (W_key): Dense<input_channels=768, output_channels=768, has_bias=True>\n",
       "        (W_value): Dense<input_channels=768, output_channels=768, has_bias=True>\n",
       "        (out_proj): Dense<input_channels=768, output_channels=768, has_bias=True>\n",
       "        (dropout): Dropout<p=0.1>\n",
       "        >\n",
       "      (ff): FeedForward<\n",
       "        (layers): SequentialCell<\n",
       "          (0): Dense<input_channels=768, output_channels=3072, has_bias=True>\n",
       "          (1): GELU<>\n",
       "          (2): Dense<input_channels=3072, output_channels=768, has_bias=True>\n",
       "          >\n",
       "        >\n",
       "      (norm1): LayerNorm<>\n",
       "      (norm2): LayerNorm<>\n",
       "      (drop_shortcut): Dropout<p=0.1>\n",
       "      >\n",
       "    (6): TransformerBlock<\n",
       "      (att): MultiHeadAttention<\n",
       "        (W_query): Dense<input_channels=768, output_channels=768, has_bias=True>\n",
       "        (W_key): Dense<input_channels=768, output_channels=768, has_bias=True>\n",
       "        (W_value): Dense<input_channels=768, output_channels=768, has_bias=True>\n",
       "        (out_proj): Dense<input_channels=768, output_channels=768, has_bias=True>\n",
       "        (dropout): Dropout<p=0.1>\n",
       "        >\n",
       "      (ff): FeedForward<\n",
       "        (layers): SequentialCell<\n",
       "          (0): Dense<input_channels=768, output_channels=3072, has_bias=True>\n",
       "          (1): GELU<>\n",
       "          (2): Dense<input_channels=3072, output_channels=768, has_bias=True>\n",
       "          >\n",
       "        >\n",
       "      (norm1): LayerNorm<>\n",
       "      (norm2): LayerNorm<>\n",
       "      (drop_shortcut): Dropout<p=0.1>\n",
       "      >\n",
       "    (7): TransformerBlock<\n",
       "      (att): MultiHeadAttention<\n",
       "        (W_query): Dense<input_channels=768, output_channels=768, has_bias=True>\n",
       "        (W_key): Dense<input_channels=768, output_channels=768, has_bias=True>\n",
       "        (W_value): Dense<input_channels=768, output_channels=768, has_bias=True>\n",
       "        (out_proj): Dense<input_channels=768, output_channels=768, has_bias=True>\n",
       "        (dropout): Dropout<p=0.1>\n",
       "        >\n",
       "      (ff): FeedForward<\n",
       "        (layers): SequentialCell<\n",
       "          (0): Dense<input_channels=768, output_channels=3072, has_bias=True>\n",
       "          (1): GELU<>\n",
       "          (2): Dense<input_channels=3072, output_channels=768, has_bias=True>\n",
       "          >\n",
       "        >\n",
       "      (norm1): LayerNorm<>\n",
       "      (norm2): LayerNorm<>\n",
       "      (drop_shortcut): Dropout<p=0.1>\n",
       "      >\n",
       "    (8): TransformerBlock<\n",
       "      (att): MultiHeadAttention<\n",
       "        (W_query): Dense<input_channels=768, output_channels=768, has_bias=True>\n",
       "        (W_key): Dense<input_channels=768, output_channels=768, has_bias=True>\n",
       "        (W_value): Dense<input_channels=768, output_channels=768, has_bias=True>\n",
       "        (out_proj): Dense<input_channels=768, output_channels=768, has_bias=True>\n",
       "        (dropout): Dropout<p=0.1>\n",
       "        >\n",
       "      (ff): FeedForward<\n",
       "        (layers): SequentialCell<\n",
       "          (0): Dense<input_channels=768, output_channels=3072, has_bias=True>\n",
       "          (1): GELU<>\n",
       "          (2): Dense<input_channels=3072, output_channels=768, has_bias=True>\n",
       "          >\n",
       "        >\n",
       "      (norm1): LayerNorm<>\n",
       "      (norm2): LayerNorm<>\n",
       "      (drop_shortcut): Dropout<p=0.1>\n",
       "      >\n",
       "    (9): TransformerBlock<\n",
       "      (att): MultiHeadAttention<\n",
       "        (W_query): Dense<input_channels=768, output_channels=768, has_bias=True>\n",
       "        (W_key): Dense<input_channels=768, output_channels=768, has_bias=True>\n",
       "        (W_value): Dense<input_channels=768, output_channels=768, has_bias=True>\n",
       "        (out_proj): Dense<input_channels=768, output_channels=768, has_bias=True>\n",
       "        (dropout): Dropout<p=0.1>\n",
       "        >\n",
       "      (ff): FeedForward<\n",
       "        (layers): SequentialCell<\n",
       "          (0): Dense<input_channels=768, output_channels=3072, has_bias=True>\n",
       "          (1): GELU<>\n",
       "          (2): Dense<input_channels=3072, output_channels=768, has_bias=True>\n",
       "          >\n",
       "        >\n",
       "      (norm1): LayerNorm<>\n",
       "      (norm2): LayerNorm<>\n",
       "      (drop_shortcut): Dropout<p=0.1>\n",
       "      >\n",
       "    (10): TransformerBlock<\n",
       "      (att): MultiHeadAttention<\n",
       "        (W_query): Dense<input_channels=768, output_channels=768, has_bias=True>\n",
       "        (W_key): Dense<input_channels=768, output_channels=768, has_bias=True>\n",
       "        (W_value): Dense<input_channels=768, output_channels=768, has_bias=True>\n",
       "        (out_proj): Dense<input_channels=768, output_channels=768, has_bias=True>\n",
       "        (dropout): Dropout<p=0.1>\n",
       "        >\n",
       "      (ff): FeedForward<\n",
       "        (layers): SequentialCell<\n",
       "          (0): Dense<input_channels=768, output_channels=3072, has_bias=True>\n",
       "          (1): GELU<>\n",
       "          (2): Dense<input_channels=3072, output_channels=768, has_bias=True>\n",
       "          >\n",
       "        >\n",
       "      (norm1): LayerNorm<>\n",
       "      (norm2): LayerNorm<>\n",
       "      (drop_shortcut): Dropout<p=0.1>\n",
       "      >\n",
       "    (11): TransformerBlock<\n",
       "      (att): MultiHeadAttention<\n",
       "        (W_query): Dense<input_channels=768, output_channels=768, has_bias=True>\n",
       "        (W_key): Dense<input_channels=768, output_channels=768, has_bias=True>\n",
       "        (W_value): Dense<input_channels=768, output_channels=768, has_bias=True>\n",
       "        (out_proj): Dense<input_channels=768, output_channels=768, has_bias=True>\n",
       "        (dropout): Dropout<p=0.1>\n",
       "        >\n",
       "      (ff): FeedForward<\n",
       "        (layers): SequentialCell<\n",
       "          (0): Dense<input_channels=768, output_channels=3072, has_bias=True>\n",
       "          (1): GELU<>\n",
       "          (2): Dense<input_channels=3072, output_channels=768, has_bias=True>\n",
       "          >\n",
       "        >\n",
       "      (norm1): LayerNorm<>\n",
       "      (norm2): LayerNorm<>\n",
       "      (drop_shortcut): Dropout<p=0.1>\n",
       "      >\n",
       "    >\n",
       "  (final_norm): LayerNorm<>\n",
       "  (out_head): Dense<input_channels=768, output_channels=50257>\n",
       "  >"
      ]
     },
     "execution_count": 66,
     "metadata": {},
     "output_type": "execute_result"
    }
   ],
   "source": [
    "\n",
    "# Copy the base configuration and update with specific model settings\n",
    "model_name = \"gpt2-small (124M)\"  # Example model name\n",
    "NEW_CONFIG = GPT_CONFIG_124M.copy()\n",
    "NEW_CONFIG.update(model_configs[model_name])\n",
    "NEW_CONFIG.update({\"context_length\": 1024, \"qkv_bias\": True})\n",
    "\n",
    "gpt = GPTModel(NEW_CONFIG)\n",
    "gpt.set_train(False)"
   ]
  },
  {
   "cell_type": "markdown",
   "metadata": {},
   "source": [
    "接下来，我们定义一个辅助函数，用于检查和设置参数形状："
   ]
  },
  {
   "cell_type": "code",
   "execution_count": 67,
   "metadata": {},
   "outputs": [],
   "source": [
    "def assign(left, right):\n",
    "    print(f\"Shape. Left: {left.shape}, Right: {right.shape}\")\n",
    "    if left.shape != right.shape:\n",
    "        raise ValueError(f\"Shape mismatch. Left: {left.shape}, Right: {right.shape}\")\n",
    "    return mindspore.Parameter(Tensor(right))"
   ]
  },
  {
   "cell_type": "markdown",
   "metadata": {},
   "source": [
    "接下来，我们定义一个 `load_weights_into_gpt` 函数，将 `params` 字典中的权重加载到 `GPTModel` 实例中:"
   ]
  },
  {
   "cell_type": "code",
   "execution_count": 68,
   "metadata": {},
   "outputs": [
    {
     "name": "stdout",
     "output_type": "stream",
     "text": [
      "Shape. Left: (1024, 768), Right: (1024, 768)\n",
      "Shape. Left: (50257, 768), Right: (50257, 768)\n",
      "Shape. Left: (768, 768), Right: (768, 768)\n",
      "Shape. Left: (768, 768), Right: (768, 768)\n",
      "Shape. Left: (768, 768), Right: (768, 768)\n",
      "Shape. Left: (768,), Right: (768,)\n",
      "Shape. Left: (768,), Right: (768,)\n",
      "Shape. Left: (768,), Right: (768,)\n",
      "Shape. Left: (768, 768), Right: (768, 768)\n",
      "Shape. Left: (768,), Right: (768,)\n",
      "Shape. Left: (3072, 768), Right: (3072, 768)\n",
      "Shape. Left: (3072,), Right: (3072,)\n",
      "Shape. Left: (768, 3072), Right: (768, 3072)\n",
      "Shape. Left: (768,), Right: (768,)\n",
      "Shape. Left: (768,), Right: (768,)\n",
      "Shape. Left: (768,), Right: (768,)\n",
      "Shape. Left: (768,), Right: (768,)\n",
      "Shape. Left: (768,), Right: (768,)\n",
      "Shape. Left: (768, 768), Right: (768, 768)\n",
      "Shape. Left: (768, 768), Right: (768, 768)\n",
      "Shape. Left: (768, 768), Right: (768, 768)\n",
      "Shape. Left: (768,), Right: (768,)\n",
      "Shape. Left: (768,), Right: (768,)\n",
      "Shape. Left: (768,), Right: (768,)\n",
      "Shape. Left: (768, 768), Right: (768, 768)\n",
      "Shape. Left: (768,), Right: (768,)\n",
      "Shape. Left: (3072, 768), Right: (3072, 768)\n",
      "Shape. Left: (3072,), Right: (3072,)\n",
      "Shape. Left: (768, 3072), Right: (768, 3072)\n",
      "Shape. Left: (768,), Right: (768,)\n",
      "Shape. Left: (768,), Right: (768,)\n",
      "Shape. Left: (768,), Right: (768,)\n",
      "Shape. Left: (768,), Right: (768,)\n",
      "Shape. Left: (768,), Right: (768,)\n",
      "Shape. Left: (768, 768), Right: (768, 768)\n",
      "Shape. Left: (768, 768), Right: (768, 768)\n",
      "Shape. Left: (768, 768), Right: (768, 768)\n",
      "Shape. Left: (768,), Right: (768,)\n",
      "Shape. Left: (768,), Right: (768,)\n",
      "Shape. Left: (768,), Right: (768,)\n",
      "Shape. Left: (768, 768), Right: (768, 768)\n",
      "Shape. Left: (768,), Right: (768,)\n",
      "Shape. Left: (3072, 768), Right: (3072, 768)\n",
      "Shape. Left: (3072,), Right: (3072,)\n",
      "Shape. Left: (768, 3072), Right: (768, 3072)\n",
      "Shape. Left: (768,), Right: (768,)\n",
      "Shape. Left: (768,), Right: (768,)\n",
      "Shape. Left: (768,), Right: (768,)\n",
      "Shape. Left: (768,), Right: (768,)\n",
      "Shape. Left: (768,), Right: (768,)\n",
      "Shape. Left: (768, 768), Right: (768, 768)\n",
      "Shape. Left: (768, 768), Right: (768, 768)\n",
      "Shape. Left: (768, 768), Right: (768, 768)\n",
      "Shape. Left: (768,), Right: (768,)\n",
      "Shape. Left: (768,), Right: (768,)\n",
      "Shape. Left: (768,), Right: (768,)\n",
      "Shape. Left: (768, 768), Right: (768, 768)\n",
      "Shape. Left: (768,), Right: (768,)\n",
      "Shape. Left: (3072, 768), Right: (3072, 768)\n",
      "Shape. Left: (3072,), Right: (3072,)\n",
      "Shape. Left: (768, 3072), Right: (768, 3072)\n",
      "Shape. Left: (768,), Right: (768,)\n",
      "Shape. Left: (768,), Right: (768,)\n",
      "Shape. Left: (768,), Right: (768,)\n",
      "Shape. Left: (768,), Right: (768,)\n",
      "Shape. Left: (768,), Right: (768,)\n",
      "Shape. Left: (768, 768), Right: (768, 768)\n",
      "Shape. Left: (768, 768), Right: (768, 768)\n",
      "Shape. Left: (768, 768), Right: (768, 768)\n",
      "Shape. Left: (768,), Right: (768,)\n",
      "Shape. Left: (768,), Right: (768,)\n",
      "Shape. Left: (768,), Right: (768,)\n",
      "Shape. Left: (768, 768), Right: (768, 768)\n",
      "Shape. Left: (768,), Right: (768,)\n",
      "Shape. Left: (3072, 768), Right: (3072, 768)\n",
      "Shape. Left: (3072,), Right: (3072,)\n",
      "Shape. Left: (768, 3072), Right: (768, 3072)\n",
      "Shape. Left: (768,), Right: (768,)\n",
      "Shape. Left: (768,), Right: (768,)\n",
      "Shape. Left: (768,), Right: (768,)\n",
      "Shape. Left: (768,), Right: (768,)\n",
      "Shape. Left: (768,), Right: (768,)\n",
      "Shape. Left: (768, 768), Right: (768, 768)\n",
      "Shape. Left: (768, 768), Right: (768, 768)\n",
      "Shape. Left: (768, 768), Right: (768, 768)\n",
      "Shape. Left: (768,), Right: (768,)\n",
      "Shape. Left: (768,), Right: (768,)\n",
      "Shape. Left: (768,), Right: (768,)\n",
      "Shape. Left: (768, 768), Right: (768, 768)\n",
      "Shape. Left: (768,), Right: (768,)\n",
      "Shape. Left: (3072, 768), Right: (3072, 768)\n",
      "Shape. Left: (3072,), Right: (3072,)\n",
      "Shape. Left: (768, 3072), Right: (768, 3072)\n",
      "Shape. Left: (768,), Right: (768,)\n",
      "Shape. Left: (768,), Right: (768,)\n",
      "Shape. Left: (768,), Right: (768,)\n",
      "Shape. Left: (768,), Right: (768,)\n",
      "Shape. Left: (768,), Right: (768,)\n",
      "Shape. Left: (768, 768), Right: (768, 768)\n",
      "Shape. Left: (768, 768), Right: (768, 768)\n",
      "Shape. Left: (768, 768), Right: (768, 768)\n",
      "Shape. Left: (768,), Right: (768,)\n",
      "Shape. Left: (768,), Right: (768,)\n",
      "Shape. Left: (768,), Right: (768,)\n",
      "Shape. Left: (768, 768), Right: (768, 768)\n",
      "Shape. Left: (768,), Right: (768,)\n",
      "Shape. Left: (3072, 768), Right: (3072, 768)\n",
      "Shape. Left: (3072,), Right: (3072,)\n",
      "Shape. Left: (768, 3072), Right: (768, 3072)\n",
      "Shape. Left: (768,), Right: (768,)\n",
      "Shape. Left: (768,), Right: (768,)\n",
      "Shape. Left: (768,), Right: (768,)\n",
      "Shape. Left: (768,), Right: (768,)\n",
      "Shape. Left: (768,), Right: (768,)\n",
      "Shape. Left: (768, 768), Right: (768, 768)\n",
      "Shape. Left: (768, 768), Right: (768, 768)\n",
      "Shape. Left: (768, 768), Right: (768, 768)\n",
      "Shape. Left: (768,), Right: (768,)\n",
      "Shape. Left: (768,), Right: (768,)\n",
      "Shape. Left: (768,), Right: (768,)\n",
      "Shape. Left: (768, 768), Right: (768, 768)\n",
      "Shape. Left: (768,), Right: (768,)\n",
      "Shape. Left: (3072, 768), Right: (3072, 768)\n",
      "Shape. Left: (3072,), Right: (3072,)\n",
      "Shape. Left: (768, 3072), Right: (768, 3072)\n",
      "Shape. Left: (768,), Right: (768,)\n",
      "Shape. Left: (768,), Right: (768,)\n",
      "Shape. Left: (768,), Right: (768,)\n",
      "Shape. Left: (768,), Right: (768,)\n",
      "Shape. Left: (768,), Right: (768,)\n",
      "Shape. Left: (768, 768), Right: (768, 768)\n",
      "Shape. Left: (768, 768), Right: (768, 768)\n",
      "Shape. Left: (768, 768), Right: (768, 768)\n",
      "Shape. Left: (768,), Right: (768,)\n",
      "Shape. Left: (768,), Right: (768,)\n",
      "Shape. Left: (768,), Right: (768,)\n",
      "Shape. Left: (768, 768), Right: (768, 768)\n",
      "Shape. Left: (768,), Right: (768,)\n",
      "Shape. Left: (3072, 768), Right: (3072, 768)\n",
      "Shape. Left: (3072,), Right: (3072,)\n",
      "Shape. Left: (768, 3072), Right: (768, 3072)\n",
      "Shape. Left: (768,), Right: (768,)\n",
      "Shape. Left: (768,), Right: (768,)\n",
      "Shape. Left: (768,), Right: (768,)\n",
      "Shape. Left: (768,), Right: (768,)\n",
      "Shape. Left: (768,), Right: (768,)\n",
      "Shape. Left: (768, 768), Right: (768, 768)\n",
      "Shape. Left: (768, 768), Right: (768, 768)\n",
      "Shape. Left: (768, 768), Right: (768, 768)\n",
      "Shape. Left: (768,), Right: (768,)\n",
      "Shape. Left: (768,), Right: (768,)\n",
      "Shape. Left: (768,), Right: (768,)\n",
      "Shape. Left: (768, 768), Right: (768, 768)\n",
      "Shape. Left: (768,), Right: (768,)\n",
      "Shape. Left: (3072, 768), Right: (3072, 768)\n",
      "Shape. Left: (3072,), Right: (3072,)\n",
      "Shape. Left: (768, 3072), Right: (768, 3072)\n",
      "Shape. Left: (768,), Right: (768,)\n",
      "Shape. Left: (768,), Right: (768,)\n",
      "Shape. Left: (768,), Right: (768,)\n",
      "Shape. Left: (768,), Right: (768,)\n",
      "Shape. Left: (768,), Right: (768,)\n",
      "Shape. Left: (768, 768), Right: (768, 768)\n",
      "Shape. Left: (768, 768), Right: (768, 768)\n",
      "Shape. Left: (768, 768), Right: (768, 768)\n",
      "Shape. Left: (768,), Right: (768,)\n",
      "Shape. Left: (768,), Right: (768,)\n",
      "Shape. Left: (768,), Right: (768,)\n",
      "Shape. Left: (768, 768), Right: (768, 768)\n",
      "Shape. Left: (768,), Right: (768,)\n",
      "Shape. Left: (3072, 768), Right: (3072, 768)\n",
      "Shape. Left: (3072,), Right: (3072,)\n",
      "Shape. Left: (768, 3072), Right: (768, 3072)\n",
      "Shape. Left: (768,), Right: (768,)\n",
      "Shape. Left: (768,), Right: (768,)\n",
      "Shape. Left: (768,), Right: (768,)\n",
      "Shape. Left: (768,), Right: (768,)\n",
      "Shape. Left: (768,), Right: (768,)\n",
      "Shape. Left: (768, 768), Right: (768, 768)\n",
      "Shape. Left: (768, 768), Right: (768, 768)\n",
      "Shape. Left: (768, 768), Right: (768, 768)\n",
      "Shape. Left: (768,), Right: (768,)\n",
      "Shape. Left: (768,), Right: (768,)\n",
      "Shape. Left: (768,), Right: (768,)\n",
      "Shape. Left: (768, 768), Right: (768, 768)\n",
      "Shape. Left: (768,), Right: (768,)\n",
      "Shape. Left: (3072, 768), Right: (3072, 768)\n",
      "Shape. Left: (3072,), Right: (3072,)\n",
      "Shape. Left: (768, 3072), Right: (768, 3072)\n",
      "Shape. Left: (768,), Right: (768,)\n",
      "Shape. Left: (768,), Right: (768,)\n",
      "Shape. Left: (768,), Right: (768,)\n",
      "Shape. Left: (768,), Right: (768,)\n",
      "Shape. Left: (768,), Right: (768,)\n",
      "Shape. Left: (768,), Right: (768,)\n",
      "Shape. Left: (768,), Right: (768,)\n",
      "Shape. Left: (50257, 768), Right: (50257, 768)\n"
     ]
    }
   ],
   "source": [
    "import numpy as np\n",
    "from mindspore import Tensor\n",
    "\n",
    "def load_weights_into_gpt(gpt, params):\n",
    "    gpt.pos_emb.embedding_table = assign(gpt.pos_emb.embedding_table, params['wpe'])\n",
    "    gpt.tok_emb.embedding_table = assign(gpt.tok_emb.embedding_table, params['wte'])\n",
    "    \n",
    "    for b in range(len(params[\"blocks\"])):\n",
    "        q_w, k_w, v_w = np.split(\n",
    "            (params[\"blocks\"][b][\"attn\"][\"c_attn\"])[\"w\"], 3, axis=-1)\n",
    "        gpt.trf_blocks[b].att.W_query.weight = assign(\n",
    "            gpt.trf_blocks[b].att.W_query.weight, q_w.T)\n",
    "        gpt.trf_blocks[b].att.W_key.weight = assign(\n",
    "            gpt.trf_blocks[b].att.W_key.weight, k_w.T)\n",
    "        gpt.trf_blocks[b].att.W_value.weight = assign(\n",
    "            gpt.trf_blocks[b].att.W_value.weight, v_w.T)\n",
    "\n",
    "        q_b, k_b, v_b = np.split(\n",
    "            (params[\"blocks\"][b][\"attn\"][\"c_attn\"])[\"b\"], 3, axis=-1)\n",
    "        gpt.trf_blocks[b].att.W_query.bias = assign(\n",
    "            gpt.trf_blocks[b].att.W_query.bias, q_b)\n",
    "        gpt.trf_blocks[b].att.W_key.bias = assign(\n",
    "            gpt.trf_blocks[b].att.W_key.bias, k_b)\n",
    "        gpt.trf_blocks[b].att.W_value.bias = assign(\n",
    "            gpt.trf_blocks[b].att.W_value.bias, v_b)\n",
    "\n",
    "        gpt.trf_blocks[b].att.out_proj.weight = assign(\n",
    "            gpt.trf_blocks[b].att.out_proj.weight, \n",
    "            params[\"blocks\"][b][\"attn\"][\"c_proj\"][\"w\"].T)\n",
    "        gpt.trf_blocks[b].att.out_proj.bias = assign(\n",
    "            gpt.trf_blocks[b].att.out_proj.bias, \n",
    "            params[\"blocks\"][b][\"attn\"][\"c_proj\"][\"b\"])\n",
    "\n",
    "        gpt.trf_blocks[b].ff.layers[0].weight = assign(\n",
    "            gpt.trf_blocks[b].ff.layers[0].weight, \n",
    "            params[\"blocks\"][b][\"mlp\"][\"c_fc\"][\"w\"].T)\n",
    "        gpt.trf_blocks[b].ff.layers[0].bias = assign(\n",
    "            gpt.trf_blocks[b].ff.layers[0].bias, \n",
    "            params[\"blocks\"][b][\"mlp\"][\"c_fc\"][\"b\"])\n",
    "        gpt.trf_blocks[b].ff.layers[2].weight = assign(\n",
    "            gpt.trf_blocks[b].ff.layers[2].weight, \n",
    "            params[\"blocks\"][b][\"mlp\"][\"c_proj\"][\"w\"].T)\n",
    "        gpt.trf_blocks[b].ff.layers[2].bias = assign(\n",
    "            gpt.trf_blocks[b].ff.layers[2].bias, \n",
    "            params[\"blocks\"][b][\"mlp\"][\"c_proj\"][\"b\"])\n",
    "\n",
    "        gpt.trf_blocks[b].norm1.scale = assign(\n",
    "            gpt.trf_blocks[b].norm1.scale, \n",
    "            params[\"blocks\"][b][\"ln_1\"][\"g\"])\n",
    "        gpt.trf_blocks[b].norm1.shift = assign(\n",
    "            gpt.trf_blocks[b].norm1.shift, \n",
    "            params[\"blocks\"][b][\"ln_1\"][\"b\"])\n",
    "        gpt.trf_blocks[b].norm2.scale = assign(\n",
    "            gpt.trf_blocks[b].norm2.scale, \n",
    "            params[\"blocks\"][b][\"ln_2\"][\"g\"])\n",
    "        gpt.trf_blocks[b].norm2.shift = assign(\n",
    "            gpt.trf_blocks[b].norm2.shift, \n",
    "            params[\"blocks\"][b][\"ln_2\"][\"b\"])\n",
    "\n",
    "    gpt.final_norm.scale = assign(gpt.final_norm.scale, params[\"g\"])\n",
    "    gpt.final_norm.shift = assign(gpt.final_norm.shift, params[\"b\"])\n",
    "    gpt.out_head.weight = assign(gpt.out_head.weight, params[\"wte\"])\n",
    "    \n",
    "    \n",
    "load_weights_into_gpt(gpt, params)"
   ]
  },
  {
   "cell_type": "markdown",
   "metadata": {},
   "source": [
    "这个函数将预训练的权重映射到我们的模型架构中，使得我们可以直接使用预训练模型的能力。这是一个重要的技术，因为从头训练一个大型语言模型需要大量的计算资源和数据。\n",
    "\n",
    "如果模型加载正确，我们可以使用它通过我们之前的 `generate` 函数生成新文本："
   ]
  },
  {
   "cell_type": "code",
   "execution_count": 71,
   "metadata": {},
   "outputs": [
    {
     "name": "stderr",
     "output_type": "stream",
     "text": [
      "Keyword arguments {'allowed_special': {'<|endoftext|>'}} not recognized.\n"
     ]
    },
    {
     "name": "stdout",
     "output_type": "stream",
     "text": [
      "Output text:\n",
      " Every effort moves you as far as you can from one point to another, and each step means nothing except your progress.\n",
      "\n",
      "\n",
      "This post was\n"
     ]
    }
   ],
   "source": [
    "mindspore.set_seed(12)\n",
    "\n",
    "token_ids = generate(\n",
    "    model=gpt,\n",
    "    idx=text_to_token_ids(\"Every effort moves you\", tokenizer),\n",
    "    max_new_tokens=25,\n",
    "    context_size=NEW_CONFIG[\"context_length\"],\n",
    "    top_k=50,\n",
    "    temperature=1.5\n",
    ")\n",
    "\n",
    "print(\"Output text:\\n\", token_ids_to_text(token_ids, tokenizer))"
   ]
  },
  {
   "cell_type": "markdown",
   "metadata": {},
   "source": [
    "可以看到，使用预训练权重的模型生成的文本比从头训练的模型更加连贯和有意义。这是因为预训练模型已经从大量文本数据中学习了语言的结构和模式。"
   ]
  },
  {
   "cell_type": "markdown",
   "metadata": {},
   "source": [
    "## 5.6 总结\n",
    "\n",
    "在本章中，我们实现了大语言模型的预训练过程，并探索了几种常用的文本生成解码策略。主要内容包括：\n",
    "\n",
    "1. 评估生成文本模型：我们学习了如何使用交叉熵损失和困惑度来评估语言模型的性能。\n",
    "2. 训练LLM：我们实现了一个简单的训练循环，用于在未标记文本数据上预训练语言模型。\n",
    "3. 解码策略：我们探讨了几种关键的解码策略，包括贪婪解码、温度缩放和top-k采样，它们对于控制生成文本的质量和多样性至关重要。\n",
    "4. 模型权重管理：我们学习了如何保存和加载模型权重，以及如何使用预训练的GPT-2模型权重。\n",
    "\n",
    "这些技术为构建和使用大语言模型提供了坚实的基础。在实际应用中，我们可以根据具体需求选择不同规模的预训练模型，并使用适当的解码策略来生成所需类型的文本。\n",
    "\n",
    "在下一章中，我们将探讨如何对预训练模型进行微调，使其适应特定的任务和领域。"
   ]
  },
  {
   "cell_type": "code",
   "execution_count": null,
   "metadata": {},
   "outputs": [],
   "source": []
  }
 ],
 "metadata": {
  "kernelspec": {
   "display_name": "TensorFlow-1.15.0",
   "language": "python",
   "name": "tensorflow-1.15.0"
  },
  "language_info": {
   "codemirror_mode": {
    "name": "ipython",
    "version": 3
   },
   "file_extension": ".py",
   "mimetype": "text/x-python",
   "name": "python",
   "nbconvert_exporter": "python",
   "pygments_lexer": "ipython3",
   "version": "3.7.10"
  }
 },
 "nbformat": 4,
 "nbformat_minor": 4
}
